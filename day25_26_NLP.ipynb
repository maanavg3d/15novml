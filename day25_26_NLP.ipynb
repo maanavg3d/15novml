{
 "cells": [
  {
   "cell_type": "markdown",
   "metadata": {},
   "source": [
    "# Natural Language Processing\n",
    "NLTK - "
   ]
  },
  {
   "cell_type": "code",
   "execution_count": 1,
   "metadata": {},
   "outputs": [],
   "source": [
    "import nltk"
   ]
  },
  {
   "cell_type": "raw",
   "metadata": {},
   "source": [
    "nltk.download()"
   ]
  },
  {
   "cell_type": "code",
   "execution_count": 3,
   "metadata": {},
   "outputs": [],
   "source": [
    "s = '''Python is an interpreted high-level general-purpose programming language. Its design philosophy emphasizes code readability with its use of significant indentation. Its language constructs as well as its object-oriented approach aim to help programmers write clear, logical code for small and large-scale projects.[31]\n",
    "Python is dynamically-typed and garbage-collected. It supports multiple programming paradigms, including structured (particularly, procedural), object-oriented and functional programming. It is often described as a \"batteries included\" language due to its comprehensive standard library.[32][33]\n",
    "Guido van Rossum began working on Python in the late 1980s, as a successor to the ABC programming language, and first released it in 1991 as Python 0.9.0.[34] Python 2.0 was released in 2000 and introduced new features, such as list comprehensions and a cycle-detecting garbage collection system (in addition to reference counting). Python 3.0 was released in 2008 and was a major revision of the language that is not completely backward-compatible. Python 2 was discontinued with version 2.7.18 in 2020.[35]\n",
    "Python consistently ranks as one of the most popular programming languages.'''"
   ]
  },
  {
   "cell_type": "code",
   "execution_count": 4,
   "metadata": {},
   "outputs": [],
   "source": [
    "import pandas as pd"
   ]
  },
  {
   "cell_type": "code",
   "execution_count": 5,
   "metadata": {},
   "outputs": [],
   "source": [
    "df = pd.read_csv('SMSSpamCollection.tsv', sep='\\t', names=['type','message'])"
   ]
  },
  {
   "cell_type": "code",
   "execution_count": 6,
   "metadata": {
    "tags": []
   },
   "outputs": [
    {
     "data": {
      "text/html": [
       "<div>\n",
       "<style scoped>\n",
       "    .dataframe tbody tr th:only-of-type {\n",
       "        vertical-align: middle;\n",
       "    }\n",
       "\n",
       "    .dataframe tbody tr th {\n",
       "        vertical-align: top;\n",
       "    }\n",
       "\n",
       "    .dataframe thead th {\n",
       "        text-align: right;\n",
       "    }\n",
       "</style>\n",
       "<table border=\"1\" class=\"dataframe\">\n",
       "  <thead>\n",
       "    <tr style=\"text-align: right;\">\n",
       "      <th></th>\n",
       "      <th>type</th>\n",
       "      <th>message</th>\n",
       "    </tr>\n",
       "  </thead>\n",
       "  <tbody>\n",
       "    <tr>\n",
       "      <th>0</th>\n",
       "      <td>ham</td>\n",
       "      <td>I've been searching for the right words to tha...</td>\n",
       "    </tr>\n",
       "    <tr>\n",
       "      <th>1</th>\n",
       "      <td>spam</td>\n",
       "      <td>Free entry in 2 a wkly comp to win FA Cup fina...</td>\n",
       "    </tr>\n",
       "    <tr>\n",
       "      <th>2</th>\n",
       "      <td>ham</td>\n",
       "      <td>Nah I don't think he goes to usf, he lives aro...</td>\n",
       "    </tr>\n",
       "    <tr>\n",
       "      <th>3</th>\n",
       "      <td>ham</td>\n",
       "      <td>Even my brother is not like to speak with me. ...</td>\n",
       "    </tr>\n",
       "    <tr>\n",
       "      <th>4</th>\n",
       "      <td>ham</td>\n",
       "      <td>I HAVE A DATE ON SUNDAY WITH WILL!!</td>\n",
       "    </tr>\n",
       "  </tbody>\n",
       "</table>\n",
       "</div>"
      ],
      "text/plain": [
       "   type                                            message\n",
       "0   ham  I've been searching for the right words to tha...\n",
       "1  spam  Free entry in 2 a wkly comp to win FA Cup fina...\n",
       "2   ham  Nah I don't think he goes to usf, he lives aro...\n",
       "3   ham  Even my brother is not like to speak with me. ...\n",
       "4   ham                I HAVE A DATE ON SUNDAY WITH WILL!!"
      ]
     },
     "execution_count": 6,
     "metadata": {},
     "output_type": "execute_result"
    }
   ],
   "source": [
    "df.head()"
   ]
  },
  {
   "cell_type": "code",
   "execution_count": 7,
   "metadata": {
    "tags": []
   },
   "outputs": [
    {
     "name": "stdout",
     "output_type": "stream",
     "text": [
      "<class 'pandas.core.frame.DataFrame'>\n",
      "RangeIndex: 5568 entries, 0 to 5567\n",
      "Data columns (total 2 columns):\n",
      " #   Column   Non-Null Count  Dtype \n",
      "---  ------   --------------  ----- \n",
      " 0   type     5568 non-null   object\n",
      " 1   message  5568 non-null   object\n",
      "dtypes: object(2)\n",
      "memory usage: 87.1+ KB\n"
     ]
    }
   ],
   "source": [
    "df.info()"
   ]
  },
  {
   "cell_type": "code",
   "execution_count": 8,
   "metadata": {
    "tags": []
   },
   "outputs": [
    {
     "data": {
      "text/html": [
       "<div>\n",
       "<style scoped>\n",
       "    .dataframe tbody tr th:only-of-type {\n",
       "        vertical-align: middle;\n",
       "    }\n",
       "\n",
       "    .dataframe tbody tr th {\n",
       "        vertical-align: top;\n",
       "    }\n",
       "\n",
       "    .dataframe thead th {\n",
       "        text-align: right;\n",
       "    }\n",
       "</style>\n",
       "<table border=\"1\" class=\"dataframe\">\n",
       "  <thead>\n",
       "    <tr style=\"text-align: right;\">\n",
       "      <th></th>\n",
       "      <th>type</th>\n",
       "      <th>message</th>\n",
       "    </tr>\n",
       "  </thead>\n",
       "  <tbody>\n",
       "    <tr>\n",
       "      <th>count</th>\n",
       "      <td>5568</td>\n",
       "      <td>5568</td>\n",
       "    </tr>\n",
       "    <tr>\n",
       "      <th>unique</th>\n",
       "      <td>2</td>\n",
       "      <td>5165</td>\n",
       "    </tr>\n",
       "    <tr>\n",
       "      <th>top</th>\n",
       "      <td>ham</td>\n",
       "      <td>Sorry, I'll call later</td>\n",
       "    </tr>\n",
       "    <tr>\n",
       "      <th>freq</th>\n",
       "      <td>4822</td>\n",
       "      <td>30</td>\n",
       "    </tr>\n",
       "  </tbody>\n",
       "</table>\n",
       "</div>"
      ],
      "text/plain": [
       "        type                 message\n",
       "count   5568                    5568\n",
       "unique     2                    5165\n",
       "top      ham  Sorry, I'll call later\n",
       "freq    4822                      30"
      ]
     },
     "execution_count": 8,
     "metadata": {},
     "output_type": "execute_result"
    }
   ],
   "source": [
    "df.describe()"
   ]
  },
  {
   "cell_type": "code",
   "execution_count": 9,
   "metadata": {
    "tags": []
   },
   "outputs": [
    {
     "data": {
      "text/html": [
       "<div>\n",
       "<style scoped>\n",
       "    .dataframe tbody tr th:only-of-type {\n",
       "        vertical-align: middle;\n",
       "    }\n",
       "\n",
       "    .dataframe tbody tr th {\n",
       "        vertical-align: top;\n",
       "    }\n",
       "\n",
       "    .dataframe thead tr th {\n",
       "        text-align: left;\n",
       "    }\n",
       "\n",
       "    .dataframe thead tr:last-of-type th {\n",
       "        text-align: right;\n",
       "    }\n",
       "</style>\n",
       "<table border=\"1\" class=\"dataframe\">\n",
       "  <thead>\n",
       "    <tr>\n",
       "      <th></th>\n",
       "      <th colspan=\"4\" halign=\"left\">message</th>\n",
       "    </tr>\n",
       "    <tr>\n",
       "      <th></th>\n",
       "      <th>count</th>\n",
       "      <th>unique</th>\n",
       "      <th>top</th>\n",
       "      <th>freq</th>\n",
       "    </tr>\n",
       "    <tr>\n",
       "      <th>type</th>\n",
       "      <th></th>\n",
       "      <th></th>\n",
       "      <th></th>\n",
       "      <th></th>\n",
       "    </tr>\n",
       "  </thead>\n",
       "  <tbody>\n",
       "    <tr>\n",
       "      <th>ham</th>\n",
       "      <td>4822</td>\n",
       "      <td>4513</td>\n",
       "      <td>Sorry, I'll call later</td>\n",
       "      <td>30</td>\n",
       "    </tr>\n",
       "    <tr>\n",
       "      <th>spam</th>\n",
       "      <td>746</td>\n",
       "      <td>652</td>\n",
       "      <td>Please call our customer service representativ...</td>\n",
       "      <td>4</td>\n",
       "    </tr>\n",
       "  </tbody>\n",
       "</table>\n",
       "</div>"
      ],
      "text/plain": [
       "     message                                                               \n",
       "       count unique                                                top freq\n",
       "type                                                                       \n",
       "ham     4822   4513                             Sorry, I'll call later   30\n",
       "spam     746    652  Please call our customer service representativ...    4"
      ]
     },
     "execution_count": 9,
     "metadata": {},
     "output_type": "execute_result"
    }
   ],
   "source": [
    "df.groupby('type').describe()"
   ]
  },
  {
   "cell_type": "code",
   "execution_count": 10,
   "metadata": {},
   "outputs": [
    {
     "data": {
      "text/plain": [
       "196"
      ]
     },
     "execution_count": 10,
     "metadata": {},
     "output_type": "execute_result"
    }
   ],
   "source": [
    "len(df['message'][0])"
   ]
  },
  {
   "cell_type": "raw",
   "metadata": {},
   "source": [
    "df['message'].str.len()"
   ]
  },
  {
   "cell_type": "raw",
   "metadata": {},
   "source": [
    "df['message'].apply(lambda x:len(x))"
   ]
  },
  {
   "cell_type": "code",
   "execution_count": 11,
   "metadata": {},
   "outputs": [],
   "source": [
    "df['length'] = df['message'].str.len()"
   ]
  },
  {
   "cell_type": "code",
   "execution_count": 12,
   "metadata": {
    "tags": []
   },
   "outputs": [
    {
     "data": {
      "text/html": [
       "<div>\n",
       "<style scoped>\n",
       "    .dataframe tbody tr th:only-of-type {\n",
       "        vertical-align: middle;\n",
       "    }\n",
       "\n",
       "    .dataframe tbody tr th {\n",
       "        vertical-align: top;\n",
       "    }\n",
       "\n",
       "    .dataframe thead th {\n",
       "        text-align: right;\n",
       "    }\n",
       "</style>\n",
       "<table border=\"1\" class=\"dataframe\">\n",
       "  <thead>\n",
       "    <tr style=\"text-align: right;\">\n",
       "      <th></th>\n",
       "      <th>type</th>\n",
       "      <th>message</th>\n",
       "      <th>length</th>\n",
       "    </tr>\n",
       "  </thead>\n",
       "  <tbody>\n",
       "    <tr>\n",
       "      <th>0</th>\n",
       "      <td>ham</td>\n",
       "      <td>I've been searching for the right words to tha...</td>\n",
       "      <td>196</td>\n",
       "    </tr>\n",
       "    <tr>\n",
       "      <th>1</th>\n",
       "      <td>spam</td>\n",
       "      <td>Free entry in 2 a wkly comp to win FA Cup fina...</td>\n",
       "      <td>155</td>\n",
       "    </tr>\n",
       "    <tr>\n",
       "      <th>2</th>\n",
       "      <td>ham</td>\n",
       "      <td>Nah I don't think he goes to usf, he lives aro...</td>\n",
       "      <td>61</td>\n",
       "    </tr>\n",
       "    <tr>\n",
       "      <th>3</th>\n",
       "      <td>ham</td>\n",
       "      <td>Even my brother is not like to speak with me. ...</td>\n",
       "      <td>77</td>\n",
       "    </tr>\n",
       "    <tr>\n",
       "      <th>4</th>\n",
       "      <td>ham</td>\n",
       "      <td>I HAVE A DATE ON SUNDAY WITH WILL!!</td>\n",
       "      <td>35</td>\n",
       "    </tr>\n",
       "  </tbody>\n",
       "</table>\n",
       "</div>"
      ],
      "text/plain": [
       "   type                                            message  length\n",
       "0   ham  I've been searching for the right words to tha...     196\n",
       "1  spam  Free entry in 2 a wkly comp to win FA Cup fina...     155\n",
       "2   ham  Nah I don't think he goes to usf, he lives aro...      61\n",
       "3   ham  Even my brother is not like to speak with me. ...      77\n",
       "4   ham                I HAVE A DATE ON SUNDAY WITH WILL!!      35"
      ]
     },
     "execution_count": 12,
     "metadata": {},
     "output_type": "execute_result"
    }
   ],
   "source": [
    "df.head()"
   ]
  },
  {
   "cell_type": "code",
   "execution_count": 13,
   "metadata": {},
   "outputs": [],
   "source": [
    "import seaborn as sns\n",
    "import matplotlib.pyplot as plt"
   ]
  },
  {
   "cell_type": "code",
   "execution_count": 14,
   "metadata": {},
   "outputs": [],
   "source": [
    "sns.set_style('whitegrid')\n",
    "sns.set_palette('Set1')"
   ]
  },
  {
   "cell_type": "code",
   "execution_count": 15,
   "metadata": {},
   "outputs": [
    {
     "data": {
      "image/png": "[encoded data removed]",
      "text/plain": [
       "<Figure size 1500.62x360 with 1 Axes>"
      ]
     },
     "metadata": {},
     "output_type": "display_data"
    }
   ],
   "source": [
    "s = sns.displot(x='length', data=df, hue='type',aspect=4)"
   ]
  },
  {
   "cell_type": "code",
   "execution_count": 16,
   "metadata": {},
   "outputs": [
    {
     "data": {
      "text/plain": [
       "1081"
      ]
     },
     "execution_count": 16,
     "metadata": {},
     "output_type": "execute_result"
    }
   ],
   "source": [
    "df['length'].argmax()"
   ]
  },
  {
   "cell_type": "code",
   "execution_count": 17,
   "metadata": {},
   "outputs": [
    {
     "data": {
      "text/plain": [
       "910"
      ]
     },
     "execution_count": 17,
     "metadata": {},
     "output_type": "execute_result"
    }
   ],
   "source": [
    "df['length'].max()"
   ]
  },
  {
   "cell_type": "code",
   "execution_count": 18,
   "metadata": {},
   "outputs": [
    {
     "data": {
      "text/plain": [
       "\"For me the love should start with attraction.i should feel that I need her every time around me.she should be the first thing which comes in my thoughts.I would start the day and end it with her.she should be there every time I dream.love will be then when my every breath has her name.my life should happen around her.my life will be named to her.I would cry for her.will give all my happiness and take all her sorrows.I will be ready to fight with anyone for her.I will be in love when I will be doing the craziest things for her.love will be when I don't have to proove anyone that my girl is the most beautiful lady on the whole planet.I will always be singing praises for her.love will be when I start up making chicken curry and end up makiing sambar.life will be the most beautiful then.will get every morning and thank god for the day because she is with me.I would like to say a lot..will tell later..\""
      ]
     },
     "execution_count": 18,
     "metadata": {},
     "output_type": "execute_result"
    }
   ],
   "source": [
    "df['message'][1081]"
   ]
  },
  {
   "cell_type": "code",
   "execution_count": 19,
   "metadata": {
    "tags": []
   },
   "outputs": [
    {
     "data": {
      "text/html": [
       "<div>\n",
       "<style scoped>\n",
       "    .dataframe tbody tr th:only-of-type {\n",
       "        vertical-align: middle;\n",
       "    }\n",
       "\n",
       "    .dataframe tbody tr th {\n",
       "        vertical-align: top;\n",
       "    }\n",
       "\n",
       "    .dataframe thead th {\n",
       "        text-align: right;\n",
       "    }\n",
       "</style>\n",
       "<table border=\"1\" class=\"dataframe\">\n",
       "  <thead>\n",
       "    <tr style=\"text-align: right;\">\n",
       "      <th></th>\n",
       "      <th>type</th>\n",
       "      <th>message</th>\n",
       "      <th>length</th>\n",
       "    </tr>\n",
       "  </thead>\n",
       "  <tbody>\n",
       "    <tr>\n",
       "      <th>1081</th>\n",
       "      <td>ham</td>\n",
       "      <td>For me the love should start with attraction.i...</td>\n",
       "      <td>910</td>\n",
       "    </tr>\n",
       "    <tr>\n",
       "      <th>1859</th>\n",
       "      <td>ham</td>\n",
       "      <td>The last thing i ever wanted to do was hurt yo...</td>\n",
       "      <td>790</td>\n",
       "    </tr>\n",
       "    <tr>\n",
       "      <th>2430</th>\n",
       "      <td>ham</td>\n",
       "      <td>Indians r poor but India is not a poor country...</td>\n",
       "      <td>629</td>\n",
       "    </tr>\n",
       "    <tr>\n",
       "      <th>1575</th>\n",
       "      <td>ham</td>\n",
       "      <td>How to Make a girl Happy? It's not at all diff...</td>\n",
       "      <td>611</td>\n",
       "    </tr>\n",
       "    <tr>\n",
       "      <th>2845</th>\n",
       "      <td>ham</td>\n",
       "      <td>Sad story of a Man - Last week was my b'day. M...</td>\n",
       "      <td>588</td>\n",
       "    </tr>\n",
       "    <tr>\n",
       "      <th>2154</th>\n",
       "      <td>ham</td>\n",
       "      <td>Sad story of a Man - Last week was my b'day. M...</td>\n",
       "      <td>588</td>\n",
       "    </tr>\n",
       "    <tr>\n",
       "      <th>2376</th>\n",
       "      <td>ham</td>\n",
       "      <td>Good evening Sir, hope you are having a nice d...</td>\n",
       "      <td>482</td>\n",
       "    </tr>\n",
       "    <tr>\n",
       "      <th>3013</th>\n",
       "      <td>ham</td>\n",
       "      <td>&amp;lt;#&amp;gt;  is fast approaching. So, Wish u a v...</td>\n",
       "      <td>461</td>\n",
       "    </tr>\n",
       "    <tr>\n",
       "      <th>1509</th>\n",
       "      <td>ham</td>\n",
       "      <td>Hey sweet, I was wondering when you had a mome...</td>\n",
       "      <td>458</td>\n",
       "    </tr>\n",
       "    <tr>\n",
       "      <th>5100</th>\n",
       "      <td>ham</td>\n",
       "      <td>A Boy loved a gal. He propsd bt she didnt mind...</td>\n",
       "      <td>446</td>\n",
       "    </tr>\n",
       "    <tr>\n",
       "      <th>2366</th>\n",
       "      <td>ham</td>\n",
       "      <td>A Boy loved a gal. He propsd bt she didnt mind...</td>\n",
       "      <td>446</td>\n",
       "    </tr>\n",
       "    <tr>\n",
       "      <th>2677</th>\n",
       "      <td>ham</td>\n",
       "      <td>Solve d Case : A Man Was Found Murdered On  &amp;l...</td>\n",
       "      <td>444</td>\n",
       "    </tr>\n",
       "    <tr>\n",
       "      <th>3276</th>\n",
       "      <td>ham</td>\n",
       "      <td>Solve d Case : A Man Was Found Murdered On  &amp;l...</td>\n",
       "      <td>444</td>\n",
       "    </tr>\n",
       "    <tr>\n",
       "      <th>2404</th>\n",
       "      <td>ham</td>\n",
       "      <td>Solve d Case : A Man Was Found Murdered On  &amp;l...</td>\n",
       "      <td>444</td>\n",
       "    </tr>\n",
       "    <tr>\n",
       "      <th>2006</th>\n",
       "      <td>ham</td>\n",
       "      <td>I can't keep going through this. It was never ...</td>\n",
       "      <td>431</td>\n",
       "    </tr>\n",
       "    <tr>\n",
       "      <th>4901</th>\n",
       "      <td>ham</td>\n",
       "      <td>no, i *didn't* mean to post it. I wrote it, an...</td>\n",
       "      <td>415</td>\n",
       "    </tr>\n",
       "    <tr>\n",
       "      <th>4395</th>\n",
       "      <td>ham</td>\n",
       "      <td>Can you tell Shola to please go to college of ...</td>\n",
       "      <td>408</td>\n",
       "    </tr>\n",
       "    <tr>\n",
       "      <th>151</th>\n",
       "      <td>ham</td>\n",
       "      <td>You are everywhere dirt, on the floor, the win...</td>\n",
       "      <td>384</td>\n",
       "    </tr>\n",
       "    <tr>\n",
       "      <th>2130</th>\n",
       "      <td>ham</td>\n",
       "      <td>Spoke with uncle john today. He strongly feels...</td>\n",
       "      <td>382</td>\n",
       "    </tr>\n",
       "    <tr>\n",
       "      <th>4448</th>\n",
       "      <td>ham</td>\n",
       "      <td>And that is the problem. You walk around in \"j...</td>\n",
       "      <td>379</td>\n",
       "    </tr>\n",
       "  </tbody>\n",
       "</table>\n",
       "</div>"
      ],
      "text/plain": [
       "     type                                            message  length\n",
       "1081  ham  For me the love should start with attraction.i...     910\n",
       "1859  ham  The last thing i ever wanted to do was hurt yo...     790\n",
       "2430  ham  Indians r poor but India is not a poor country...     629\n",
       "1575  ham  How to Make a girl Happy? It's not at all diff...     611\n",
       "2845  ham  Sad story of a Man - Last week was my b'day. M...     588\n",
       "2154  ham  Sad story of a Man - Last week was my b'day. M...     588\n",
       "2376  ham  Good evening Sir, hope you are having a nice d...     482\n",
       "3013  ham  &lt;#&gt;  is fast approaching. So, Wish u a v...     461\n",
       "1509  ham  Hey sweet, I was wondering when you had a mome...     458\n",
       "5100  ham  A Boy loved a gal. He propsd bt she didnt mind...     446\n",
       "2366  ham  A Boy loved a gal. He propsd bt she didnt mind...     446\n",
       "2677  ham  Solve d Case : A Man Was Found Murdered On  &l...     444\n",
       "3276  ham  Solve d Case : A Man Was Found Murdered On  &l...     444\n",
       "2404  ham  Solve d Case : A Man Was Found Murdered On  &l...     444\n",
       "2006  ham  I can't keep going through this. It was never ...     431\n",
       "4901  ham  no, i *didn't* mean to post it. I wrote it, an...     415\n",
       "4395  ham  Can you tell Shola to please go to college of ...     408\n",
       "151   ham  You are everywhere dirt, on the floor, the win...     384\n",
       "2130  ham  Spoke with uncle john today. He strongly feels...     382\n",
       "4448  ham  And that is the problem. You walk around in \"j...     379"
      ]
     },
     "execution_count": 19,
     "metadata": {},
     "output_type": "execute_result"
    }
   ],
   "source": [
    "df.sort_values(by='length',ascending=False).head(20)"
   ]
  },
  {
   "cell_type": "raw",
   "metadata": {},
   "source": [
    "Steps for NLP\n",
    "1. Sentence Tokenization\n",
    "2. Word Tokenization\n",
    "3. Lemma/Stemming/StopWordsRemoval/PunctuationsRemoval/Regex\n",
    "4. Bag of Words (BOW)\n",
    "5. Term Frequency - Inverse Document Frequency\n",
    "\n",
    "6. Machine Learning Model"
   ]
  },
  {
   "cell_type": "code",
   "execution_count": 20,
   "metadata": {},
   "outputs": [],
   "source": [
    "sample = df['message'][1859]"
   ]
  },
  {
   "cell_type": "code",
   "execution_count": 21,
   "metadata": {},
   "outputs": [
    {
     "data": {
      "text/plain": [
       "\"The last thing i ever wanted to do was hurt you. And i didn't think it would have. You'd laugh, be embarassed, delete the tag and keep going. But as far as i knew, it wasn't even up. The fact that you even felt like i would do it to hurt you shows you really don't know me at all. It was messy wednesday, but it wasn't bad. The problem i have with it is you HAVE the time to clean it, but you choose not to. You skype, you take pictures, you sleep, you want to go out. I don't mind a few things here and there, but when you don't make the bed, when you throw laundry on top of it, when i can't have a friend in the house because i'm embarassed that there's underwear and bras strewn on the bed, pillows on the floor, that's something else. You used to be good about at least making the bed.\""
      ]
     },
     "execution_count": 21,
     "metadata": {},
     "output_type": "execute_result"
    }
   ],
   "source": [
    "sample"
   ]
  },
  {
   "cell_type": "code",
   "execution_count": 22,
   "metadata": {},
   "outputs": [],
   "source": [
    "from nltk.corpus import stopwords as sw\n",
    "from string import punctuation as punc"
   ]
  },
  {
   "cell_type": "code",
   "execution_count": 23,
   "metadata": {},
   "outputs": [
    {
     "data": {
      "text/plain": [
       "'!\"#$%&\\'()*+,-./:;<=>?@[\\\\]^_`{|}~'"
      ]
     },
     "execution_count": 23,
     "metadata": {},
     "output_type": "execute_result"
    }
   ],
   "source": [
    "punc"
   ]
  },
  {
   "cell_type": "code",
   "execution_count": 24,
   "metadata": {
    "scrolled": true,
    "tags": []
   },
   "outputs": [
    {
     "data": {
      "text/plain": [
       "['i',\n",
       " 'me',\n",
       " 'my',\n",
       " 'myself',\n",
       " 'we',\n",
       " 'our',\n",
       " 'ours',\n",
       " 'ourselves',\n",
       " 'you',\n",
       " \"you're\",\n",
       " \"you've\",\n",
       " \"you'll\",\n",
       " \"you'd\",\n",
       " 'your',\n",
       " 'yours',\n",
       " 'yourself',\n",
       " 'yourselves',\n",
       " 'he',\n",
       " 'him',\n",
       " 'his',\n",
       " 'himself',\n",
       " 'she',\n",
       " \"she's\",\n",
       " 'her',\n",
       " 'hers',\n",
       " 'herself',\n",
       " 'it',\n",
       " \"it's\",\n",
       " 'its',\n",
       " 'itself',\n",
       " 'they',\n",
       " 'them',\n",
       " 'their',\n",
       " 'theirs',\n",
       " 'themselves',\n",
       " 'what',\n",
       " 'which',\n",
       " 'who',\n",
       " 'whom',\n",
       " 'this',\n",
       " 'that',\n",
       " \"that'll\",\n",
       " 'these',\n",
       " 'those',\n",
       " 'am',\n",
       " 'is',\n",
       " 'are',\n",
       " 'was',\n",
       " 'were',\n",
       " 'be',\n",
       " 'been',\n",
       " 'being',\n",
       " 'have',\n",
       " 'has',\n",
       " 'had',\n",
       " 'having',\n",
       " 'do',\n",
       " 'does',\n",
       " 'did',\n",
       " 'doing',\n",
       " 'a',\n",
       " 'an',\n",
       " 'the',\n",
       " 'and',\n",
       " 'but',\n",
       " 'if',\n",
       " 'or',\n",
       " 'because',\n",
       " 'as',\n",
       " 'until',\n",
       " 'while',\n",
       " 'of',\n",
       " 'at',\n",
       " 'by',\n",
       " 'for',\n",
       " 'with',\n",
       " 'about',\n",
       " 'against',\n",
       " 'between',\n",
       " 'into',\n",
       " 'through',\n",
       " 'during',\n",
       " 'before',\n",
       " 'after',\n",
       " 'above',\n",
       " 'below',\n",
       " 'to',\n",
       " 'from',\n",
       " 'up',\n",
       " 'down',\n",
       " 'in',\n",
       " 'out',\n",
       " 'on',\n",
       " 'off',\n",
       " 'over',\n",
       " 'under',\n",
       " 'again',\n",
       " 'further',\n",
       " 'then',\n",
       " 'once',\n",
       " 'here',\n",
       " 'there',\n",
       " 'when',\n",
       " 'where',\n",
       " 'why',\n",
       " 'how',\n",
       " 'all',\n",
       " 'any',\n",
       " 'both',\n",
       " 'each',\n",
       " 'few',\n",
       " 'more',\n",
       " 'most',\n",
       " 'other',\n",
       " 'some',\n",
       " 'such',\n",
       " 'no',\n",
       " 'nor',\n",
       " 'not',\n",
       " 'only',\n",
       " 'own',\n",
       " 'same',\n",
       " 'so',\n",
       " 'than',\n",
       " 'too',\n",
       " 'very',\n",
       " 's',\n",
       " 't',\n",
       " 'can',\n",
       " 'will',\n",
       " 'just',\n",
       " 'don',\n",
       " \"don't\",\n",
       " 'should',\n",
       " \"should've\",\n",
       " 'now',\n",
       " 'd',\n",
       " 'll',\n",
       " 'm',\n",
       " 'o',\n",
       " 're',\n",
       " 've',\n",
       " 'y',\n",
       " 'ain',\n",
       " 'aren',\n",
       " \"aren't\",\n",
       " 'couldn',\n",
       " \"couldn't\",\n",
       " 'didn',\n",
       " \"didn't\",\n",
       " 'doesn',\n",
       " \"doesn't\",\n",
       " 'hadn',\n",
       " \"hadn't\",\n",
       " 'hasn',\n",
       " \"hasn't\",\n",
       " 'haven',\n",
       " \"haven't\",\n",
       " 'isn',\n",
       " \"isn't\",\n",
       " 'ma',\n",
       " 'mightn',\n",
       " \"mightn't\",\n",
       " 'mustn',\n",
       " \"mustn't\",\n",
       " 'needn',\n",
       " \"needn't\",\n",
       " 'shan',\n",
       " \"shan't\",\n",
       " 'shouldn',\n",
       " \"shouldn't\",\n",
       " 'wasn',\n",
       " \"wasn't\",\n",
       " 'weren',\n",
       " \"weren't\",\n",
       " 'won',\n",
       " \"won't\",\n",
       " 'wouldn',\n",
       " \"wouldn't\"]"
      ]
     },
     "execution_count": 24,
     "metadata": {},
     "output_type": "execute_result"
    }
   ],
   "source": [
    "sw.words('english')"
   ]
  },
  {
   "cell_type": "code",
   "execution_count": 25,
   "metadata": {},
   "outputs": [],
   "source": [
    "def text_preprocess(txt):\n",
    "    sentences = nltk.sent_tokenize(txt.lower())\n",
    "    words = []\n",
    "    for sentence in sentences:\n",
    "        s = ' '.join(i for i in sentence.split() if i not in sw.words('english'))\n",
    "        words += [i.strip(\"'\") for i in nltk.word_tokenize(s) if i not in sw.words('english') and i not in punc]\n",
    "    return words\n",
    "#     jw = ' '.join(words)\n",
    "#     jw = ''.join( i for i in jw if i.isalpha() or i==' ')\n",
    "#     return jw"
   ]
  },
  {
   "cell_type": "code",
   "execution_count": 26,
   "metadata": {
    "jupyter": {
     "source_hidden": true
    },
    "scrolled": true,
    "tags": []
   },
   "outputs": [
    {
     "data": {
      "text/plain": [
       "['last',\n",
       " 'thing',\n",
       " 'ever',\n",
       " 'wanted',\n",
       " 'hurt',\n",
       " 'think',\n",
       " 'would',\n",
       " 'laugh',\n",
       " 'embarassed',\n",
       " 'delete',\n",
       " 'tag',\n",
       " 'keep',\n",
       " 'going',\n",
       " 'far',\n",
       " 'knew',\n",
       " 'even',\n",
       " 'fact',\n",
       " 'even',\n",
       " 'felt',\n",
       " 'like',\n",
       " 'would',\n",
       " 'hurt',\n",
       " 'shows',\n",
       " 'really',\n",
       " 'know',\n",
       " 'messy',\n",
       " 'wednesday',\n",
       " 'bad',\n",
       " 'problem',\n",
       " 'time',\n",
       " 'clean',\n",
       " 'choose',\n",
       " 'skype',\n",
       " 'take',\n",
       " 'pictures',\n",
       " 'sleep',\n",
       " 'want',\n",
       " 'go',\n",
       " 'mind',\n",
       " 'things',\n",
       " 'make',\n",
       " 'bed',\n",
       " 'throw',\n",
       " 'laundry',\n",
       " 'top',\n",
       " 'ca',\n",
       " \"n't\",\n",
       " 'friend',\n",
       " 'house',\n",
       " 'm',\n",
       " 'embarassed',\n",
       " 's',\n",
       " 'underwear',\n",
       " 'bras',\n",
       " 'strewn',\n",
       " 'bed',\n",
       " 'pillows',\n",
       " 'floor',\n",
       " 's',\n",
       " 'something',\n",
       " 'else',\n",
       " 'used',\n",
       " 'good',\n",
       " 'least',\n",
       " 'making',\n",
       " 'bed']"
      ]
     },
     "execution_count": 26,
     "metadata": {},
     "output_type": "execute_result"
    }
   ],
   "source": [
    "text_preprocess(sample)"
   ]
  },
  {
   "cell_type": "raw",
   "metadata": {
    "jupyter": {
     "source_hidden": true
    },
    "tags": []
   },
   "source": [
    "text_preprocess(sample)\n",
    "\n",
    "['last', 'thing', 'ever', 'wanted', 'hurt', 'think', 'would', 'laugh', 'embarassed', 'delete', 'tag', 'keep', 'going', 'far', 'knew', 'even', 'fact', 'even', 'felt', 'like', 'would', 'hurt', 'shows', 'really', 'know', 'messy', 'wednesday', 'bad', 'problem', 'time', 'clean', 'choose', 'skype', 'take', 'pictures', 'sleep', 'want', 'go', 'mind', 'things', 'make', 'bed', 'throw', 'laundry', 'top', 'ca', \"n't\", 'friend', 'house', 'm', 'embarassed', 's', 'underwear', 'bras', 'strewn', 'bed', 'pillows', 'floor', 's', 'something', 'else', 'used', 'good', 'least', 'making', 'bed']"
   ]
  },
  {
   "cell_type": "raw",
   "metadata": {
    "jupyter": {
     "source_hidden": true
    },
    "tags": []
   },
   "source": [
    "text_preprocess(sample)\n",
    "['last', 'thing', 'ever', 'wanted', 'hurt', 'you', '.', 'think', 'would', 'have', '.', 'laugh', ',', 'embarassed', ',', 'delete', 'tag', 'keep', 'going', '.', 'far', 'knew', ',', 'even', 'up', '.', 'fact', 'even', 'felt', 'like', 'would', 'hurt', 'shows', 'really', 'know', 'all', '.', 'messy', 'wednesday', ',', 'bad', '.', 'problem', 'time', 'clean', 'it', ',', 'choose', 'to', '.', 'skype', ',', 'take', 'pictures', ',', 'sleep', ',', 'want', 'go', 'out', '.', 'mind', 'things', 'there', ',', 'make', 'bed', ',', 'throw', 'laundry', 'top', 'it', ',', 'ca', \"n't\", 'friend', 'house', 'i', \"'m\", 'embarassed', 'there', \"'s\", 'underwear', 'bras', 'strewn', 'bed', ',', 'pillows', 'floor', ',', 'that', \"'s\", 'something', 'else', '.', 'used', 'good', 'least', 'making', 'bed', '.']"
   ]
  },
  {
   "cell_type": "raw",
   "metadata": {
    "jupyter": {
     "source_hidden": true
    },
    "tags": []
   },
   "source": [
    "text_preprocess(sample)\n",
    "['last', 'thing', 'ever', 'wanted', 'hurt', 'you.', 'think', 'would', 'have.', 'laugh,', 'embarassed,', 'delete', 'tag', 'keep', 'going.', 'far', 'knew,', 'even', 'up.', 'fact', 'even', 'felt', 'like', 'would', 'hurt', 'shows', 'really', 'know', 'all.', 'messy', 'wednesday,', 'bad.', 'problem', 'time', 'clean', 'it,', 'choose', 'to.', 'skype,', 'take', 'pictures,', 'sleep,', 'want', 'go', 'out.', 'mind', 'things', 'there,', 'make', 'bed,', 'throw', 'laundry', 'top', 'it,', \"can't\", 'friend', 'house', \"i'm\", 'embarassed', \"there's\", 'underwear', 'bras', 'strewn', 'bed,', 'pillows', 'floor,', \"that's\", 'something', 'else.', 'used', 'good', 'least', 'making', 'bed.']"
   ]
  },
  {
   "cell_type": "raw",
   "metadata": {
    "jupyter": {
     "source_hidden": true
    },
    "tags": []
   },
   "source": [
    "text_preprocess(sample)\n",
    "['the', 'last', 'thing', 'i', 'ever', 'wanted', 'to', 'do', 'was', 'hurt', 'you', '.', 'and', 'i', 'did', \"n't\", 'think', 'it', 'would', 'have', '.', 'you', \"'d\", 'laugh', ',', 'be', 'embarassed', ',', 'delete', 'the', 'tag', 'and', 'keep', 'going', '.', 'but', 'as', 'far', 'as', 'i', 'knew', ',', 'it', 'was', \"n't\", 'even', 'up', '.', 'the', 'fact', 'that', 'you', 'even', 'felt', 'like', 'i', 'would', 'do', 'it', 'to', 'hurt', 'you', 'shows', 'you', 'really', 'do', \"n't\", 'know', 'me', 'at', 'all', '.', 'it', 'was', 'messy', 'wednesday', ',', 'but', 'it', 'was', \"n't\", 'bad', '.', 'the', 'problem', 'i', 'have', 'with', 'it', 'is', 'you', 'have', 'the', 'time', 'to', 'clean', 'it', ',', 'but', 'you', 'choose', 'not', 'to', '.', 'you', 'skype', ',', 'you', 'take', 'pictures', ',', 'you', 'sleep', ',', 'you', 'want', 'to', 'go', 'out', '.', 'i', 'do', \"n't\", 'mind', 'a', 'few', 'things', 'here', 'and', 'there', ',', 'but', 'when', 'you', 'do', \"n't\", 'make', 'the', 'bed', ',', 'when', 'you', 'throw', 'laundry', 'on', 'top', 'of', 'it', ',', 'when', 'i', 'ca', \"n't\", 'have', 'a', 'friend', 'in', 'the', 'house', 'because', 'i', \"'m\", 'embarassed', 'that', 'there', \"'s\", 'underwear', 'and', 'bras', 'strewn', 'on', 'the', 'bed', ',', 'pillows', 'on', 'the', 'floor', ',', 'that', \"'s\", 'something', 'else', '.', 'you', 'used', 'to', 'be', 'good', 'about', 'at', 'least', 'making', 'the', 'bed', '.']"
   ]
  },
  {
   "cell_type": "code",
   "execution_count": 27,
   "metadata": {
    "jupyter": {
     "source_hidden": true
    },
    "tags": []
   },
   "outputs": [
    {
     "data": {
      "text/plain": [
       "False"
      ]
     },
     "execution_count": 27,
     "metadata": {},
     "output_type": "execute_result"
    }
   ],
   "source": [
    "\"n't\" in sw.words('english')"
   ]
  },
  {
   "cell_type": "code",
   "execution_count": 28,
   "metadata": {
    "jupyter": {
     "source_hidden": true
    },
    "tags": []
   },
   "outputs": [
    {
     "data": {
      "text/plain": [
       "True"
      ]
     },
     "execution_count": 28,
     "metadata": {},
     "output_type": "execute_result"
    }
   ],
   "source": [
    "'we' in sw.words('english')"
   ]
  },
  {
   "cell_type": "code",
   "execution_count": 29,
   "metadata": {},
   "outputs": [],
   "source": [
    "tp = df['message'].apply(text_preprocess)"
   ]
  },
  {
   "cell_type": "code",
   "execution_count": 30,
   "metadata": {
    "jupyter": {
     "source_hidden": true
    },
    "tags": []
   },
   "outputs": [
    {
     "data": {
      "text/plain": [
       "0    [ve, searching, right, words, thank, breather,...\n",
       "1    [free, entry, 2, wkly, comp, win, fa, cup, fin...\n",
       "2       [nah, think, goes, usf, lives, around, though]\n",
       "3    [even, brother, like, speak, treat, like, aids...\n",
       "4                                       [date, sunday]\n",
       "Name: message, dtype: object"
      ]
     },
     "execution_count": 30,
     "metadata": {},
     "output_type": "execute_result"
    }
   ],
   "source": [
    "tp.head()"
   ]
  },
  {
   "cell_type": "code",
   "execution_count": 31,
   "metadata": {},
   "outputs": [],
   "source": [
    "from sklearn.feature_extraction.text import CountVectorizer"
   ]
  },
  {
   "cell_type": "code",
   "execution_count": 32,
   "metadata": {},
   "outputs": [],
   "source": [
    "cv = CountVectorizer()"
   ]
  },
  {
   "cell_type": "code",
   "execution_count": 33,
   "metadata": {},
   "outputs": [],
   "source": [
    "bow = cv.fit_transform(tp.apply(lambda x: ' '.join(x)))\n",
    "# bow = cv.fit_transform(tp)"
   ]
  },
  {
   "cell_type": "code",
   "execution_count": 34,
   "metadata": {
    "jupyter": {
     "source_hidden": true
    },
    "tags": []
   },
   "outputs": [
    {
     "data": {
      "text/plain": [
       "<5568x8642 sparse matrix of type '<class 'numpy.int64'>'\n",
       "\twith 48093 stored elements in Compressed Sparse Row format>"
      ]
     },
     "execution_count": 34,
     "metadata": {},
     "output_type": "execute_result"
    }
   ],
   "source": [
    "bow"
   ]
  },
  {
   "cell_type": "code",
   "execution_count": 35,
   "metadata": {},
   "outputs": [],
   "source": [
    "bow_df = pd.DataFrame(bow.toarray(), columns = cv.get_feature_names())"
   ]
  },
  {
   "cell_type": "code",
   "execution_count": 36,
   "metadata": {
    "jupyter": {
     "source_hidden": true
    },
    "scrolled": true,
    "tags": []
   },
   "outputs": [
    {
     "data": {
      "text/html": [
       "<div>\n",
       "<style scoped>\n",
       "    .dataframe tbody tr th:only-of-type {\n",
       "        vertical-align: middle;\n",
       "    }\n",
       "\n",
       "    .dataframe tbody tr th {\n",
       "        vertical-align: top;\n",
       "    }\n",
       "\n",
       "    .dataframe thead th {\n",
       "        text-align: right;\n",
       "    }\n",
       "</style>\n",
       "<table border=\"1\" class=\"dataframe\">\n",
       "  <thead>\n",
       "    <tr style=\"text-align: right;\">\n",
       "      <th></th>\n",
       "      <th>00</th>\n",
       "      <th>000</th>\n",
       "      <th>000pes</th>\n",
       "      <th>008704050406</th>\n",
       "      <th>0089</th>\n",
       "      <th>0121</th>\n",
       "      <th>01223585236</th>\n",
       "      <th>01223585334</th>\n",
       "      <th>0125698789</th>\n",
       "      <th>02</th>\n",
       "      <th>...</th>\n",
       "      <th>zhong</th>\n",
       "      <th>zindgi</th>\n",
       "      <th>zoe</th>\n",
       "      <th>zogtorius</th>\n",
       "      <th>zoom</th>\n",
       "      <th>zouk</th>\n",
       "      <th>zyada</th>\n",
       "      <th>èn</th>\n",
       "      <th>ú1</th>\n",
       "      <th>〨ud</th>\n",
       "    </tr>\n",
       "  </thead>\n",
       "  <tbody>\n",
       "    <tr>\n",
       "      <th>0</th>\n",
       "      <td>0</td>\n",
       "      <td>0</td>\n",
       "      <td>0</td>\n",
       "      <td>0</td>\n",
       "      <td>0</td>\n",
       "      <td>0</td>\n",
       "      <td>0</td>\n",
       "      <td>0</td>\n",
       "      <td>0</td>\n",
       "      <td>0</td>\n",
       "      <td>...</td>\n",
       "      <td>0</td>\n",
       "      <td>0</td>\n",
       "      <td>0</td>\n",
       "      <td>0</td>\n",
       "      <td>0</td>\n",
       "      <td>0</td>\n",
       "      <td>0</td>\n",
       "      <td>0</td>\n",
       "      <td>0</td>\n",
       "      <td>0</td>\n",
       "    </tr>\n",
       "    <tr>\n",
       "      <th>1</th>\n",
       "      <td>0</td>\n",
       "      <td>0</td>\n",
       "      <td>0</td>\n",
       "      <td>0</td>\n",
       "      <td>0</td>\n",
       "      <td>0</td>\n",
       "      <td>0</td>\n",
       "      <td>0</td>\n",
       "      <td>0</td>\n",
       "      <td>0</td>\n",
       "      <td>...</td>\n",
       "      <td>0</td>\n",
       "      <td>0</td>\n",
       "      <td>0</td>\n",
       "      <td>0</td>\n",
       "      <td>0</td>\n",
       "      <td>0</td>\n",
       "      <td>0</td>\n",
       "      <td>0</td>\n",
       "      <td>0</td>\n",
       "      <td>0</td>\n",
       "    </tr>\n",
       "    <tr>\n",
       "      <th>2</th>\n",
       "      <td>0</td>\n",
       "      <td>0</td>\n",
       "      <td>0</td>\n",
       "      <td>0</td>\n",
       "      <td>0</td>\n",
       "      <td>0</td>\n",
       "      <td>0</td>\n",
       "      <td>0</td>\n",
       "      <td>0</td>\n",
       "      <td>0</td>\n",
       "      <td>...</td>\n",
       "      <td>0</td>\n",
       "      <td>0</td>\n",
       "      <td>0</td>\n",
       "      <td>0</td>\n",
       "      <td>0</td>\n",
       "      <td>0</td>\n",
       "      <td>0</td>\n",
       "      <td>0</td>\n",
       "      <td>0</td>\n",
       "      <td>0</td>\n",
       "    </tr>\n",
       "    <tr>\n",
       "      <th>3</th>\n",
       "      <td>0</td>\n",
       "      <td>0</td>\n",
       "      <td>0</td>\n",
       "      <td>0</td>\n",
       "      <td>0</td>\n",
       "      <td>0</td>\n",
       "      <td>0</td>\n",
       "      <td>0</td>\n",
       "      <td>0</td>\n",
       "      <td>0</td>\n",
       "      <td>...</td>\n",
       "      <td>0</td>\n",
       "      <td>0</td>\n",
       "      <td>0</td>\n",
       "      <td>0</td>\n",
       "      <td>0</td>\n",
       "      <td>0</td>\n",
       "      <td>0</td>\n",
       "      <td>0</td>\n",
       "      <td>0</td>\n",
       "      <td>0</td>\n",
       "    </tr>\n",
       "    <tr>\n",
       "      <th>4</th>\n",
       "      <td>0</td>\n",
       "      <td>0</td>\n",
       "      <td>0</td>\n",
       "      <td>0</td>\n",
       "      <td>0</td>\n",
       "      <td>0</td>\n",
       "      <td>0</td>\n",
       "      <td>0</td>\n",
       "      <td>0</td>\n",
       "      <td>0</td>\n",
       "      <td>...</td>\n",
       "      <td>0</td>\n",
       "      <td>0</td>\n",
       "      <td>0</td>\n",
       "      <td>0</td>\n",
       "      <td>0</td>\n",
       "      <td>0</td>\n",
       "      <td>0</td>\n",
       "      <td>0</td>\n",
       "      <td>0</td>\n",
       "      <td>0</td>\n",
       "    </tr>\n",
       "  </tbody>\n",
       "</table>\n",
       "<p>5 rows × 8642 columns</p>\n",
       "</div>"
      ],
      "text/plain": [
       "   00  000  000pes  008704050406  0089  0121  01223585236  01223585334  \\\n",
       "0   0    0       0             0     0     0            0            0   \n",
       "1   0    0       0             0     0     0            0            0   \n",
       "2   0    0       0             0     0     0            0            0   \n",
       "3   0    0       0             0     0     0            0            0   \n",
       "4   0    0       0             0     0     0            0            0   \n",
       "\n",
       "   0125698789  02  ...  zhong  zindgi  zoe  zogtorius  zoom  zouk  zyada  èn  \\\n",
       "0           0   0  ...      0       0    0          0     0     0      0   0   \n",
       "1           0   0  ...      0       0    0          0     0     0      0   0   \n",
       "2           0   0  ...      0       0    0          0     0     0      0   0   \n",
       "3           0   0  ...      0       0    0          0     0     0      0   0   \n",
       "4           0   0  ...      0       0    0          0     0     0      0   0   \n",
       "\n",
       "   ú1  〨ud  \n",
       "0   0    0  \n",
       "1   0    0  \n",
       "2   0    0  \n",
       "3   0    0  \n",
       "4   0    0  \n",
       "\n",
       "[5 rows x 8642 columns]"
      ]
     },
     "execution_count": 36,
     "metadata": {},
     "output_type": "execute_result"
    }
   ],
   "source": [
    "bow_df.head()"
   ]
  },
  {
   "cell_type": "code",
   "execution_count": 37,
   "metadata": {
    "jupyter": {
     "source_hidden": true
    },
    "scrolled": true,
    "tags": []
   },
   "outputs": [
    {
     "data": {
      "text/plain": [
       "00              10\n",
       "000             29\n",
       "000pes           1\n",
       "008704050406     2\n",
       "0089             1\n",
       "                ..\n",
       "zouk             1\n",
       "zyada            1\n",
       "èn               1\n",
       "ú1               1\n",
       "〨ud              1\n",
       "Length: 8642, dtype: int64"
      ]
     },
     "execution_count": 37,
     "metadata": {},
     "output_type": "execute_result"
    }
   ],
   "source": [
    "bow_df.sum()"
   ]
  },
  {
   "cell_type": "code",
   "execution_count": 38,
   "metadata": {},
   "outputs": [],
   "source": [
    "from sklearn.feature_extraction.text import TfidfVectorizer"
   ]
  },
  {
   "cell_type": "code",
   "execution_count": 39,
   "metadata": {},
   "outputs": [],
   "source": [
    "tfidf = TfidfVectorizer()"
   ]
  },
  {
   "cell_type": "code",
   "execution_count": 40,
   "metadata": {},
   "outputs": [],
   "source": [
    "tfidf_data = tfidf.fit_transform(tp.apply(lambda x: ' '.join(x)))\n",
    "# tfidf_data = tfidf.fit_transform(tp)"
   ]
  },
  {
   "cell_type": "code",
   "execution_count": 41,
   "metadata": {},
   "outputs": [],
   "source": [
    "tfidf_df = pd.DataFrame(tfidf_data.toarray(), columns = tfidf.get_feature_names())"
   ]
  },
  {
   "cell_type": "code",
   "execution_count": 42,
   "metadata": {
    "tags": []
   },
   "outputs": [
    {
     "data": {
      "text/html": [
       "<div>\n",
       "<style scoped>\n",
       "    .dataframe tbody tr th:only-of-type {\n",
       "        vertical-align: middle;\n",
       "    }\n",
       "\n",
       "    .dataframe tbody tr th {\n",
       "        vertical-align: top;\n",
       "    }\n",
       "\n",
       "    .dataframe thead th {\n",
       "        text-align: right;\n",
       "    }\n",
       "</style>\n",
       "<table border=\"1\" class=\"dataframe\">\n",
       "  <thead>\n",
       "    <tr style=\"text-align: right;\">\n",
       "      <th></th>\n",
       "      <th>00</th>\n",
       "      <th>000</th>\n",
       "      <th>000pes</th>\n",
       "      <th>008704050406</th>\n",
       "      <th>0089</th>\n",
       "      <th>0121</th>\n",
       "      <th>01223585236</th>\n",
       "      <th>01223585334</th>\n",
       "      <th>0125698789</th>\n",
       "      <th>02</th>\n",
       "      <th>...</th>\n",
       "      <th>zhong</th>\n",
       "      <th>zindgi</th>\n",
       "      <th>zoe</th>\n",
       "      <th>zogtorius</th>\n",
       "      <th>zoom</th>\n",
       "      <th>zouk</th>\n",
       "      <th>zyada</th>\n",
       "      <th>èn</th>\n",
       "      <th>ú1</th>\n",
       "      <th>〨ud</th>\n",
       "    </tr>\n",
       "  </thead>\n",
       "  <tbody>\n",
       "    <tr>\n",
       "      <th>2114</th>\n",
       "      <td>0.0</td>\n",
       "      <td>0.0</td>\n",
       "      <td>0.0</td>\n",
       "      <td>0.0</td>\n",
       "      <td>0.0</td>\n",
       "      <td>0.0</td>\n",
       "      <td>0.0</td>\n",
       "      <td>0.0</td>\n",
       "      <td>0.0</td>\n",
       "      <td>0.0</td>\n",
       "      <td>...</td>\n",
       "      <td>0.0</td>\n",
       "      <td>0.0</td>\n",
       "      <td>0.0</td>\n",
       "      <td>0.0</td>\n",
       "      <td>0.0</td>\n",
       "      <td>0.0</td>\n",
       "      <td>0.0</td>\n",
       "      <td>0.0</td>\n",
       "      <td>0.0</td>\n",
       "      <td>0.0</td>\n",
       "    </tr>\n",
       "    <tr>\n",
       "      <th>3407</th>\n",
       "      <td>0.0</td>\n",
       "      <td>0.0</td>\n",
       "      <td>0.0</td>\n",
       "      <td>0.0</td>\n",
       "      <td>0.0</td>\n",
       "      <td>0.0</td>\n",
       "      <td>0.0</td>\n",
       "      <td>0.0</td>\n",
       "      <td>0.0</td>\n",
       "      <td>0.0</td>\n",
       "      <td>...</td>\n",
       "      <td>0.0</td>\n",
       "      <td>0.0</td>\n",
       "      <td>0.0</td>\n",
       "      <td>0.0</td>\n",
       "      <td>0.0</td>\n",
       "      <td>0.0</td>\n",
       "      <td>0.0</td>\n",
       "      <td>0.0</td>\n",
       "      <td>0.0</td>\n",
       "      <td>0.0</td>\n",
       "    </tr>\n",
       "    <tr>\n",
       "      <th>3299</th>\n",
       "      <td>0.0</td>\n",
       "      <td>0.0</td>\n",
       "      <td>0.0</td>\n",
       "      <td>0.0</td>\n",
       "      <td>0.0</td>\n",
       "      <td>0.0</td>\n",
       "      <td>0.0</td>\n",
       "      <td>0.0</td>\n",
       "      <td>0.0</td>\n",
       "      <td>0.0</td>\n",
       "      <td>...</td>\n",
       "      <td>0.0</td>\n",
       "      <td>0.0</td>\n",
       "      <td>0.0</td>\n",
       "      <td>0.0</td>\n",
       "      <td>0.0</td>\n",
       "      <td>0.0</td>\n",
       "      <td>0.0</td>\n",
       "      <td>0.0</td>\n",
       "      <td>0.0</td>\n",
       "      <td>0.0</td>\n",
       "    </tr>\n",
       "    <tr>\n",
       "      <th>3083</th>\n",
       "      <td>0.0</td>\n",
       "      <td>0.0</td>\n",
       "      <td>0.0</td>\n",
       "      <td>0.0</td>\n",
       "      <td>0.0</td>\n",
       "      <td>0.0</td>\n",
       "      <td>0.0</td>\n",
       "      <td>0.0</td>\n",
       "      <td>0.0</td>\n",
       "      <td>0.0</td>\n",
       "      <td>...</td>\n",
       "      <td>0.0</td>\n",
       "      <td>0.0</td>\n",
       "      <td>0.0</td>\n",
       "      <td>0.0</td>\n",
       "      <td>0.0</td>\n",
       "      <td>0.0</td>\n",
       "      <td>0.0</td>\n",
       "      <td>0.0</td>\n",
       "      <td>0.0</td>\n",
       "      <td>0.0</td>\n",
       "    </tr>\n",
       "    <tr>\n",
       "      <th>131</th>\n",
       "      <td>0.0</td>\n",
       "      <td>0.0</td>\n",
       "      <td>0.0</td>\n",
       "      <td>0.0</td>\n",
       "      <td>0.0</td>\n",
       "      <td>0.0</td>\n",
       "      <td>0.0</td>\n",
       "      <td>0.0</td>\n",
       "      <td>0.0</td>\n",
       "      <td>0.0</td>\n",
       "      <td>...</td>\n",
       "      <td>0.0</td>\n",
       "      <td>0.0</td>\n",
       "      <td>0.0</td>\n",
       "      <td>0.0</td>\n",
       "      <td>0.0</td>\n",
       "      <td>0.0</td>\n",
       "      <td>0.0</td>\n",
       "      <td>0.0</td>\n",
       "      <td>0.0</td>\n",
       "      <td>0.0</td>\n",
       "    </tr>\n",
       "    <tr>\n",
       "      <th>1895</th>\n",
       "      <td>0.0</td>\n",
       "      <td>0.0</td>\n",
       "      <td>0.0</td>\n",
       "      <td>0.0</td>\n",
       "      <td>0.0</td>\n",
       "      <td>0.0</td>\n",
       "      <td>0.0</td>\n",
       "      <td>0.0</td>\n",
       "      <td>0.0</td>\n",
       "      <td>0.0</td>\n",
       "      <td>...</td>\n",
       "      <td>0.0</td>\n",
       "      <td>0.0</td>\n",
       "      <td>0.0</td>\n",
       "      <td>0.0</td>\n",
       "      <td>0.0</td>\n",
       "      <td>0.0</td>\n",
       "      <td>0.0</td>\n",
       "      <td>0.0</td>\n",
       "      <td>0.0</td>\n",
       "      <td>0.0</td>\n",
       "    </tr>\n",
       "  </tbody>\n",
       "</table>\n",
       "<p>6 rows × 8642 columns</p>\n",
       "</div>"
      ],
      "text/plain": [
       "       00  000  000pes  008704050406  0089  0121  01223585236  01223585334  \\\n",
       "2114  0.0  0.0     0.0           0.0   0.0   0.0          0.0          0.0   \n",
       "3407  0.0  0.0     0.0           0.0   0.0   0.0          0.0          0.0   \n",
       "3299  0.0  0.0     0.0           0.0   0.0   0.0          0.0          0.0   \n",
       "3083  0.0  0.0     0.0           0.0   0.0   0.0          0.0          0.0   \n",
       "131   0.0  0.0     0.0           0.0   0.0   0.0          0.0          0.0   \n",
       "1895  0.0  0.0     0.0           0.0   0.0   0.0          0.0          0.0   \n",
       "\n",
       "      0125698789   02  ...  zhong  zindgi  zoe  zogtorius  zoom  zouk  zyada  \\\n",
       "2114         0.0  0.0  ...    0.0     0.0  0.0        0.0   0.0   0.0    0.0   \n",
       "3407         0.0  0.0  ...    0.0     0.0  0.0        0.0   0.0   0.0    0.0   \n",
       "3299         0.0  0.0  ...    0.0     0.0  0.0        0.0   0.0   0.0    0.0   \n",
       "3083         0.0  0.0  ...    0.0     0.0  0.0        0.0   0.0   0.0    0.0   \n",
       "131          0.0  0.0  ...    0.0     0.0  0.0        0.0   0.0   0.0    0.0   \n",
       "1895         0.0  0.0  ...    0.0     0.0  0.0        0.0   0.0   0.0    0.0   \n",
       "\n",
       "       èn   ú1  〨ud  \n",
       "2114  0.0  0.0  0.0  \n",
       "3407  0.0  0.0  0.0  \n",
       "3299  0.0  0.0  0.0  \n",
       "3083  0.0  0.0  0.0  \n",
       "131   0.0  0.0  0.0  \n",
       "1895  0.0  0.0  0.0  \n",
       "\n",
       "[6 rows x 8642 columns]"
      ]
     },
     "execution_count": 42,
     "metadata": {},
     "output_type": "execute_result"
    }
   ],
   "source": [
    "tfidf_df.sample(6)"
   ]
  },
  {
   "cell_type": "code",
   "execution_count": 43,
   "metadata": {
    "tags": []
   },
   "outputs": [
    {
     "data": {
      "text/plain": [
       "00              2.306842\n",
       "000             6.845475\n",
       "000pes          0.238604\n",
       "008704050406    0.552678\n",
       "0089            0.262052\n",
       "                  ...   \n",
       "zouk            0.280166\n",
       "zyada           0.161336\n",
       "èn              0.186193\n",
       "ú1              0.226694\n",
       "〨ud             0.348259\n",
       "Length: 8642, dtype: float64"
      ]
     },
     "execution_count": 43,
     "metadata": {},
     "output_type": "execute_result"
    }
   ],
   "source": [
    "tfidf_df.sum()"
   ]
  },
  {
   "cell_type": "code",
   "execution_count": 44,
   "metadata": {},
   "outputs": [],
   "source": [
    "x = tfidf_df\n",
    "y = df['type']"
   ]
  },
  {
   "cell_type": "code",
   "execution_count": 45,
   "metadata": {},
   "outputs": [],
   "source": [
    "from sklearn.model_selection import train_test_split"
   ]
  },
  {
   "cell_type": "code",
   "execution_count": 46,
   "metadata": {},
   "outputs": [],
   "source": [
    "xtrain,xtest,ytrain,ytest = train_test_split(x,y,test_size=0.2, random_state=101)"
   ]
  },
  {
   "cell_type": "code",
   "execution_count": 47,
   "metadata": {},
   "outputs": [],
   "source": [
    "from sklearn.ensemble import RandomForestClassifier"
   ]
  },
  {
   "cell_type": "code",
   "execution_count": 48,
   "metadata": {},
   "outputs": [],
   "source": [
    "model = RandomForestClassifier().fit(xtrain,ytrain)"
   ]
  },
  {
   "cell_type": "code",
   "execution_count": 50,
   "metadata": {},
   "outputs": [
    {
     "data": {
      "text/html": [
       "<div>\n",
       "<style scoped>\n",
       "    .dataframe tbody tr th:only-of-type {\n",
       "        vertical-align: middle;\n",
       "    }\n",
       "\n",
       "    .dataframe tbody tr th {\n",
       "        vertical-align: top;\n",
       "    }\n",
       "\n",
       "    .dataframe thead th {\n",
       "        text-align: right;\n",
       "    }\n",
       "</style>\n",
       "<table border=\"1\" class=\"dataframe\">\n",
       "  <thead>\n",
       "    <tr style=\"text-align: right;\">\n",
       "      <th></th>\n",
       "      <th>00</th>\n",
       "      <th>000</th>\n",
       "      <th>000pes</th>\n",
       "      <th>008704050406</th>\n",
       "      <th>0089</th>\n",
       "      <th>0121</th>\n",
       "      <th>01223585236</th>\n",
       "      <th>01223585334</th>\n",
       "      <th>0125698789</th>\n",
       "      <th>02</th>\n",
       "      <th>...</th>\n",
       "      <th>zhong</th>\n",
       "      <th>zindgi</th>\n",
       "      <th>zoe</th>\n",
       "      <th>zogtorius</th>\n",
       "      <th>zoom</th>\n",
       "      <th>zouk</th>\n",
       "      <th>zyada</th>\n",
       "      <th>èn</th>\n",
       "      <th>ú1</th>\n",
       "      <th>〨ud</th>\n",
       "    </tr>\n",
       "  </thead>\n",
       "  <tbody>\n",
       "    <tr>\n",
       "      <th>4962</th>\n",
       "      <td>0.0</td>\n",
       "      <td>0.0</td>\n",
       "      <td>0.0</td>\n",
       "      <td>0.0</td>\n",
       "      <td>0.0</td>\n",
       "      <td>0.0</td>\n",
       "      <td>0.0</td>\n",
       "      <td>0.0</td>\n",
       "      <td>0.0</td>\n",
       "      <td>0.0</td>\n",
       "      <td>...</td>\n",
       "      <td>0.0</td>\n",
       "      <td>0.0</td>\n",
       "      <td>0.0</td>\n",
       "      <td>0.0</td>\n",
       "      <td>0.0</td>\n",
       "      <td>0.0</td>\n",
       "      <td>0.0</td>\n",
       "      <td>0.0</td>\n",
       "      <td>0.0</td>\n",
       "      <td>0.0</td>\n",
       "    </tr>\n",
       "    <tr>\n",
       "      <th>1941</th>\n",
       "      <td>0.0</td>\n",
       "      <td>0.0</td>\n",
       "      <td>0.0</td>\n",
       "      <td>0.0</td>\n",
       "      <td>0.0</td>\n",
       "      <td>0.0</td>\n",
       "      <td>0.0</td>\n",
       "      <td>0.0</td>\n",
       "      <td>0.0</td>\n",
       "      <td>0.0</td>\n",
       "      <td>...</td>\n",
       "      <td>0.0</td>\n",
       "      <td>0.0</td>\n",
       "      <td>0.0</td>\n",
       "      <td>0.0</td>\n",
       "      <td>0.0</td>\n",
       "      <td>0.0</td>\n",
       "      <td>0.0</td>\n",
       "      <td>0.0</td>\n",
       "      <td>0.0</td>\n",
       "      <td>0.0</td>\n",
       "    </tr>\n",
       "    <tr>\n",
       "      <th>54</th>\n",
       "      <td>0.0</td>\n",
       "      <td>0.0</td>\n",
       "      <td>0.0</td>\n",
       "      <td>0.0</td>\n",
       "      <td>0.0</td>\n",
       "      <td>0.0</td>\n",
       "      <td>0.0</td>\n",
       "      <td>0.0</td>\n",
       "      <td>0.0</td>\n",
       "      <td>0.0</td>\n",
       "      <td>...</td>\n",
       "      <td>0.0</td>\n",
       "      <td>0.0</td>\n",
       "      <td>0.0</td>\n",
       "      <td>0.0</td>\n",
       "      <td>0.0</td>\n",
       "      <td>0.0</td>\n",
       "      <td>0.0</td>\n",
       "      <td>0.0</td>\n",
       "      <td>0.0</td>\n",
       "      <td>0.0</td>\n",
       "    </tr>\n",
       "    <tr>\n",
       "      <th>3258</th>\n",
       "      <td>0.0</td>\n",
       "      <td>0.0</td>\n",
       "      <td>0.0</td>\n",
       "      <td>0.0</td>\n",
       "      <td>0.0</td>\n",
       "      <td>0.0</td>\n",
       "      <td>0.0</td>\n",
       "      <td>0.0</td>\n",
       "      <td>0.0</td>\n",
       "      <td>0.0</td>\n",
       "      <td>...</td>\n",
       "      <td>0.0</td>\n",
       "      <td>0.0</td>\n",
       "      <td>0.0</td>\n",
       "      <td>0.0</td>\n",
       "      <td>0.0</td>\n",
       "      <td>0.0</td>\n",
       "      <td>0.0</td>\n",
       "      <td>0.0</td>\n",
       "      <td>0.0</td>\n",
       "      <td>0.0</td>\n",
       "    </tr>\n",
       "    <tr>\n",
       "      <th>1564</th>\n",
       "      <td>0.0</td>\n",
       "      <td>0.0</td>\n",
       "      <td>0.0</td>\n",
       "      <td>0.0</td>\n",
       "      <td>0.0</td>\n",
       "      <td>0.0</td>\n",
       "      <td>0.0</td>\n",
       "      <td>0.0</td>\n",
       "      <td>0.0</td>\n",
       "      <td>0.0</td>\n",
       "      <td>...</td>\n",
       "      <td>0.0</td>\n",
       "      <td>0.0</td>\n",
       "      <td>0.0</td>\n",
       "      <td>0.0</td>\n",
       "      <td>0.0</td>\n",
       "      <td>0.0</td>\n",
       "      <td>0.0</td>\n",
       "      <td>0.0</td>\n",
       "      <td>0.0</td>\n",
       "      <td>0.0</td>\n",
       "    </tr>\n",
       "  </tbody>\n",
       "</table>\n",
       "<p>5 rows × 8642 columns</p>\n",
       "</div>"
      ],
      "text/plain": [
       "       00  000  000pes  008704050406  0089  0121  01223585236  01223585334  \\\n",
       "4962  0.0  0.0     0.0           0.0   0.0   0.0          0.0          0.0   \n",
       "1941  0.0  0.0     0.0           0.0   0.0   0.0          0.0          0.0   \n",
       "54    0.0  0.0     0.0           0.0   0.0   0.0          0.0          0.0   \n",
       "3258  0.0  0.0     0.0           0.0   0.0   0.0          0.0          0.0   \n",
       "1564  0.0  0.0     0.0           0.0   0.0   0.0          0.0          0.0   \n",
       "\n",
       "      0125698789   02  ...  zhong  zindgi  zoe  zogtorius  zoom  zouk  zyada  \\\n",
       "4962         0.0  0.0  ...    0.0     0.0  0.0        0.0   0.0   0.0    0.0   \n",
       "1941         0.0  0.0  ...    0.0     0.0  0.0        0.0   0.0   0.0    0.0   \n",
       "54           0.0  0.0  ...    0.0     0.0  0.0        0.0   0.0   0.0    0.0   \n",
       "3258         0.0  0.0  ...    0.0     0.0  0.0        0.0   0.0   0.0    0.0   \n",
       "1564         0.0  0.0  ...    0.0     0.0  0.0        0.0   0.0   0.0    0.0   \n",
       "\n",
       "       èn   ú1  〨ud  \n",
       "4962  0.0  0.0  0.0  \n",
       "1941  0.0  0.0  0.0  \n",
       "54    0.0  0.0  0.0  \n",
       "3258  0.0  0.0  0.0  \n",
       "1564  0.0  0.0  0.0  \n",
       "\n",
       "[5 rows x 8642 columns]"
      ]
     },
     "execution_count": 50,
     "metadata": {},
     "output_type": "execute_result"
    }
   ],
   "source": [
    "xtest.head()"
   ]
  },
  {
   "cell_type": "code",
   "execution_count": 59,
   "metadata": {},
   "outputs": [],
   "source": [
    "k = '〨ud'"
   ]
  },
  {
   "cell_type": "code",
   "execution_count": 60,
   "metadata": {},
   "outputs": [
    {
     "data": {
      "text/plain": [
       "False"
      ]
     },
     "execution_count": 60,
     "metadata": {},
     "output_type": "execute_result"
    }
   ],
   "source": [
    "k.isascii()"
   ]
  },
  {
   "cell_type": "code",
   "execution_count": 49,
   "metadata": {},
   "outputs": [
    {
     "data": {
      "text/plain": [
       "97.84560143626571"
      ]
     },
     "execution_count": 49,
     "metadata": {},
     "output_type": "execute_result"
    }
   ],
   "source": [
    "model.score(xtest,ytest)*100"
   ]
  },
  {
   "cell_type": "code",
   "execution_count": null,
   "metadata": {},
   "outputs": [],
   "source": []
  },
  {
   "cell_type": "code",
   "execution_count": null,
   "metadata": {},
   "outputs": [],
   "source": []
  },
  {
   "cell_type": "code",
   "execution_count": null,
   "metadata": {},
   "outputs": [],
   "source": []
  },
  {
   "cell_type": "code",
   "execution_count": 52,
   "metadata": {},
   "outputs": [],
   "source": [
    "query = 'this is a simple text I wrote down for my sake'"
   ]
  },
  {
   "cell_type": "code",
   "execution_count": 64,
   "metadata": {
    "scrolled": true,
    "tags": []
   },
   "outputs": [
    {
     "ename": "ValueError",
     "evalue": "could not convert string to float: 'this is a simple text I wrote down for my sake'",
     "output_type": "error",
     "traceback": [
      "\u001b[1;31m---------------------------------------------------------------------------\u001b[0m",
      "\u001b[1;31mValueError\u001b[0m                                Traceback (most recent call last)",
      "\u001b[1;32m<ipython-input-64-9008d16b1448>\u001b[0m in \u001b[0;36m<module>\u001b[1;34m\u001b[0m\n\u001b[0;32m      1\u001b[0m \u001b[0mqdf\u001b[0m \u001b[1;33m=\u001b[0m \u001b[1;33m{\u001b[0m\u001b[1;34m'msg'\u001b[0m\u001b[1;33m:\u001b[0m\u001b[1;33m[\u001b[0m\u001b[0mquery\u001b[0m\u001b[1;33m]\u001b[0m\u001b[1;33m}\u001b[0m\u001b[1;33m\u001b[0m\u001b[1;33m\u001b[0m\u001b[0m\n\u001b[1;32m----> 2\u001b[1;33m \u001b[0mres\u001b[0m \u001b[1;33m=\u001b[0m \u001b[0mmodel\u001b[0m\u001b[1;33m.\u001b[0m\u001b[0mpredict\u001b[0m\u001b[1;33m(\u001b[0m\u001b[0mquery\u001b[0m\u001b[1;33m)\u001b[0m\u001b[1;33m\u001b[0m\u001b[1;33m\u001b[0m\u001b[0m\n\u001b[0m",
      "\u001b[1;32mC:\\ProgramData\\Anaconda3\\lib\\site-packages\\sklearn\\ensemble\\_forest.py\u001b[0m in \u001b[0;36mpredict\u001b[1;34m(self, X)\u001b[0m\n\u001b[0;32m    628\u001b[0m             \u001b[0mThe\u001b[0m \u001b[0mpredicted\u001b[0m \u001b[0mclasses\u001b[0m\u001b[1;33m.\u001b[0m\u001b[1;33m\u001b[0m\u001b[1;33m\u001b[0m\u001b[0m\n\u001b[0;32m    629\u001b[0m         \"\"\"\n\u001b[1;32m--> 630\u001b[1;33m         \u001b[0mproba\u001b[0m \u001b[1;33m=\u001b[0m \u001b[0mself\u001b[0m\u001b[1;33m.\u001b[0m\u001b[0mpredict_proba\u001b[0m\u001b[1;33m(\u001b[0m\u001b[0mX\u001b[0m\u001b[1;33m)\u001b[0m\u001b[1;33m\u001b[0m\u001b[1;33m\u001b[0m\u001b[0m\n\u001b[0m\u001b[0;32m    631\u001b[0m \u001b[1;33m\u001b[0m\u001b[0m\n\u001b[0;32m    632\u001b[0m         \u001b[1;32mif\u001b[0m \u001b[0mself\u001b[0m\u001b[1;33m.\u001b[0m\u001b[0mn_outputs_\u001b[0m \u001b[1;33m==\u001b[0m \u001b[1;36m1\u001b[0m\u001b[1;33m:\u001b[0m\u001b[1;33m\u001b[0m\u001b[1;33m\u001b[0m\u001b[0m\n",
      "\u001b[1;32mC:\\ProgramData\\Anaconda3\\lib\\site-packages\\sklearn\\ensemble\\_forest.py\u001b[0m in \u001b[0;36mpredict_proba\u001b[1;34m(self, X)\u001b[0m\n\u001b[0;32m    672\u001b[0m         \u001b[0mcheck_is_fitted\u001b[0m\u001b[1;33m(\u001b[0m\u001b[0mself\u001b[0m\u001b[1;33m)\u001b[0m\u001b[1;33m\u001b[0m\u001b[1;33m\u001b[0m\u001b[0m\n\u001b[0;32m    673\u001b[0m         \u001b[1;31m# Check data\u001b[0m\u001b[1;33m\u001b[0m\u001b[1;33m\u001b[0m\u001b[1;33m\u001b[0m\u001b[0m\n\u001b[1;32m--> 674\u001b[1;33m         \u001b[0mX\u001b[0m \u001b[1;33m=\u001b[0m \u001b[0mself\u001b[0m\u001b[1;33m.\u001b[0m\u001b[0m_validate_X_predict\u001b[0m\u001b[1;33m(\u001b[0m\u001b[0mX\u001b[0m\u001b[1;33m)\u001b[0m\u001b[1;33m\u001b[0m\u001b[1;33m\u001b[0m\u001b[0m\n\u001b[0m\u001b[0;32m    675\u001b[0m \u001b[1;33m\u001b[0m\u001b[0m\n\u001b[0;32m    676\u001b[0m         \u001b[1;31m# Assign chunk of trees to jobs\u001b[0m\u001b[1;33m\u001b[0m\u001b[1;33m\u001b[0m\u001b[1;33m\u001b[0m\u001b[0m\n",
      "\u001b[1;32mC:\\ProgramData\\Anaconda3\\lib\\site-packages\\sklearn\\ensemble\\_forest.py\u001b[0m in \u001b[0;36m_validate_X_predict\u001b[1;34m(self, X)\u001b[0m\n\u001b[0;32m    420\u001b[0m         \u001b[0mcheck_is_fitted\u001b[0m\u001b[1;33m(\u001b[0m\u001b[0mself\u001b[0m\u001b[1;33m)\u001b[0m\u001b[1;33m\u001b[0m\u001b[1;33m\u001b[0m\u001b[0m\n\u001b[0;32m    421\u001b[0m \u001b[1;33m\u001b[0m\u001b[0m\n\u001b[1;32m--> 422\u001b[1;33m         \u001b[1;32mreturn\u001b[0m \u001b[0mself\u001b[0m\u001b[1;33m.\u001b[0m\u001b[0mestimators_\u001b[0m\u001b[1;33m[\u001b[0m\u001b[1;36m0\u001b[0m\u001b[1;33m]\u001b[0m\u001b[1;33m.\u001b[0m\u001b[0m_validate_X_predict\u001b[0m\u001b[1;33m(\u001b[0m\u001b[0mX\u001b[0m\u001b[1;33m,\u001b[0m \u001b[0mcheck_input\u001b[0m\u001b[1;33m=\u001b[0m\u001b[1;32mTrue\u001b[0m\u001b[1;33m)\u001b[0m\u001b[1;33m\u001b[0m\u001b[1;33m\u001b[0m\u001b[0m\n\u001b[0m\u001b[0;32m    423\u001b[0m \u001b[1;33m\u001b[0m\u001b[0m\n\u001b[0;32m    424\u001b[0m     \u001b[1;33m@\u001b[0m\u001b[0mproperty\u001b[0m\u001b[1;33m\u001b[0m\u001b[1;33m\u001b[0m\u001b[0m\n",
      "\u001b[1;32mC:\\ProgramData\\Anaconda3\\lib\\site-packages\\sklearn\\tree\\_classes.py\u001b[0m in \u001b[0;36m_validate_X_predict\u001b[1;34m(self, X, check_input)\u001b[0m\n\u001b[0;32m    405\u001b[0m         \u001b[1;34m\"\"\"Validate the training data on predict (probabilities).\"\"\"\u001b[0m\u001b[1;33m\u001b[0m\u001b[1;33m\u001b[0m\u001b[0m\n\u001b[0;32m    406\u001b[0m         \u001b[1;32mif\u001b[0m \u001b[0mcheck_input\u001b[0m\u001b[1;33m:\u001b[0m\u001b[1;33m\u001b[0m\u001b[1;33m\u001b[0m\u001b[0m\n\u001b[1;32m--> 407\u001b[1;33m             X = self._validate_data(X, dtype=DTYPE, accept_sparse=\"csr\",\n\u001b[0m\u001b[0;32m    408\u001b[0m                                     reset=False)\n\u001b[0;32m    409\u001b[0m             if issparse(X) and (X.indices.dtype != np.intc or\n",
      "\u001b[1;32mC:\\ProgramData\\Anaconda3\\lib\\site-packages\\sklearn\\base.py\u001b[0m in \u001b[0;36m_validate_data\u001b[1;34m(self, X, y, reset, validate_separately, **check_params)\u001b[0m\n\u001b[0;32m    419\u001b[0m             \u001b[0mout\u001b[0m \u001b[1;33m=\u001b[0m \u001b[0mX\u001b[0m\u001b[1;33m\u001b[0m\u001b[1;33m\u001b[0m\u001b[0m\n\u001b[0;32m    420\u001b[0m         \u001b[1;32melif\u001b[0m \u001b[0misinstance\u001b[0m\u001b[1;33m(\u001b[0m\u001b[0my\u001b[0m\u001b[1;33m,\u001b[0m \u001b[0mstr\u001b[0m\u001b[1;33m)\u001b[0m \u001b[1;32mand\u001b[0m \u001b[0my\u001b[0m \u001b[1;33m==\u001b[0m \u001b[1;34m'no_validation'\u001b[0m\u001b[1;33m:\u001b[0m\u001b[1;33m\u001b[0m\u001b[1;33m\u001b[0m\u001b[0m\n\u001b[1;32m--> 421\u001b[1;33m             \u001b[0mX\u001b[0m \u001b[1;33m=\u001b[0m \u001b[0mcheck_array\u001b[0m\u001b[1;33m(\u001b[0m\u001b[0mX\u001b[0m\u001b[1;33m,\u001b[0m \u001b[1;33m**\u001b[0m\u001b[0mcheck_params\u001b[0m\u001b[1;33m)\u001b[0m\u001b[1;33m\u001b[0m\u001b[1;33m\u001b[0m\u001b[0m\n\u001b[0m\u001b[0;32m    422\u001b[0m             \u001b[0mout\u001b[0m \u001b[1;33m=\u001b[0m \u001b[0mX\u001b[0m\u001b[1;33m\u001b[0m\u001b[1;33m\u001b[0m\u001b[0m\n\u001b[0;32m    423\u001b[0m         \u001b[1;32melse\u001b[0m\u001b[1;33m:\u001b[0m\u001b[1;33m\u001b[0m\u001b[1;33m\u001b[0m\u001b[0m\n",
      "\u001b[1;32mC:\\ProgramData\\Anaconda3\\lib\\site-packages\\sklearn\\utils\\validation.py\u001b[0m in \u001b[0;36minner_f\u001b[1;34m(*args, **kwargs)\u001b[0m\n\u001b[0;32m     61\u001b[0m             \u001b[0mextra_args\u001b[0m \u001b[1;33m=\u001b[0m \u001b[0mlen\u001b[0m\u001b[1;33m(\u001b[0m\u001b[0margs\u001b[0m\u001b[1;33m)\u001b[0m \u001b[1;33m-\u001b[0m \u001b[0mlen\u001b[0m\u001b[1;33m(\u001b[0m\u001b[0mall_args\u001b[0m\u001b[1;33m)\u001b[0m\u001b[1;33m\u001b[0m\u001b[1;33m\u001b[0m\u001b[0m\n\u001b[0;32m     62\u001b[0m             \u001b[1;32mif\u001b[0m \u001b[0mextra_args\u001b[0m \u001b[1;33m<=\u001b[0m \u001b[1;36m0\u001b[0m\u001b[1;33m:\u001b[0m\u001b[1;33m\u001b[0m\u001b[1;33m\u001b[0m\u001b[0m\n\u001b[1;32m---> 63\u001b[1;33m                 \u001b[1;32mreturn\u001b[0m \u001b[0mf\u001b[0m\u001b[1;33m(\u001b[0m\u001b[1;33m*\u001b[0m\u001b[0margs\u001b[0m\u001b[1;33m,\u001b[0m \u001b[1;33m**\u001b[0m\u001b[0mkwargs\u001b[0m\u001b[1;33m)\u001b[0m\u001b[1;33m\u001b[0m\u001b[1;33m\u001b[0m\u001b[0m\n\u001b[0m\u001b[0;32m     64\u001b[0m \u001b[1;33m\u001b[0m\u001b[0m\n\u001b[0;32m     65\u001b[0m             \u001b[1;31m# extra_args > 0\u001b[0m\u001b[1;33m\u001b[0m\u001b[1;33m\u001b[0m\u001b[1;33m\u001b[0m\u001b[0m\n",
      "\u001b[1;32mC:\\ProgramData\\Anaconda3\\lib\\site-packages\\sklearn\\utils\\validation.py\u001b[0m in \u001b[0;36mcheck_array\u001b[1;34m(array, accept_sparse, accept_large_sparse, dtype, order, copy, force_all_finite, ensure_2d, allow_nd, ensure_min_samples, ensure_min_features, estimator)\u001b[0m\n\u001b[0;32m    671\u001b[0m                     \u001b[0marray\u001b[0m \u001b[1;33m=\u001b[0m \u001b[0marray\u001b[0m\u001b[1;33m.\u001b[0m\u001b[0mastype\u001b[0m\u001b[1;33m(\u001b[0m\u001b[0mdtype\u001b[0m\u001b[1;33m,\u001b[0m \u001b[0mcasting\u001b[0m\u001b[1;33m=\u001b[0m\u001b[1;34m\"unsafe\"\u001b[0m\u001b[1;33m,\u001b[0m \u001b[0mcopy\u001b[0m\u001b[1;33m=\u001b[0m\u001b[1;32mFalse\u001b[0m\u001b[1;33m)\u001b[0m\u001b[1;33m\u001b[0m\u001b[1;33m\u001b[0m\u001b[0m\n\u001b[0;32m    672\u001b[0m                 \u001b[1;32melse\u001b[0m\u001b[1;33m:\u001b[0m\u001b[1;33m\u001b[0m\u001b[1;33m\u001b[0m\u001b[0m\n\u001b[1;32m--> 673\u001b[1;33m                     \u001b[0marray\u001b[0m \u001b[1;33m=\u001b[0m \u001b[0mnp\u001b[0m\u001b[1;33m.\u001b[0m\u001b[0masarray\u001b[0m\u001b[1;33m(\u001b[0m\u001b[0marray\u001b[0m\u001b[1;33m,\u001b[0m \u001b[0morder\u001b[0m\u001b[1;33m=\u001b[0m\u001b[0morder\u001b[0m\u001b[1;33m,\u001b[0m \u001b[0mdtype\u001b[0m\u001b[1;33m=\u001b[0m\u001b[0mdtype\u001b[0m\u001b[1;33m)\u001b[0m\u001b[1;33m\u001b[0m\u001b[1;33m\u001b[0m\u001b[0m\n\u001b[0m\u001b[0;32m    674\u001b[0m             \u001b[1;32mexcept\u001b[0m \u001b[0mComplexWarning\u001b[0m \u001b[1;32mas\u001b[0m \u001b[0mcomplex_warning\u001b[0m\u001b[1;33m:\u001b[0m\u001b[1;33m\u001b[0m\u001b[1;33m\u001b[0m\u001b[0m\n\u001b[0;32m    675\u001b[0m                 raise ValueError(\"Complex data not supported\\n\"\n",
      "\u001b[1;31mValueError\u001b[0m: could not convert string to float: 'this is a simple text I wrote down for my sake'"
     ]
    }
   ],
   "source": [
    "qdf = {'msg':[query]}\n",
    "res = model.predict(query)"
   ]
  },
  {
   "cell_type": "code",
   "execution_count": 65,
   "metadata": {
    "scrolled": true,
    "tags": []
   },
   "outputs": [
    {
     "name": "stdout",
     "output_type": "stream",
     "text": [
      "00\t\t000\t\t000pes\t\t008704050406\t\t0089\t\t0121\t\t01223585236\t\t01223585334\t\t0125698789\t\t02\t\t0207\t\t02072069400\t\t02073162414\t\t02085076972\t\t021\t\t03\t\t04\t\t0430\t\t05\t\t050703\t\t0578\t\t06\t\t07\t\t07008009200\t\t07046744435\t\t07090201529\t\t07090298926\t\t07099833605\t\t07123456789\t\t0721072\t\t07732584351\t\t07734396839\t\t07742676969\t\t07753741225\t\t0776xxxxxxx\t\t07781482378\t\t07786200117\t\t077xxx\t\t078\t\t07801543489\t\t07808\t\t07808247860\t\t07808726822\t\t07815296484\t\t07821230901\t\t078498\t\t07880867867\t\t0789xxxxxxx\t\t07946746291\t\t0796xxxxxx\t\t07973788240\t\t07xxxxxxxxx\t\t08\t\t0800\t\t08000407165\t\t08000776320\t\t08000839402\t\t08000930705\t\t08000938767\t\t08001950382\t\t08002888812\t\t08002986030\t\t08002986906\t\t08002988890\t\t08006344447\t\t0808\t\t08081263000\t\t08081560665\t\t0825\t\t083\t\t0844\t\t08448350055\t\t08448714184\t\t0845\t\t08450542832\t\t08452810071\t\t08452810073\t\t08452810075over18\t\t0870\t\t08700435505150p\t\t08700469649\t\t08700621170150p\t\t08701213186\t\t08701237397\t\t08701417012\t\t08701417012150p\t\t0870141701216\t\t087016248\t\t08701752560\t\t087018728737\t\t0870241182716\t\t08702490080\t\t08702840625\t\t08704050406\t\t08704439680\t\t08704439680ts\t\t08706091795\t\t0870737910216yrs\t\t08707500020\t\t08707509020\t\t0870753331018\t\t08707808226\t\t08708034412\t\t08708800282\t\t08709222922\t\t08709501522\t\t0871\t\t087104711148\t\t08712101358\t\t08712103738\t\t0871212025016\t\t08712300220\t\t087123002209am\t\t08712317606\t\t08712400200\t\t08712400602450p\t\t08712400603\t\t08712402050\t\t08712402578\t\t08712402779\t\t08712402902\t\t08712402972\t\t08712404000\t\t08712405020\t\t08712405022\t\t08712460324\t\t08712466669\t\t0871277810710p\t\t0871277810810\t\t0871277810910p\t\t08714342399\t\t087147123779am\t\t08714712379\t\t08714712388\t\t08714712394\t\t08714712412\t\t08714714011\t\t08715203028\t\t08715203649\t\t08715203652\t\t08715203656\t\t08715203677\t\t08715203685\t\t08715203694\t\t08715205273\t\t08715500022\t\t08715705022\t\t08717111821\t\t08717168528\t\t08717205546\t\t0871750\t\t08717507382\t\t08717509990\t\t08717890890\t\t08717895698\t\t08717898035\t\t08718711108\t\t08718720201\t\t08718723815\t\t08718725756\t\t08718726270\t\t087187262701\t\t08718726970\t\t08718726971\t\t08718726978\t\t087187272008\t\t08718727868\t\t08718727870\t\t08718727870150ppm\t\t08718730555\t\t08718730666\t\t08718738001\t\t08718738002\t\t08718738034\t\t08719180219\t\t08719180248\t\t08719181259\t\t08719181503\t\t08719181513\t\t08719839835\t\t08719899217\t\t08719899229\t\t08719899230\t\t09\t\t09041940223\t\t09050000301\t\t09050000332\t\t09050000460\t\t09050000555\t\t09050000878\t\t09050000928\t\t09050001295\t\t09050001808\t\t09050002311\t\t09050003091\t\t09050005321\t\t09050090044\t\t09050280520\t\t09053750005\t\t09056242159\t\t09057039994\t\t09058091854\t\t09058091870\t\t09058094454\t\t09058094455\t\t09058094507\t\t09058094565\t\t09058094583\t\t09058094594\t\t09058094597\t\t09058094599\t\t09058095107\t\t09058095201\t\t09058097189\t\t09058097218\t\t09058098002\t\t09058099801\t\t09061104276\t\t09061104283\t\t09061209465\t\t09061213237\t\t09061221061\t\t09061221066\t\t09061701444\t\t09061701461\t\t09061701851\t\t09061701939\t\t09061702893\t\t09061743386\t\t09061743806\t\t09061743810\t\t09061743811\t\t09061744553\t\t09061749602\t\t09061790121\t\t09061790125\t\t09061790126\t\t09063440451\t\t09063442151\t\t09063458130\t\t0906346330\t\t09064011000\t\t09064012103\t\t09064012160\t\t09064015307\t\t09064017295\t\t09064017305\t\t09064018838\t\t09064019014\t\t09064019788\t\t09065069120\t\t09065069154\t\t09065171142\t\t09065174042\t\t09065394514\t\t09065394973\t\t09065989180\t\t09065989182\t\t09066350750\t\t09066358152\t\t09066358361\t\t09066361921\t\t09066362206\t\t09066362220\t\t09066362231\t\t09066364311\t\t09066364349\t\t09066364589\t\t09066368327\t\t09066368470\t\t09066368753\t\t09066380611\t\t09066382422\t\t09066612661\t\t09066649731from\t\t09066660100\t\t09071512432\t\t09071512433\t\t09071517866\t\t09077818151\t\t09090204448\t\t09090900040\t\t09094100151\t\t09094646631\t\t09094646899\t\t09095350301\t\t09096102316\t\t09099725823\t\t09099726395\t\t09099726429\t\t09099726481\t\t09099726553\t\t09111030116\t\t09111032124\t\t09701213186\t\t0a\t\t0quit\t\t10\t\t100\t\t1000\t\t1000call\t\t1000s\t\t100p\t\t100percent\t\t100txt\t\t1013\t\t1030\t\t10am\t\t10k\t\t10p\t\t10ppm\t\t10th\t\t11\t\t1120\t\t113\t\t1131\t\t114\t\t1146\t\t116\t\t1172\t\t118p\t\t11mths\t\t11pm\t\t12\t\t1205\t\t120p\t\t121\t\t1225\t\t123\t\t125\t\t1250\t\t125gift\t\t128\t\t12hours\t\t12hrs\t\t12mths\t\t13\t\t130\t\t1327\t\t139\t\t14\t\t140\t\t1405\t\t140ppm\t\t145\t\t1450\t\t146tf150p\t\t14tcr\t\t14thmarch\t\t15\t\t150\t\t1500\t\t150p\t\t150p16\t\t150pm\t\t150ppermesssubscription\t\t150ppm\t\t150ppmpobox10183bhamb64xe\t\t150ppmsg\t\t150pw\t\t151\t\t153\t\t15541\t\t15pm\t\t16\t\t165\t\t1680\t\t169\t\t177\t\t18\t\t180\t\t1843\t\t18p\t\t18yrs\t\t195\t\t1956669\t\t1apple\t\t1b6a5ecef91ff9\t\t1cup\t\t1da\t\t1er\t\t1hr\t\t1im\t\t1lemon\t\t1mega\t\t1million\t\t1pm\t\t1st\t\t1st4terms\t\t1stchoice\t\t1stone\t\t1thing\t\t1tulsi\t\t1win150ppmx3\t\t1winaweek\t\t1winawk\t\t1x150p\t\t1yf\t\t20\t\t200\t\t2000\t\t2003\t\t2004\t\t2005\t\t2006\t\t2007\t\t200p\t\t2025050\t\t20m12aq\t\t20p\t\t21\t\t21870000\t\t21st\t\t22\t\t220\t\t220cm2\t\t2309\t\t23f\t\t23g\t\t24\t\t24hrs\t\t24m\t\t24th\t\t25\t\t250\t\t250k\t\t255\t\t25p\t\t26\t\t2667\t\t26th\t\t27\t\t28\t\t2814032\t\t28days\t\t28th\t\t28thfeb\t\t29\t\t2b\t\t2bold\t\t2c\t\t2channel\t\t2day\t\t2docd\t\t2end\t\t2exit\t\t2ez\t\t2find\t\t2getha\t\t2geva\t\t2go\t\t2gthr\t\t2hook\t\t2hrs\t\t2i\t\t2kbsubject\t\t2lands\t\t2marrow\t\t2moro\t\t2morow\t\t2morro\t\t2morrow\t\t2morrowxxxx\t\t2mro\t\t2mrw\t\t2mwen\t\t2nd\t\t2nhite\t\t2nights\t\t2nite\t\t2optout\t\t2p\t\t2price\t\t2px\t\t2rcv\t\t2stop\t\t2stoptx\t\t2stoptxt\t\t2u\t\t2u2\t\t2watershd\t\t2waxsto\t\t2wks\t\t2wt\t\t2wu\t\t2years\t\t2yr\t\t2yrs\t\t30\t\t300\t\t3000\t\t300603\t\t300603t\t\t300p\t\t3030\t\t30apr\t\t30ish\t\t30pm\t\t30pp\t\t30s\t\t30th\t\t31\t\t3100\t\t310303\t\t31p\t\t32\t\t32000\t\t3230\t\t32323\t\t326\t\t33\t\t330\t\t350\t\t3510i\t\t35p\t\t3650\t\t36504\t\t3680\t\t373\t\t3750\t\t37819\t\t38\t\t382\t\t391784\t\t3aj\t\t3d\t\t3days\t\t3g\t\t3gbp\t\t3hrs\t\t3lions\t\t3lp\t\t3miles\t\t3mins\t\t3mobile\t\t3optical\t\t3pound\t\t3qxj9\t\t3rd\t\t3ss\t\t3uz\t\t3wks\t\t3x\t\t3xx\t\t40\t\t400\t\t400mins\t\t400thousad\t\t402\t\t4041\t\t40411\t\t40533\t\t40gb\t\t40mph\t\t41685\t\t41782\t\t420\t\t42049\t\t4217\t\t42478\t\t42810\t\t430\t\t434\t\t44\t\t440\t\t4403ldnw1a7rw18\t\t44345\t\t447797706009\t\t447801259231\t\t448712404000\t\t449050000301\t\t449071512431\t\t45\t\t450\t\t450p\t\t450ppw\t\t450pw\t\t45239\t\t45pm\t\t47\t\t4719\t\t4742\t\t47per\t\t48\t\t4882\t\t48922\t\t49\t\t49557\t\t4a\t\t4brekkie\t\t4d\t\t4eva\t\t4few\t\t4fil\t\t4get\t\t4give\t\t4got\t\t4goten\t\t4info\t\t4jx\t\t4msgs\t\t4mths\t\t4my\t\t4qf2\t\t4t\t\t4th\t\t4the\t\t4thnov\t\t4txt\t\t4u\t\t4utxt\t\t4w\t\t4ward\t\t4wrd\t\t4xx26\t\t4years\t\t50\t\t500\t\t5000\t\t505060\t\t50award\t\t50ea\t\t50gbp\t\t50p\t\t50perweeksub\t\t50perwksub\t\t50pm\t\t50pmmorefrommobile2bremoved\t\t50ppm\t\t50rcvd\t\t50s\t\t515\t\t5226\t\t523\t\t5249\t\t526\t\t528\t\t530\t\t54\t\t542\t\t545\t\t5digital\t\t5free\t\t5ish\t\t5k\t\t5min\t\t5mls\t\t5p\t\t5pm\t\t5th\t\t5wb\t\t5we\t\t5wkg\t\t5wq\t\t5years\t\t60\t\t600\t\t6031\t\t6089\t\t60p\t\t61\t\t61200\t\t61610\t\t62220cncl\t\t6230\t\t62468\t\t62735\t\t630\t\t63miles\t\t645\t\t65\t\t650\t\t66\t\t6669\t\t674\t\t67441233\t\t68866\t\t69101\t\t69200\t\t69669\t\t69696\t\t69698\t\t69855\t\t69866\t\t69876\t\t69888\t\t69888nyt\t\t69911\t\t69969\t\t69988\t\t6days\t\t6hl\t\t6hrs\t\t6ish\t\t6missed\t\t6months\t\t6ph\t\t6pm\t\t6th\t\t6times\t\t6wu\t\t6zf\t\t700\t\t71\t\t7250\t\t7250i\t\t730\t\t731\t\t74355\t\t75\t\t750\t\t7548\t\t75max\t\t762\t\t7634\t\t7684\t\t77\t\t7732584351\t\t78\t\t786\t\t7876150ppm\t\t79\t\t7am\t\t7cfca1a\t\t7ish\t\t7mp\t\t7oz\t\t7pm\t\t7th\t\t7ws\t\t7zs\t\t80\t\t800\t\t8000930705\t\t80062\t\t8007\t\t80082\t\t80086\t\t80122300p\t\t80155\t\t80160\t\t80182\t\t8027\t\t80488\t\t80608\t\t8077\t\t80878\t\t81010\t\t81151\t\t81303\t\t81618\t\t82050\t\t820554ad0a1705572711\t\t82242\t\t82277\t\t82324\t\t82468\t\t83021\t\t83039\t\t83049\t\t83110\t\t83118\t\t83222\t\t83332\t\t83338\t\t83355\t\t83370\t\t83383\t\t83435\t\t83600\t\t83738\t\t84\t\t84025\t\t84122\t\t84128\t\t84199\t\t84484\t\t85\t\t850\t\t85023\t\t85069\t\t85222\t\t85233\t\t8552\t\t85555\t\t86021\t\t861\t\t864233\t\t86688\t\t86888\t\t87021\t\t87066\t\t87070\t\t87077\t\t87121\t\t87131\t\t8714714\t\t872\t\t87239\t\t87575\t\t8800\t\t88039\t\t88066\t\t88088\t\t88222\t\t88600\t\t88800\t\t8883\t\t88877\t\t88888\t\t89034\t\t89070\t\t89080\t\t89105\t\t89123\t\t89545\t\t89555\t\t89693\t\t89938\t\t8am\t\t8ball\t\t8lb\t\t8p\t\t8pm\t\t8th\t\t8wp\t\t900\t\t9061100010\t\t910\t\t9153\t\t9280114\t\t92h\t\t930\t\t9307622\t\t945\t\t946\t\t95\t\t9755\t\t9758\t\t97n7qp\t\t98321561\t\t99\t\t9996\t\t9ae\t\t9am\t\t9ja\t\t9pm\t\t9t\t\t9th\t\t9yt\t\t____\t\ta21\t\ta30\t\taa\t\taah\t\taaniye\t\taaooooright\t\taathi\t\tab\t\tabbey\t\tabdomen\t\tabeg\t\tabel\t\taberdeen\t\tabi\t\tability\t\tabiola\t\tabj\t\table\t\tabnormally\t\taboutas\t\tabroad\t\tabsence\t\tabsolutely\t\tabsolutly\t\tabstract\t\tabt\t\tabta\t\taburo\t\tabuse\t\tabusers\t\tac\t\tacademic\t\tacc\t\taccent\t\taccenture\t\taccept\t\taccess\t\taccessible\t\taccidant\t\taccident\t\taccidentally\t\taccommodation\t\taccommodationvouchers\t\taccomodate\t\taccomodations\t\taccordin\t\taccordingly\t\taccount\t\taccounting\t\taccounts\t\taccumulation\t\tachan\t\tache\t\tachieve\t\tacid\t\tacknowledgement\t\tacl03530150pm\t\tacnt\t\taco\t\tacross\t\tact\t\tacted\t\tactin\t\tacting\t\taction\t\tactiv8\t\tactivate\t\tactive\t\tactivities\t\tactor\t\tactual\t\tactually\t\tad\t\tadam\t\tadd\t\taddamsfa\t\tadded\t\taddicted\t\taddie\t\tadding\t\taddress\t\tadds\t\tadewale\t\tadi\t\tadjustable\t\tadmin\t\tadministrator\t\tadmirer\t\tadmission\t\tadmit\t\tadore\t\tadoring\t\tadp\t\tadress\t\tadrian\t\tadrink\t\tads\t\tadsense\t\tadult\t\tadults\t\tadvance\t\tadventure\t\tadventuring\t\tadvice\t\tadvise\t\tadvising\t\tadvisors\t\taeronautics\t\taeroplane\t\tafew\t\taffair\t\taffairs\t\taffection\t\taffectionate\t\taffections\t\taffidavit\t\tafford\t\tafghanistan\t\tafraid\t\tafrica\t\tafrican\t\taft\t\tafter\t\tafternon\t\tafternoon\t\tafternoons\t\tafterwards\t\taftr\t\tag\t\tagain\t\tagalla\t\tage\t\tage16\t\tage23\t\tagency\t\tagent\t\tagents\t\tages\t\tagidhane\t\taging\t\tago\t\tagree\t\tah\t\taha\t\tahead\t\tahhh\t\tahhhh\t\tahmad\t\tahold\t\tai\t\taid\t\taids\t\taig\t\taight\t\taint\t\tair\t\tair1\t\tairport\t\tairtel\t\taiya\t\taiyah\t\taiyar\t\taiyo\t\tajith\t\tak\t\taka\t\takon\t\tal\t\talaikkum\t\talaipayuthe\t\talbi\t\talbum\t\talcohol\t\taldrine\t\talert\t\talertfrom\t\talerts\t\taletter\t\talex\t\talfie\t\talgarve\t\talgebra\t\talgorithms\t\tali\t\talian\t\talibi\t\talive\t\tall\t\tallah\t\tallalo\t\tallday\t\talle\t\tallo\t\tallow\t\tallowed\t\tallows\t\talmost\t\talone\t\talong\t\talot\t\talready\t\talright\t\talrite\t\talso\t\talter\t\talternative\t\talthough\t\talto18\t\taluable\t\talwa\t\talways\t\talwys\t\tam\t\tamanda\t\tamazing\t\tambitious\t\tambrith\t\tamerican\t\tami\t\tamigos\t\tamk\t\tamla\t\tamma\t\tammae\t\tammo\t\tamnow\t\tamong\t\tamongst\t\tamount\t\tamp\t\tamplikater\t\tamrca\t\tamrita\t\tams\t\tamt\t\tamused\t\tamy\t\tan\t\tana\t\tanal\t\tanalysis\t\tanand\t\tand\t\tanderson\t\tandre\t\tandres\t\tandrews\t\tandros\t\tangels\t\tangry\t\tanimal\t\tanimation\t\tanjie\t\tanjola\t\tanna\t\tannie\t\tanniversary\t\tannoncement\t\tannounced\t\tannouncement\t\tannoyin\t\tannoying\t\tanonymous\t\tanot\t\tanother\t\tans\t\tansr\t\tanswer\t\tanswered\t\tanswerin\t\tanswering\t\tanswers\t\tanswr\t\tantelope\t\tantha\t\tanthony\t\tanti\t\tantibiotic\t\tanybody\t\tanyhow\t\tanymore\t\tanyone\t\tanyones\t\tanyplaces\t\tanythiing\t\tanythin\t\tanything\t\tanythingtomorrow\t\tanytime\t\tanyway\t\tanyways\t\tanywhere\t\taom\t\tapart\t\tapartment\t\tapes\t\tapeshit\t\taphex\t\tapnt\t\tapo\t\tapologetic\t\tapologise\t\tapologize\t\tapology\t\tapp\t\tapparently\t\tappeal\t\tappear\t\tappendix\t\tapplausestore\t\tapplebees\t\tapples\t\tapplication\t\tapply\t\tapplyed\t\tapplying\t\tappointment\t\tappointments\t\tappreciate\t\tappreciated\t\tapproaches\t\tapproaching\t\tappropriate\t\tapprove\t\tapproved\t\tapprox\t\tapps\t\tappt\t\tappy\t\tapril\t\taproach\t\tapt\t\taptitude\t\taquarius\t\tar\t\tarab\t\tarabian\t\tarcade\t\tarchive\t\tard\t\tare\t\tarea\t\tarent\t\tarestaurant\t\taretaking\t\tareyouunique\t\targentina\t\targh\t\targue\t\targuing\t\targument\t\targuments\t\taries\t\tarise\t\tarises\t\tarithmetic\t\tarm\t\tarmand\t\tarmenia\t\tarms\t\tarng\t\tarngd\t\tarnt\t\taround\t\taroundn\t\tarr\t\tarrange\t\tarranging\t\tarrested\t\tarrival\t\tarrive\t\tarrived\t\tarrow\t\tarsenal\t\tart\t\tartists\t\tarts\t\tarty\t\tarul\t\tarun\t\tasa\t\tasap\t\tasda\t\tashes\t\tashley\t\tashwini\t\tasia\t\tasian\t\tasjesus\t\task\t\taskd\t\tasked\t\taskin\t\tasking\t\tasks\t\taslamalaikkum\t\tasleep\t\tasp\t\taspects\t\tass\t\tassessment\t\tasshole\t\tassistance\t\tassociate\t\tasssssholeeee\t\tassume\t\tassumed\t\tasthere\t\tasthma\t\tastne\t\tastoundingly\t\tastrology\t\tastronomer\t\tasus\t\tasusual\t\tat\t\tate\t\tathletic\t\tathome\t\tatlanta\t\tatlast\t\tatleast\t\tatm\t\tatrocious\t\tattach\t\tattached\t\tattack\t\tattempt\t\tatten\t\tattend\t\tattended\t\tattending\t\tattention\t\tattitude\t\tattraction\t\tattractive\t\tattracts\t\tattributed\t\tatural\t\tauction\t\taudiitions\t\taudition\t\taudrey\t\taudrie\t\taugust\t\taunt\t\tauntie\t\taunties\t\taunts\t\taunty\t\taust\t\taustralia\t\tauthorise\t\tauto\t\tautocorrect\t\tav\t\tava\t\tavaila\t\tavailable\t\tavalarr\t\tavatar\t\tavble\t\tave\t\tavenge\t\tavent\t\tavenue\t\tavin\t\tavo\t\tavoid\t\tavoiding\t\tavoids\t\tawait\t\tawaiting\t\tawake\t\taward\t\tawarded\t\taway\t\tawesome\t\tawkward\t\taww\t\tawww\t\tax\t\taxel\t\taxis\t\tay\t\tayn\t\tayo\t\tb4\t\tb4190604\t\tb4280703\t\tb4u\t\tb4utele\t\tba\t\tba128nnfwfly150ppm\t\tbaaaaaaaabe\t\tbaaaaabe\t\tbabe\t\tbabes\t\tbabies\t\tbaby\t\tbabygoodbye\t\tbabyjontet\t\tbabysit\t\tbabysitting\t\tbac\t\tback\t\tbackdoor\t\tbackwards\t\tbad\t\tbadass\t\tbadly\t\tbadrith\t\tbag\t\tbags\t\tbahamas\t\tbaig\t\tbailiff\t\tbajarangabali\t\tbak\t\tbakra\t\tbakrid\t\tbalance\t\tball\t\tballer\t\tballoon\t\tballs\t\tbam\t\tbambling\t\tband\t\tbandages\t\tbang\t\tbangb\t\tbangbabes\t\tbani\t\tbank\t\tbanks\t\tbanned\t\tbanneduk\t\tbanter\t\tbao\t\tbar\t\tbarbie\t\tbarcelona\t\tbare\t\tbarely\t\tbari\t\tbarkleys\t\tbarmed\t\tbarolla\t\tbarred\t\tbarrel\t\tbarring\t\tbarry\t\tbars\t\tbase\t\tbased\t\tbash\t\tbasic\t\tbasically\t\tbasket\t\tbasketball\t\tbasq\t\tbat\t\tbatch\t\tbatchlor\t\tbath\t\tbathe\t\tbathing\t\tbathroom\t\tbatsman\t\tbatt\t\tbattery\t\tbattle\t\tbawling\t\tbay\t\tbb\t\tbbc\t\tbbd\t\tbbdeluxe\t\tbbq\t\tbc\t\tbcaz\t\tbck\t\tbcm\t\tbcm1896wc1n3xx\t\tbcm4284\t\tbcmsfwc1n3xx\t\tbcoz\t\tbcs\t\tbcum\t\tbcums\t\tbcz\t\tbday\t\tbe\t\tbeach\t\tbeads\t\tbear\t\tbears\t\tbeatings\t\tbeauties\t\tbeautiful\t\tbeauty\t\tbec\t\tbecaus\t\tbecausethey\t\tbecome\t\tbecomes\t\tbecoz\t\tbecz\t\tbed\t\tbedbut\t\tbedreal\t\tbedrm\t\tbedroom\t\tbeeen\t\tbeehoon\t\tbeendropping\t\tbeer\t\tbeerage\t\tbeers\t\tbefor\t\tbefore\t\tbeforehand\t\tbeg\t\tbeggar\t\tbegging\t\tbegin\t\tbegins\t\tbegun\t\tbehalf\t\tbehave\t\tbehind\t\tbein\t\tbelieve\t\tbelive\t\tbell\t\tbellearlier\t\tbelligerent\t\tbelly\t\tbelong\t\tbelongs\t\tbelovd\t\tbeloved\t\tbelt\t\tben\t\tbend\t\tbeneath\t\tbeneficiary\t\tbenefits\t\tbennys\t\tbergkamp\t\tbeside\t\tbest\t\tbest1\t\tbet\t\tbeta\t\tbeth\t\tbetta\t\tbetter\t\tbettersn\t\tbettr\t\tbeverage\t\tbevies\t\tbeware\t\tbeyond\t\tbf\t\tbffs\t\tbfore\t\tbhaji\t\tbhaskar\t\tbhayandar\t\tbian\t\tbiatch\t\tbid\t\tbids\t\tbig\t\tbigger\t\tbiggest\t\tbike\t\tbill\t\tbilled\t\tbilling\t\tbillion\t\tbills\t\tbilly\t\tbilo\t\tbimbo\t\tbin\t\tbiola\t\tbird\t\tbirds\t\tbirla\t\tbiro\t\tbirth\t\tbirthdate\t\tbirthday\t\tbishan\t\tbit\t\tbitch\t\tbitching\t\tbite\t\tbites\t\tbits\t\tbiz\t\tbk\t\tblack\t\tblackberry\t\tblacko\t\tblah\t\tblake\t\tblame\t\tblank\t\tblanked\t\tblanket\t\tblankets\t\tblastin\t\tbleak\t\tbleh\t\tbless\t\tblessed\t\tblessing\t\tblessings\t\tblimey\t\tblind\t\tblock\t\tblocked\t\tblog\t\tblogging\t\tblogspot\t\tbloke\t\tblokes\t\tblonde\t\tbloo\t\tblood\t\tbloody\t\tbloomberg\t\tblow\t\tblowing\t\tblown\t\tblu\t\tblue\t\tbluetooth\t\tbluetoothhdset\t\tbluff\t\tblur\t\tbluray\t\tbmw\t\tboard\t\tboat\t\tboatin\t\tbob\t\tbody\t\tboggy\t\tbognor\t\tbold\t\tbold2\t\tbollox\t\tboltblue\t\tbomb\t\tbone\t\tbong\t\tbonus\t\tboo\t\tboobs\t\tbook\t\tbooked\t\tbookedthe\t\tbooking\t\tbookmark\t\tbooks\t\tbookshelf\t\tboooo\t\tboost\t\tbooty\t\tbootydelious\t\tborderline\t\tbored\t\tborin\t\tboring\t\tborn\t\tborrow\t\tboss\t\tboston\t\tbot\t\tboth\t\tbother\t\tbothering\t\tbottle\t\tbottom\t\tbought\t\tboundaries\t\tbout\t\tbowa\t\tbowl\t\tbowls\t\tbox\t\tbox1146\t\tbox139\t\tbox177\t\tbox245c2150pm\t\tbox326\t\tbox334\t\tbox334sk38ch\t\tbox385\t\tbox39822\t\tbox403\t\tbox420\t\tbox42wr29c\t\tbox434sk38wp150ppm18\t\tbox61\t\tbox95qu\t\tbox97n7qp\t\tboy\t\tboye\t\tboyf\t\tboyfriend\t\tboys\t\tboytoy\t\tbpo\t\tbrah\t\tbrain\t\tbraindance\t\tbrainless\t\tbrains\t\tbrainy\t\tbrand\t\tbrandy\t\tbras\t\tbrats\t\tbraved\t\tbray\t\tbrb\t\tbrdget\t\tbread\t\tbreadstick\t\tbreak\t\tbreaker\t\tbreakfast\t\tbreakin\t\tbreaking\t\tbreaks\t\tbreath\t\tbreathe\t\tbreathe1\t\tbreather\t\tbreathing\t\tbreeze\t\tbreezy\t\tbribe\t\tbridal\t\tbridge\t\tbridgwater\t\tbrief\t\tbright\t\tbrighten\t\tbrilliant\t\tbrilliantly\t\tbrin\t\tbring\t\tbringing\t\tbrings\t\tbrisk\t\tbrison\t\tbristol\t\tbritish\t\tbritney\t\tbro\t\tbroad\t\tbroadband\t\tbroke\t\tbroken\t\tbrolly\t\tbros\t\tbroth\t\tbrothas\t\tbrother\t\tbrothers\t\tbrought\t\tbrown\t\tbrownie\t\tbrownies\t\tbrowse\t\tbrowser\t\tbrowsin\t\tbruce\t\tbrum\t\tbruv\t\tbslvyl\t\tbsn\t\tbsnl\t\tbstfrnd\t\tbt\t\tbthere\t\tbtw\t\tbtwn\t\tbubbletext\t\tbucks\t\tbud\t\tbuddy\t\tbuddys\t\tbudget\t\tbuen\t\tbuff\t\tbuffet\t\tbuffy\t\tbugis\t\tbuild\t\tbuilding\t\tbuilt\t\tbulbs\t\tbull\t\tbullshit\t\tbunch\t\tbundle\t\tbunkers\t\tbuns\t\tburden\t\tburger\t\tburgundy\t\tburial\t\tburn\t\tburning\t\tburns\t\tburnt\t\tburrito\t\tbus\t\tbus8\t\tbuses\t\tbusetop\t\tbusiness\t\tbusty\t\tbusy\t\tbut\t\tbutt\t\tbuttheres\t\tbutting\t\tbuttons\t\tbuy\t\tbuyer\t\tbuyers\t\tbuying\t\tbuz\t\tbuzy\t\tbuzz\t\tbuzzzz\t\tbw\t\tbx\t\tbx420\t\tbx526\t\tby\t\tbyatch\t\tbye\t\tc52\t\tca\t\tcab\t\tcabin\t\tcable\t\tcafe\t\tcage\t\tcake\t\tcakes\t\tcal\t\tcalculated\t\tcalculation\t\tcali\t\tcalicut\t\tcalifornia\t\tcall\t\tcall09050000327\t\tcall2optout\t\tcallback\t\tcallcost\t\tcallcost150ppmmobilesvary\t\tcalld\t\tcalled\t\tcaller\t\tcallers\t\tcallertune\t\tcallfreefone\t\tcallin\t\tcalling\t\tcallon\t\tcalls\t\tcalls1\t\tcalm\t\tcam\t\tcamcorder\t\tcame\t\tcamera\t\tcamp\t\tcampus\t\tcamry\t\tcan\t\tcanada\t\tcanal\t\tcanary\t\tcancel\t\tcanceled\t\tcancelled\t\tcancer\t\tcanlove\t\tcanname\t\tcant\t\tcantdo\t\tcanteen\t\tcapacity\t\tcapital\t\tcappuccino\t\tcaps\t\tcaptain\t\tcaptaining\t\tcar\t\tcard\t\tcardiff\t\tcardin\t\tcards\t\tcare\t\tcareabout\t\tcared\t\tcareer\t\tcareers\t\tcareful\t\tcarefully\t\tcareless\t\tcares\t\tcaring\t\tcarlie\t\tcarlin\t\tcarlos\t\tcarly\t\tcarolina\t\tcaroline\t\tcarpark\t\tcarry\t\tcarryin\t\tcars\t\tcartons\t\tcartoon\t\tcase\t\tcash\t\tcashbin\t\tcashed\t\tcashto\t\tcasing\t\tcast\t\tcasting\t\tcastor\t\tcasualty\t\tcat\t\tcatch\t\tcatches\t\tcatching\t\tcategories\t\tcaught\t\tcause\t\tcauses\t\tcausing\t\tcave\t\tcaveboy\t\tcbe\t\tcc\t\tcc100p\t\tccna\t\tcd\t\tcdgt\t\tcds\t\tcedar\t\tceiling\t\tceleb\t\tcelebrate\t\tcelebrated\t\tcelebration\t\tcelebrations\t\tcell\t\tcensus\t\tcenter\t\tcentre\t\tcentury\t\tcer\t\tcereals\t\tceri\t\tcertainly\t\tcertificate\t\tcha\t\tchachi\t\tchad\t\tchain\t\tchallenge\t\tchallenging\t\tchamp\t\tchamplaxigating\t\tchampneys\t\tchance\t\tchances\t\tchange\t\tchanged\t\tchanges\t\tchanging\t\tchannel\t\tchapel\t\tchaps\t\tchapter\t\tcharacter\t\tcharacters\t\tcharge\t\tcharged\t\tcharges\t\tcharity\t\tcharles\t\tcharlie\t\tcharming\t\tchart\t\tcharts\t\tchase\t\tchasing\t\tchastity\t\tchat\t\tchat80155\t\tchatlines\t\tchatter\t\tchatting\t\tcheap\t\tcheaper\t\tcheat\t\tcheating\t\tchechi\t\tcheck\t\tcheckboxes\t\tchecked\t\tcheckin\t\tchecking\t\tcheckmate\t\tcheckup\t\tcheek\t\tcheer\t\tcheered\t\tcheers\t\tcheery\t\tcheese\t\tcheesy\t\tcheetos\t\tchef\t\tchennai\t\tcheque\t\tcherish\t\tcherthala\t\tchess\t\tchest\t\tchex\t\tcheyyamo\t\tchez\t\tchg\t\tchic\t\tchick\t\tchicken\t\tchickened\t\tchief\t\tchik\t\tchikku\t\tchild\t\tchildish\t\tchildporn\t\tchildren\t\tchildrens\t\tchile\t\tchill\t\tchillaxin\t\tchillin\t\tchina\t\tchinatown\t\tchinchillas\t\tchinese\t\tchinky\t\tchinnu\t\tchiong\t\tchip\t\tchit\t\tchk\t\tchloe\t\tchocolate\t\tchoice\t\tchoices\t\tchoose\t\tchoosing\t\tchop\t\tchords\t\tchores\t\tchosen\t\tchrgd\t\tchrist\t\tchristians\t\tchristmas\t\tchristmassy\t\tchuck\t\tchuckin\t\tchurch\t\tciao\t\tcine\t\tcinema\t\tcitizen\t\tcity\t\tcitylink\t\tcl\t\tclaim\t\tclaimcode\t\tclaims\t\tclaire\t\tclarification\t\tclarify\t\tclark\t\tclas\t\tclash\t\tclass\t\tclasses\t\tclassic\t\tclassmates\t\tclaypot\t\tcld\t\tclean\t\tcleaning\t\tclear\t\tcleared\t\tclearer\t\tclearing\t\tclearly\t\tclever\t\tclick\t\tcliff\t\tcliffs\t\tclip\t\tclock\t\tclocks\t\tclos1\t\tclose\t\tcloseby\t\tclosed\t\tcloser\t\tcloses\t\tclosingdate04\t\tcloth\t\tclothes\t\tcloud\t\tclover\t\tclub\t\tclub4\t\tclub4mobiles\t\tclubmoby\t\tclubsaisai\t\tclubzed\t\tclue\t\tcm\t\tcm2\t\tcme\t\tcmon\t\tcn\t\tcnl\t\tcnn\t\tcnupdates\t\tco\t\tcoach\t\tcoast\t\tcoat\t\tcoaxing\t\tcoca\t\tcoccooning\t\tcochin\t\tcock\t\tcocksuckers\t\tcoco\t\tcode\t\tcoffee\t\tcoherently\t\tcoimbatore\t\tcoin\t\tcoincidence\t\tcoins\t\tcola\t\tcolany\t\tcold\t\tcolin\t\tcollages\t\tcollapsed\t\tcolleagues\t\tcollect\t\tcollected\t\tcollecting\t\tcollection\t\tcolleg\t\tcollege\t\tcolor\t\tcolour\t\tcolourful\t\tcolours\t\tcom\t\tcom1win150ppmx3age16\t\tcom1win150ppmx3age16subscription\t\tcomb\t\tcombination\t\tcombine\t\tcome\t\tcomedy\t\tcomes\t\tcomfey\t\tcomfort\t\tcomin\t\tcoming\t\tcomingdown\t\tcommand\t\tcomment\t\tcommercial\t\tcommit\t\tcommon\t\tcommunity\t\tcomo\t\tcomp\t\tcompanies\t\tcompanion\t\tcompany\t\tcompare\t\tcompass\t\tcompensation\t\tcompetition\t\tcomplacent\t\tcomplain\t\tcomplaining\t\tcomplaint\t\tcomplementary\t\tcomplete\t\tcompleted\t\tcompletely\t\tcompletes\t\tcompleting\t\tcomplexities\t\tcomplimentary\t\tcompliments\t\tcomprehensive\t\tcompromised\t\tcompulsory\t\tcomputational\t\tcomputer\t\tcomputerless\t\tcomputers\t\tcomuk\t\tconacted\t\tconcentrate\t\tconcentrating\t\tconcentration\t\tconcern\t\tconcerned\t\tconcert\t\tconclusion\t\tcondition\t\tconditions\t\tconducts\t\tconected\t\tconference\t\tconfidence\t\tconfigure\t\tconfirm\t\tconfirmd\t\tconfirmed\t\tconform\t\tconfused\t\tconfuses\t\tcongrats\t\tcongratulation\t\tcongratulations\t\tconnect\t\tconnected\t\tconnection\t\tconnections\t\tcons\t\tconsensus\t\tconsent\t\tconserve\t\tconsider\t\tconsidering\t\tconsistently\t\tconsole\t\tconstant\t\tconstantly\t\tcontact\t\tcontacted\t\tcontacts\t\tcontains\t\tcontent\t\tcontented\t\tcontention\t\tcontents\t\tcontinent\t\tcontinue\t\tcontinued\t\tcontract\t\tcontribute\t\tcontrol\t\tconvenience\t\tconversations\t\tconverted\t\tconverter\t\tconvey\t\tconveying\t\tconvince\t\tconvinced\t\tconvincing\t\tcook\t\tcooked\t\tcookies\t\tcooking\t\tcool\t\tcooped\t\tcooperative\t\tcopied\t\tcopies\t\tcoping\t\tcops\t\tcopy\t\tcorect\t\tcornwall\t\tcorporation\t\tcorrct\t\tcorrect\t\tcorrection\t\tcorrectly\t\tcorrupt\t\tcorvettes\t\tcos\t\tcosign\t\tcost\t\tcosta\t\tcosting\t\tcosts\t\tcostume\t\tcostumes\t\tcouch\t\tcougar\t\tcough\t\tcoughing\t\tcould\t\tcoulda\t\tcouldn\t\tcount\t\tcountin\t\tcountinlots\t\tcountry\t\tcounts\t\tcoupla\t\tcouple\t\tcourage\t\tcourageous\t\tcourse\t\tcourt\t\tcourtroom\t\tcousin\t\tcover\t\tcoveragd\t\tcovers\t\tcoz\t\tcozy\t\tcps\t\tcr\t\tcr01327bt\t\tcr9\t\tcrab\t\tcrack\t\tcraigslist\t\tcrammed\t\tcramps\t\tcrap\t\tcrash\t\tcrashed\t\tcrashing\t\tcrave\t\tcraving\t\tcraziest\t\tcrazy\t\tcrazyin\t\tcrckt\t\tcream\t\tcreated\t\tcreative\t\tcreativity\t\tcredit\t\tcredited\t\tcredits\t\tcreep\t\tcreepy\t\tcres\t\tcribbs\t\tcricket\t\tcricketer\t\tcrickiting\t\tcried\t\tcrisis\t\tcro1327\t\tcrore\t\tcross\t\tcrossing\t\tcrowd\t\tcroydon\t\tcrucial\t\tcrucify\t\tcruel\t\tcruise\t\tcruisin\t\tcrushes\t\tcry\t\tcrying\t\tcs\t\tcsbcm4235wc1n3xx\t\tcsc\t\tcsh11\t\tcst\t\tcstore\t\tctagg\t\tctargg\t\tcthen\t\tctla\t\tcts\t\tcttargg\t\tctter\t\tcttergg\t\tctxt\t\tcu\t\tcuck\t\tcud\t\tcuddle\t\tcuddled\t\tcuddling\t\tcudnt\t\tculdnt\t\tcultures\t\tcum\t\tcumin\t\tcumming\t\tcup\t\tcupboard\t\tcuppa\t\tcurfew\t\tcurious\t\tcurrent\t\tcurrently\t\tcurry\t\tcurtsey\t\tcusoon\t\tcust\t\tcustcare\t\tcustom\t\tcustomer\t\tcustomercare\t\tcustomers\t\tcustomersqueries\t\tcut\t\tcute\t\tcutefrnd\t\tcutest\t\tcutie\t\tcutter\t\tcutting\t\tcuz\t\tcw25wx\t\tcya\t\tcyclists\t\tcysts\t\td3wv\t\tda\t\tdaaaaa\t\tdabbles\t\tdabooks\t\tdad\t\tdaddy\t\tdads\t\tdai\t\tdaily\t\tdammit\t\tdamn\t\tdan\t\tdancce\t\tdance\t\tdancin\t\tdancing\t\tdane\t\tdang\t\tdanger\t\tdangerous\t\tdao\t\tdare\t\tdark\t\tdarker\t\tdarkest\t\tdarkness\t\tdarlin\t\tdarling\t\tdarlings\t\tdarren\t\tdartboard\t\tdas\t\tdasara\t\tdat\t\tdata\t\tdate\t\tdatebox1282essexcm61xn\t\tdates\t\tdating\t\tdats\t\tdatz\t\tdave\t\tdawns\t\tday\t\tdays\t\tdaytime\t\tdaywith\t\tdb\t\tdbuk\t\tdd\t\tde\t\tdead\t\tdeal\t\tdealer\t\tdealing\t\tdeals\t\tdear\t\tdear1\t\tdearer\t\tdearly\t\tdeath\t\tdebating\t\tdec\t\tdecades\t\tdecember\t\tdecent\t\tdecide\t\tdecided\t\tdeciding\t\tdecimal\t\tdecision\t\tdecisions\t\tdeck\t\tdecking\t\tdeclare\t\tdecorating\t\tdedicate\t\tdedicated\t\tdeduct\t\tdeep\t\tdeepak\t\tdeepest\t\tdeer\t\tdeeraj\t\tdef\t\tdefeat\t\tdefer\t\tdeficient\t\tdefinite\t\tdefinitely\t\tdefinitly\t\tdefo\t\tdegree\t\tdegrees\t\tdehydrated\t\tdehydration\t\tdel\t\tdelay\t\tdelayed\t\tdelete\t\tdeleted\t\tdelhi\t\tdelicious\t\tdeliver\t\tdelivered\t\tdeliveredtomorrow\t\tdelivery\t\tdeltomorrow\t\tdeluxe\t\tdem\t\tdemand\t\tden\t\tdena\t\tdengra\t\tdenis\t\tdent\t\tdental\t\tdentist\t\tdentists\t\tdeny\t\tdenying\t\tdepartment\t\tdependable\t\tdependents\t\tdepends\t\tdeposit\t\tdeposited\t\tdepressed\t\tdepression\t\tdept\t\tder\t\tderek\t\tderp\t\tdescribe\t\tdescription\t\tdesert\t\tdeserve\t\tdesignation\t\tdesires\t\tdesk\t\tdesparate\t\tdesparately\t\tdesperate\t\tdespite\t\tdessert\t\tdestination\t\tdestiny\t\tdetail\t\tdetailed\t\tdetails\t\tdetermine\t\tdetermined\t\tdetroit\t\tdeus\t\tdevelop\t\tdeveloped\t\tdeveloper\t\tdevice\t\tdevils\t\tdeviousbitch\t\tdevouring\t\tdey\t\tdha\t\tdhanush\t\tdhina\t\tdhoni\t\tdhorte\t\tdi\t\tdial\t\tdialling\t\tdialogue\t\tdiamond\t\tdiamonds\t\tdiapers\t\tdice\t\tdick\t\tdict\t\tdictionary\t\tdid\t\tdiddy\t\tdidn\t\tdidnt\t\tdidntgive\t\tdie\t\tdied\t\tdiesel\t\tdiet\t\tdieting\t\tdiff\t\tdiffer\t\tdifference\t\tdifferences\t\tdifferent\t\tdifficult\t\tdifficulties\t\tdificult\t\tdigi\t\tdigital\t\tdigits\t\tdignity\t\tdileep\t\tdime\t\tdimension\t\tdin\t\tdine\t\tdined\t\tdinero\t\tding\t\tdining\t\tdinner\t\tdino\t\tdint\t\tdip\t\tdippeditinadew\t\tdirect\t\tdirectly\t\tdirector\t\tdirectors\t\tdirt\t\tdirtiest\t\tdirty\t\tdis\t\tdisagreeable\t\tdisappeared\t\tdisappointment\t\tdisaster\t\tdisasters\t\tdisastrous\t\tdisc\t\tdisclose\t\tdisconnect\t\tdisconnected\t\tdiscount\t\tdiscreet\t\tdiscuss\t\tdiscussed\t\tdiseases\t\tdisk\t\tdislikes\t\tdismay\t\tdismissial\t\tdisplay\t\tdistance\t\tdistract\t\tdisturb\t\tdisturbance\t\tdisturbing\t\tditto\t\tdivert\t\tdivision\t\tdivorce\t\tdiwali\t\tdizzamn\t\tdizzee\t\tdl\t\tdled\t\tdlf\t\tdload\t\tdnot\t\tdnt\t\tdo\t\tdob\t\tdobby\t\tdoc\t\tdock\t\tdocks\t\tdocs\t\tdoctor\t\tdoctors\t\tdocuments\t\tdodda\t\tdodgey\t\tdoesdiscount\t\tdoesn\t\tdoesnt\t\tdog\t\tdogbreath\t\tdogg\t\tdoggin\t\tdogging\t\tdoggy\t\tdogs\t\tdogwood\t\tdoin\t\tdoinat\t\tdoit\t\tdoke\t\tdokey\t\tdoll\t\tdollar\t\tdollars\t\tdolls\t\tdom\t\tdomain\t\tdon\t\tdonate\t\tdone\t\tdonno\t\tdont\t\tdontcha\t\tdontignore\t\tdontmatter\t\tdontplease\t\tdonyt\t\tdooms\t\tdoor\t\tdoors\t\tdorm\t\tdormitory\t\tdorothy\t\tdose\t\tdosomething\t\tdot\t\tdouble\t\tdoublemins\t\tdoubles\t\tdoubletxt\t\tdoubt\t\tdoug\t\tdough\t\tdownload\t\tdownloaded\t\tdownloads\t\tdownon\t\tdowns\t\tdownstem\t\tdozens\t\tdps\t\tdr\t\tdracula\t\tdrama\t\tdramastorm\t\tdramatic\t\tdrastic\t\tdraw\t\tdraws\t\tdreading\t\tdream\t\tdreams\t\tdreamz\t\tdress\t\tdressed\t\tdresser\t\tdrink\t\tdrinkin\t\tdrinking\t\tdrinks\t\tdrivby\t\tdrive\t\tdriver\t\tdrivin\t\tdriving\t\tdrizzling\t\tdrms\t\tdrop\t\tdropped\t\tdrops\t\tdrove\t\tdrpd\t\tdrug\t\tdrugdealer\t\tdrugs\t\tdrum\t\tdrunk\t\tdrunkard\t\tdrunken\t\tdrvgsto\t\tdry\t\tdryer\t\tds\t\tdt\t\tdual\t\tdub\t\tdubsack\t\tduchess\t\tducking\t\tdude\t\tdudes\t\tdudette\t\tdue\t\tduffer\t\tdull\t\tdumb\t\tdump\t\tdun\t\tdungerees\t\tdunno\t\tduo\t\tdurban\t\tdurham\t\tdusk\t\tdust\t\tduvet\t\tdvd\t\tdvg\t\tdwn\t\tdying\t\tdysentry\t\te14\t\teachother\t\tear\t\tearlier\t\tearliest\t\tearly\t\tearn\t\tearning\t\tears\t\tearth\t\teasier\t\teasiest\t\teasily\t\teast\t\teastenders\t\teaster\t\teasy\t\teat\t\teaten\t\teatin\t\teating\t\tebay\t\tec2a\t\techo\t\teckankar\t\tecstacy\t\tecstasy\t\ted\t\tedge\t\tedhae\t\tedison\t\tedition\t\tedrunk\t\tedu\t\teducation\t\teducational\t\tedukkukayee\t\tedward\t\tedwards\t\tee\t\teek\t\teerie\t\teerulli\t\teffect\t\teffects\t\tefficient\t\tefreefone\t\teg\t\tegbon\t\tegg\t\teggs\t\tego\t\teh\t\teh74rr\t\teight\t\teighth\t\teightish\t\teire\t\teither\t\tel\t\tela\t\telaborate\t\telaborating\t\telaine\t\telama\t\telaya\t\teldest\t\telection\t\telections\t\telectricity\t\telephant\t\televen\t\telliot\t\tello\t\telse\t\telsewhere\t\telvis\t\tem\t\temail\t\temailed\t\tembarassed\t\tembarassing\t\tembarrassed\t\tembassy\t\temc1\t\temergency\t\temerging\t\temigrated\t\temily\t\temotion\t\temployee\t\temployer\t\tempty\t\ten\t\tenc\t\tend\t\tended\t\tending\t\tendless\t\tendof\t\tendowed\t\tends\t\tenemies\t\tenemy\t\tenergy\t\teng\t\tengaged\t\tengagement\t\tengalnd\t\tengin\t\tengland\t\tenglish\t\tenjoy\t\tenjoyed\t\tenjoyin\t\tenjoying\t\tenketa\t\tenna\t\tennal\t\tenough\t\tente\t\tenter\t\tentered\t\tenters\t\tentertain\t\tentertaining\t\tentey\t\tentire\t\tentirely\t\tentitled\t\tentrepreneurs\t\tentropication\t\tentry\t\tentry41\t\tenufcredeit\t\tenuff\t\tenvelope\t\tenvironment\t\tenvy\t\tepi\t\teppolum\t\tepsilon\t\tequally\t\ter\t\tere\t\tericson\t\tericsson\t\term\t\terode\t\terotic\t\terr\t\terror\t\terrors\t\tertini\t\teruku\t\terupt\t\terutupalam\t\tesaplanade\t\tescalator\t\tescape\t\tese\t\teshxxxxxxxxxxx\t\tespe\t\tespecially\t\tesplanade\t\tessay\t\tessential\t\testablish\t\teta\t\tetc\t\tethnicity\t\tetlp\t\tettans\t\teuro\t\teuro2004\t\teurodisinc\t\teurope\t\tevaluation\t\tevaporated\t\teve\t\teveb\t\teven\t\tevening\t\tevenings\t\tevent\t\tevents\t\teventually\t\tever\t\tevery\t\tevery1\t\teverybody\t\teveryboy\t\teveryday\t\teveryone\t\teveryones\t\teveryso\t\teverythin\t\teverything\t\teverytime\t\teverywhere\t\tevey\t\teviction\t\tevil\t\tevn\t\tevng\t\tevo\t\tevone\t\tevr\t\tevrey\t\tevry\t\tevry1\t\tevrydy\t\tew\t\tex\t\texact\t\texactly\t\texam\t\texams\t\texcellent\t\texcept\t\texchanged\t\texcited\t\texciting\t\texcuse\t\texcused\t\texcuses\t\texe\t\texecutive\t\texercise\t\texeter\t\texhaust\t\texhausted\t\texhibition\t\texist\t\texmpel\t\texorcism\t\texorcist\t\texp\t\texpect\t\texpected\t\texpecting\t\texpects\t\texpensive\t\texperience\t\texperiencehttp\t\texperiment\t\texpert\t\texpired\t\texpires\t\texpiry\t\texplain\t\texplicit\t\texplicitly\t\texplosive\t\texposed\t\texposes\t\texpress\t\texpression\t\texpressoffer\t\text\t\texterminator\t\textra\t\textract\t\textreme\t\tey\t\teye\t\teyed\t\teyes\t\tf4q\t\tfa\t\tfab\t\tfaber\t\tface\t\tfacebook\t\tfacilities\t\tfact\t\tfactory\t\tfacts\t\tfaded\t\tfaggot\t\tfaggy\t\tfaglord\t\tfailed\t\tfailing\t\tfails\t\tfailure\t\tfainting\t\tfair\t\tfaith\t\tfake\t\tfakeye\t\tfal\t\tfalconerf\t\tfall\t\tfallen\t\tfalling\t\tfalls\t\tfals\t\tfamamus\t\tfamiliar\t\tfamily\t\tfamous\t\tfan\t\tfancied\t\tfancies\t\tfancy\t\tfans\t\tfantasies\t\tfantastic\t\tfantasy\t\tfar\t\tfarm\t\tfarrell\t\tfarting\t\tfassyole\t\tfast\t\tfaster\t\tfastest\t\tfat\t\tfated\t\tfather\t\tfathima\t\tfats\t\tfatty\t\tfault\t\tfav\t\tfave\t\tfavor\t\tfavorite\t\tfavour\t\tfavourite\t\tfb\t\tfear\t\tfeathery\t\tfeatures\t\tfeb\t\tfebruary\t\tfed\t\tfedex\t\tfeed\t\tfeel\t\tfeelin\t\tfeeling\t\tfeelingood\t\tfeellikw\t\tfeels\t\tfees\t\tfeet\t\tfell\t\tfellow\t\tfelt\t\tfemale\t\tfeng\t\tfestival\t\tfetch\t\tfetching\t\tfever\t\tffectionate\t\tfffff\t\tffffffffff\t\tffffuuuuuuu\t\tfgkslpo\t\tfgkslpopw\t\tfidalfication\t\tfield\t\tfieldof\t\tfiend\t\tfifa\t\tfifteen\t\tfifth\t\tfifty\t\tfight\t\tfighting\t\tfightng\t\tfights\t\tfigure\t\tfigures\t\tfiguring\t\tfile\t\tfiles\t\tfill\t\tfilled\t\tfilling\t\tfills\t\tfilm\t\tfilms\t\tfilth\t\tfilthy\t\tfilthyguys\t\tfinal\t\tfinalise\t\tfinally\t\tfinance\t\tfinancial\t\tfind\t\tfinding\t\tfinds\t\tfine\t\tfinest\t\tfingers\t\tfinish\t\tfinishd\t\tfinished\t\tfinishes\t\tfinishing\t\tfink\t\tfinn\t\tfire\t\tfired\t\tfirefox\t\tfireplace\t\tfires\t\tfirmware\t\tfirsg\t\tfirst\t\tfish\t\tfishhead\t\tfishrman\t\tfit\t\tfiting\t\tfive\t\tfix\t\tfixd\t\tfixed\t\tfixedline\t\tfixes\t\tfizz\t\tflag\t\tflaked\t\tflaky\t\tflame\t\tflash\t\tflat\t\tflatter\t\tflavour\t\tflea\t\tfletcher\t\tflew\t\tflies\t\tflight\t\tflights\t\tflim\t\tflip\t\tflippin\t\tflirt\t\tflirting\t\tflirtparty\t\tfloating\t\tflood\t\tfloor\t\tfloppy\t\tflorida\t\tflow\t\tflower\t\tflowers\t\tflowing\t\tfluids\t\tflung\t\tflurries\t\tflute\t\tfly\t\tflying\t\tflyng\t\tfm\t\tfml\t\tfne\t\tfo\t\tfold\t\tfoley\t\tfolks\t\tfollow\t\tfollowed\t\tfollowin\t\tfollowing\t\tfollows\t\tfond\t\tfondly\t\tfone\t\tfoned\t\tfones\t\tfonin\t\tfood\t\tfool\t\tfooled\t\tfools\t\tfoot\t\tfootball\t\tfootbl\t\tfootie\t\tfootprints\t\tfooty\t\tfor\t\tforce\t\tforced\t\tforegate\t\tforeign\t\tforever\t\tforevr\t\tforfeit\t\tforget\t\tforgets\t\tforgive\t\tforgiven\t\tforgiveness\t\tforgot\t\tforgotten\t\tforgt\t\tform\t\tformal\t\tformally\t\tformat\t\tformatting\t\tforms\t\tforth\t\tfortune\t\tforum\t\tforums\t\tforward\t\tforwarded\t\tforwarding\t\tfound\t\tfoundurself\t\tfour\t\tfourth\t\tfoward\t\tfowler\t\tfox\t\tfps\t\tfr\t\tfraction\t\tfran\t\tfrank\t\tfrankie\t\tfranxx\t\tfranyxxxxx\t\tfrauds\t\tfreak\t\tfreaked\t\tfreaking\t\tfreaky\t\tfredericksburg\t\tfree\t\tfree2day\t\tfreedom\t\tfreeentry\t\tfreefone\t\tfreek\t\tfreely\t\tfreemsg\t\tfreephone\t\tfreezing\t\tfreinds\t\tfren\t\tfrench\t\tfrens\t\tfrequently\t\tfresh\t\tfreshers\t\tfret\t\tfri\t\tfriday\t\tfridays\t\tfridge\t\tfried\t\tfriend\t\tfriends\t\tfriendsare\t\tfriendship\t\tfriendships\t\tfring\t\tfringe\t\tfrm\t\tfrmcloud\t\tfrnd\t\tfrnds\t\tfrndship\t\tfrndshp\t\tfrndsship\t\tfrndz\t\tfrnt\t\tfro\t\tfrog\t\tfromm\t\tfromwrk\t\tfront\t\tfrontierville\t\tfrosty\t\tfruit\t\tfrwd\t\tfrying\t\tft\t\tfuck\t\tfucked\t\tfuckin\t\tfucking\t\tfuckinnice\t\tfucks\t\tfudge\t\tfuelled\t\tfujitsu\t\tful\t\tfulfil\t\tfull\t\tfullonsms\t\tfumbling\t\tfun\t\tfunction\t\tfunctions\t\tfund\t\tfundamentals\t\tfuneral\t\tfunk\t\tfunky\t\tfunny\t\tfuns\t\tfurniture\t\tfusion\t\tfuture\t\tfuuuuck\t\tfwiw\t\tfyi\t\tg2\t\tg696ga\t\tga\t\tgage\t\tgail\t\tgailxx\t\tgain\t\tgained\t\tgal\t\tgalileo\t\tgals\t\tgam\t\tgamb\t\tgame\t\tgames\t\tgamestar\t\tgandhipuram\t\tganesh\t\tgang\t\tgap\t\tgaps\t\tgarage\t\tgarbage\t\tgarden\t\tgardener\t\tgari\t\tgarments\t\tgary\t\tgas\t\tgastroenteritis\t\tgate\t\tgauge\t\tgautham\t\tgauti\t\tgave\t\tgay\t\tgayle\t\tgays\t\tgaytextbuddy\t\tgaze\t\tgbp\t\tgbp1\t\tgbp4\t\tgbp5\t\tgd\t\tgdeve\t\tge\t\tgee\t\tgeeee\t\tgeeeee\t\tgei\t\tgek1510\t\tgender\t\tgeneral\t\tgenerally\t\tgenes\t\tgenius\t\tgent\t\tgentle\t\tgentleman\t\tgently\t\tgenuine\t\tgenus\t\tgeoenvironmental\t\tgeorge\t\tgep\t\tger\t\tgermany\t\tget\t\tget4an18th\t\tgetiing\t\tgeting\t\tgets\t\tgetsleep\t\tgetstop\t\tgettin\t\tgetting\t\tgetzed\t\tgf\t\tghodbandar\t\tghost\t\tgibbs\t\tgibe\t\tgift\t\tgifted\t\tgifts\t\tgiggle\t\tgigolo\t\tgim\t\tgimmi\t\tgin\t\tgirl\t\tgirlfrnd\t\tgirlie\t\tgirls\t\tgist\t\tgiv\t\tgive\t\tgiven\t\tgives\t\tgiving\t\tglad\t\tglands\t\tglasgow\t\tglass\t\tglo\t\tglobal\t\tglorious\t\tglory\t\tgloucesterroad\t\tgm\t\tgmw\t\tgn\t\tgnarls\t\tgnt\t\tgnun\t\tgo\t\tgo2\t\tgo2sri\t\tgoal\t\tgoals\t\tgobi\t\tgod\t\tgods\t\tgoes\t\tgoggles\t\tgoigng\t\tgoin\t\tgoin2bed\t\tgoing\t\tgokila\t\tgold\t\tgolddigger\t\tgolden\t\tgoldviking\t\tgolf\t\tgon\t\tgona\t\tgone\t\tgong\t\tgonnamissu\t\tgood\t\tgoodevening\t\tgoodfriend\t\tgoodies\t\tgoodmate\t\tgoodmorning\t\tgoodnight\t\tgoodnite\t\tgoodnoon\t\tgoodo\t\tgoods\t\tgoodtime\t\tgoogle\t\tgopalettan\t\tgorgeous\t\tgosh\t\tgoss\t\tgossip\t\tgot\t\tgota\t\tgotany\t\tgotbabes\t\tgotmarried\t\tgoto\t\tgotten\t\tgotto\t\tgoverment\t\tgovt\t\tgower\t\tgprs\t\tgpu\t\tgr8\t\tgr8fun\t\tgr8prizes\t\tgrab\t\tgrace\t\tgraduated\t\tgrahmbell\t\tgram\t\tgrams\t\tgran\t\tgrand\t\tgrandfather\t\tgrandma\t\tgrandmas\t\tgranite\t\tgranted\t\tgraphics\t\tgrasp\t\tgrateful\t\tgrave\t\tgravel\t\tgravity\t\tgravy\t\tgray\t\tgrazed\t\tgre\t\tgreat\t\tgreatest\t\tgreatly\t\tgreatness\t\tgreece\t\tgreen\t\tgreet\t\tgreeting\t\tgreetings\t\tgrief\t\tgrinder\t\tgrins\t\tgrinule\t\tgrl\t\tgrocers\t\tgrooved\t\tgroovy\t\tgroovying\t\tground\t\tgroup\t\tgrow\t\tgrowing\t\tgrown\t\tgrownup\t\tgrr\t\tgrumble\t\tgrumpy\t\tgsex\t\tgsoh\t\tgt\t\tgua\t\tguai\t\tguarantee\t\tguaranteed\t\tgucci\t\tgud\t\tgudni8\t\tgudnite\t\tgudnyt\t\tguess\t\tguessed\t\tguesses\t\tguessin\t\tguessing\t\tguidance\t\tguide\t\tguides\t\tguild\t\tguilty\t\tguitar\t\tgumby\t\tguoyang\t\tgurl\t\tgut\t\tguy\t\tguys\t\tgv\t\tgving\t\tgym\t\tgymnastics\t\tgynae\t\tgyno\t\tha\t\thabba\t\thabit\t\thack\t\thaf\t\thaha\t\thahaha\t\thai\t\thail\t\thair\t\thaircut\t\thairdressers\t\thaiyoh\t\thaiz\t\thalf\t\thalf8th\t\thall\t\thalla\t\thallaq\t\thalloween\t\tham\t\thamper\t\thamster\t\thand\t\thanded\t\thanding\t\thandle\t\thands\t\thandset\t\thandsome\t\thandsomes\t\thang\t\thanger\t\thangin\t\thanging\t\thanks\t\thannaford\t\thanuman\t\thanumanji\t\thappen\t\thappend\t\thappened\t\thappenin\t\thappening\t\thappens\t\thappier\t\thappiest\t\thappily\t\thappiness\t\thappy\t\thard\t\thardcore\t\tharder\t\thardest\t\thardly\t\thari\t\tharish\t\tharlem\t\tharri\t\tharry\t\thasbro\t\thasnt\t\thassling\t\that\t\thate\t\thates\t\thaughaighgtujhyguj\t\thaul\t\thaunt\t\thav\t\thav2hear\t\thava\t\thavbeen\t\thave\t\thavebeen\t\thaven\t\thavent\t\thaventcn\t\thavin\t\thavnt\t\thcl\t\thdd\t\the\t\thead\t\theadache\t\theadin\t\theading\t\theads\t\theadset\t\theadstart\t\theal\t\thealer\t\thealthy\t\theap\t\thear\t\theard\t\thearin\t\thearing\t\theart\t\thearted\t\thearts\t\theat\t\theater\t\theaven\t\theavily\t\theavy\t\thectic\t\thee\t\theehee\t\thehe\t\theight\t\theld\t\thelen\t\thelens\t\thell\t\thella\t\thello\t\thellogorgeous\t\thelloooo\t\thelp\t\thelp08700621170150p\t\thelp08714742804\t\thelp08718728876\t\thelpful\t\thelping\t\thelpline\t\thelps\t\theltini\t\then\t\thence\t\thenry\t\thep\t\ther\t\there\t\thero\t\theroes\t\theron\t\thes\t\thesitant\t\thesitate\t\thesitation\t\thex\t\they\t\thf8\t\thg\t\thhahhaahahah\t\thi\t\thidden\t\thide\t\thides\t\thiding\t\thigh\t\thighest\t\thilarious\t\thill\t\thills\t\thillsborough\t\thimso\t\thint\t\thip\t\thiphop\t\thire\t\this\t\thistory\t\thit\t\thitler\t\thitman\t\thits\t\thitter\t\thittng\t\thiya\t\thl\t\thlday\t\thlp\t\thm\t\thme\t\thmm\t\thmmm\t\thmmmm\t\thmmross\t\thmph\t\thmv\t\thmv1\t\tho\t\thockey\t\thogidhe\t\thogli\t\thogolo\t\thol\t\tholby\t\thold\t\tholder\t\tholding\t\thole\t\tholiday\t\tholla\t\thollalater\t\thols\t\tholy\t\thome\t\thomeowners\t\thon\t\thonest\t\thonestly\t\thonesty\t\thoney\t\thoneybee\t\thoneymoon\t\thoni\t\thont\t\thoo\t\thooch\t\thoody\t\thook\t\thooked\t\thoops\t\thop\t\thope\t\thoped\t\thopeful\t\thopefully\t\thopeing\t\thopes\t\thopeso\t\thopeu\t\thoping\t\thor\t\thorniest\t\thorny\t\thoro\t\thorrible\t\thorse\t\thos\t\thospital\t\thospitals\t\thost\t\thostel\t\thostile\t\thot\t\thotel\t\thotels\t\thotmail\t\thotmix\t\thottest\t\thour\t\thourish\t\thours\t\thouse\t\thouseful\t\thousewives\t\thousework\t\thousing\t\thow\t\thoward\t\thowda\t\thowdy\t\thowever\t\thows\t\thowu\t\thowz\t\thp\t\thp20\t\thppnss\t\thr\t\thrishi\t\thrs\t\thsbc\t\thtml\t\thttp\t\thu\t\thuai\t\thubby\t\thudgi\t\thug\t\thuge\t\thugging\t\thugh\t\thugs\t\thuh\t\thui\t\thuiming\t\thum\t\thumanities\t\thumans\t\thun\t\thundred\t\thundreds\t\thungover\t\thungry\t\thunks\t\thunny\t\thunt\t\thunting\t\thurricanes\t\thurried\t\thurry\t\thurt\t\thurting\t\thurts\t\thusband\t\thussey\t\thustle\t\thut\t\thv\t\thv9d\t\thvae\t\thw\t\thyde\t\thype\t\thypertension\t\thypotheticalhuagauahahuagahyuhagga\t\tiam\t\tias\t\tibh\t\tibhltd\t\tibiza\t\tibm\t\tibn\t\tibored\t\tibuprofens\t\tic\t\ticcha\t\tice\t\ticic\t\ticicibank\t\ticky\t\ticmb3cktz8r7\t\ticon\t\tid\t\tidc\t\tidea\t\tideal\t\tideas\t\tidentification\t\tidentifier\t\tidew\t\tidiot\t\tidk\t\tidps\t\tidu\t\tie\t\tif\t\tiff\t\tifink\t\tig11\t\tignorant\t\tignore\t\tignoring\t\tihave\t\tijust\t\tikea\t\tikno\t\tiknow\t\til\t\tileave\t\till\t\tillness\t\tillspeak\t\tilol\t\tim\t\timage\t\timages\t\timagination\t\timagine\t\timat\t\timf\t\timg\t\timin\t\timma\t\timmed\t\timmediately\t\timmunisation\t\timp\t\timpatient\t\timpede\t\timplications\t\timportant\t\timportantly\t\timposed\t\timpossible\t\timposter\t\timpress\t\timpressed\t\timpression\t\timpressively\t\timprove\t\timproved\t\timprtant\t\tin\t\tin2\t\tinc\t\tinch\t\tinches\t\tincident\t\tinclu\t\tinclude\t\tincludes\t\tincluding\t\tinclusive\t\tincomm\t\tinconsiderate\t\tinconvenience\t\tinconvenient\t\tincorrect\t\tincrease\t\tincredible\t\tincrements\t\tinde\t\tindeed\t\tindependence\t\tindependently\t\tindex\t\tindia\t\tindian\t\tindians\t\tindicate\t\tindividual\t\tindyarocks\t\tinever\t\tinfact\t\tinfections\t\tinfernal\t\tinflux\t\tinfo\t\tinform\t\tinformation\t\tinformed\t\tinfra\t\tinfront\t\ting\t\tingredients\t\tinitiate\t\tink\t\tinlude\t\tinmind\t\tinner\t\tinnings\t\tinnocent\t\tinnu\t\tinperialmusic\t\tinpersonation\t\tinr\t\tinsects\t\tinsha\t\tinshah\t\tinside\t\tinspection\t\tinst\t\tinstall\t\tinstallation\t\tinstalling\t\tinstant\t\tinstantly\t\tinstead\t\tinstituitions\t\tinstructions\t\tinsurance\t\tintelligent\t\tintend\t\tintention\t\tintentions\t\tinterest\t\tinterested\t\tinteresting\t\tinterflora\t\tinterfued\t\tinternal\t\tinternet\t\tinterview\t\tinterviews\t\tinterviw\t\tintha\t\tintrepid\t\tintro\t\tintrude\t\tinvaders\t\tinvention\t\tinvest\t\tinvestigate\t\tinvitation\t\tinvite\t\tinvited\t\tinviting\t\tinvnted\t\tinvoices\t\tinvolve\t\tinvolved\t\tiouri\t\tip\t\tip4\t\tipad\t\tipaditan\t\tipads\t\tiphone\t\tipod\t\tiq\t\tiraq\t\tirene\t\tiriver\t\tiron\t\tironing\t\tirritated\t\tirritates\t\tirritating\t\tirritation\t\tirulinae\t\tis\t\tisaiah\t\tiscoming\t\tish\t\tishtamayoo\t\tisland\t\tislands\t\tisn\t\tisnt\t\tissue\t\tissues\t\tisv\t\tit\t\titalian\t\titcould\t\titems\t\titer\t\tithink\t\titna\t\titried2tell\t\tits\t\titwhichturnedinto\t\titxt\t\titz\t\tivatte\t\tive\t\tiwana\t\tiwas\t\tiyo\t\tiz\t\tizzit\t\tj5q\t\tj89\t\tjabo\t\tjack\t\tjacket\t\tjackpot\t\tjackson\t\tjacuzzi\t\tjada\t\tjade\t\tjaklin\t\tjam\t\tjames\t\tjamster\t\tjamz\t\tjan\t\tjanarige\t\tjane\t\tjaninexx\t\tjanuary\t\tjanx\t\tjap\t\tjapanese\t\tjas\t\tjason\t\tjava\t\tjay\t\tjaya\t\tjaykwon\t\tjaz\t\tjazz\t\tjb\t\tjd\t\tje\t\tjealous\t\tjeans\t\tjeetey\t\tjeevithathile\t\tjelly\t\tjen\t\tjenne\t\tjenny\t\tjenxxx\t\tjeremiah\t\tjeri\t\tjerk\t\tjerry\t\tjersey\t\tjess\t\tjesus\t\tjet\t\tjetton\t\tjewelry\t\tjez\t\tji\t\tjia\t\tjiayin\t\tjide\t\tjiu\t\tjjc\t\tjo\t\tjoanna\t\tjob\t\tjobs\t\tjobyet\t\tjocks\t\tjod\t\tjog\t\tjogging\t\tjohn\t\tjoin\t\tjoined\t\tjoining\t\tjoke\t\tjoker\t\tjokes\t\tjokin\t\tjoking\t\tjolly\t\tjolt\t\tjon\t\tjones\t\tjontin\t\tjordan\t\tjorge\t\tjos\t\tjot\t\tjourney\t\tjoy\t\tjoys\t\tjp\t\tjs\t\tjsco\t\tjst\t\tjstfrnd\t\tjsut\t\tjuan\t\tjudgemental\t\tjuicy\t\tjul\t\tjules\t\tjuliana\t\tjulianaland\t\tjuly\t\tjump\t\tjumpers\t\tjune\t\tjungle\t\tjunna\t\tjus\t\tjust\t\tjustbeen\t\tjustfound\t\tjustify\t\tjustthought\t\tjuswoke\t\tjuz\t\tk52\t\tk61\t\tk718\t\tkaaj\t\tkadeem\t\tkaiez\t\tkaila\t\tkaitlyn\t\tkalaachutaarama\t\tkalainar\t\tkalisidare\t\tkallis\t\tkalstiya\t\tkama\t\tkanagu\t\tkane\t\tkanji\t\tkano\t\tkappa\t\tkaraoke\t\tkarnan\t\tkaro\t\tkate\t\tkatexxx\t\tkath\t\tkavalan\t\tkay\t\tkaypoh\t\tkb\t\tke\t\tkeen\t\tkeep\t\tkeeping\t\tkeeps\t\tkegger\t\tkeluviri\t\tken\t\tkent\t\tkept\t\tkerala\t\tkeralacircle\t\tkeris\t\tkettoda\t\tkey\t\tkeypad\t\tkeys\t\tkeyword\t\tkfc\t\tkg\t\tkhelate\t\tki\t\tkicchu\t\tkick\t\tkickboxing\t\tkickoff\t\tkicks\t\tkid\t\tkidding\t\tkids\t\tkidz\t\tkiefer\t\tkill\t\tkilled\t\tkilling\t\tkills\t\tkilos\t\tkind\t\tkinda\t\tkindly\t\tking\t\tkingdom\t\tkintu\t\tkiosk\t\tkip\t\tkisi\t\tkiss\t\tkisses\t\tkissing\t\tkit\t\tkittum\t\tkitty\t\tkl341\t\tknackered\t\tknee\t\tknees\t\tknew\t\tknickers\t\tknock\t\tknocking\t\tknow\t\tknowing\t\tknown\t\tknows\t\tknw\t\tko\t\tkochi\t\tkodstini\t\tkodthini\t\tkolathupalayam\t\tkonw\t\tkorche\t\tkorean\t\tkorli\t\tkorte\t\tkotees\t\tkothi\t\tkr\t\tktv\t\tkuch\t\tkudi\t\tkusruthi\t\tkvb\t\tkz\t\tl8\t\tl8er\t\tl8r\t\tl8rs\t\tl8tr\t\tla\t\tla1\t\tla3\t\tla32wu\t\tlab\t\tlabor\t\tlac\t\tlacking\t\tlacs\t\tladen\t\tladies\t\tlady\t\tlag\t\tlage\t\tlager\t\tlaid\t\tlakhs\t\tlambda\t\tlambu\t\tlamp\t\tlancaster\t\tland\t\tlanding\t\tlandline\t\tlandlineonly\t\tlandlines\t\tlandmark\t\tlands\t\tlane\t\tlangport\t\tlanguage\t\tlanka\t\tlanre\t\tlap\t\tlapdancer\t\tlaptop\t\tlar\t\tlara\t\tlaready\t\tlarge\t\tlargest\t\tlark\t\tlasagna\t\tlast\t\tlastest\t\tlasting\t\tlate\t\tlately\t\tlatelyxxx\t\tlater\t\tlatest\t\tlatests\t\tlatr\t\tlaugh\t\tlaughed\t\tlaughing\t\tlaughs\t\tlaundry\t\tlaurie\t\tlautech\t\tlavender\t\tlaw\t\tlaxinorficated\t\tlay\t\tlayin\t\tlaying\t\tlays\t\tlazy\t\tlccltd\t\tld\t\tldew\t\tldn\t\tldnw15h\t\tle\t\tlead\t\tleadership\t\tleading\t\tleads\t\tleaf\t\tleafcutter\t\tleague\t\tleanne\t\tlearn\t\tlearned\t\tleast\t\tleast5times\t\tleave\t\tleaves\t\tleaving\t\tlect\t\tlecture\t\tlecturer\t\tleft\t\tleftovers\t\tleg\t\tlegal\t\tlegitimat\t\tlegs\t\tleh\t\tlei\t\tlekdog\t\tlem\t\tlength\t\tlengths\t\tlennon\t\tleo\t\tleona\t\tleonardo\t\tles\t\tless\t\tlesser\t\tlesson\t\tlessons\t\tlet\t\tlets\t\tletter\t\tletters\t\tlevel\t\tlf56\t\tli\t\tliao\t\tlib\t\tlibertines\t\tlibrary\t\tlick\t\tlicks\t\tlido\t\tlie\t\tlies\t\tlife\t\tlifebook\t\tlifeis\t\tlifetime\t\tlifpartnr\t\tlift\t\tlifted\t\tlifting\t\tlight\t\tlighters\t\tlightly\t\tlik\t\tlike\t\tliked\t\tlikely\t\tlikes\t\tlikeyour\t\tliking\t\tlil\t\tlily\t\tlim\t\tlimit\t\tlimited\t\tlimiting\t\tlimits\t\tlimping\t\tlindsay\t\tline\t\tlinear\t\tlined\t\tlinerental\t\tlines\t\tlingerie\t\tlingo\t\tlink\t\tlinks\t\tlinux\t\tlion\t\tlionm\t\tlionp\t\tlions\t\tlip\t\tlipo\t\tlips\t\tliquor\t\tlist\t\tlisted\t\tlisten\t\tlistened2the\t\tlistener\t\tlistening\t\tlistening2the\t\tlistn\t\tlists\t\tlit\t\tliterally\t\tlitres\t\tlittle\t\tlive\t\tlived\t\tliver\t\tliverpool\t\tlives\t\tliving\t\tlk\t\tlkpobox177hp51fl\t\tll\t\tllc\t\tllspeak\t\tlmao\t\tlnly\t\tlo\t\tload\t\tloads\t\tloan\t\tloans\t\tlobby\t\tlocal\t\tlocation\t\tlocations\t\tlocaxx\t\tlock\t\tlocks\t\tlodge\t\tlodging\t\tlog\t\tlogged\t\tlogging\t\tlogin\t\tlogo\t\tlogoff\t\tlogon\t\tlogos\t\tloko\t\tlol\t\tlolnice\t\tlololo\t\tlondn\t\tlondon\t\tloneliness\t\tlonely\t\tlong\t\tlonger\t\tlonlines\t\tloo\t\tlook\t\tlookatme\t\tlooked\t\tlookin\t\tlooking\t\tlooks\t\tlool\t\tloooooool\t\tlooovvve\t\tloose\t\tloosing\t\tloosu\t\tlor\t\tlord\t\tlose\t\tlosers\t\tloses\t\tlosing\t\tloss\t\tlost\t\tlot\t\tlotr\t\tlots\t\tlotsly\t\tlotsof\t\tlotta\t\tlotto\t\tlotz\t\tlou\t\tloud\t\tlounge\t\tlousy\t\tlov\t\tlovable\t\tlove\t\tloved\t\tlovejen\t\tlovely\t\tloveme\t\tlover\t\tloverboy\t\tlovers\t\tloves\t\tlovin\t\tloving\t\tlovingly\t\tlovly\t\tlow\t\tlower\t\tlowes\t\tloxahatchee\t\tloyal\t\tloyalty\t\tlrg\t\tls1\t\tls15hb\t\tls278bb\t\tlst\t\tlt\t\tltd\t\tltdhelpdesk\t\tlttrs\t\tlubly\t\tluck\t\tluckily\t\tlucky\t\tlucozade\t\tlucy\t\tlucyxx\t\tluks\t\tlul\t\tlunch\t\tlunchtime\t\tlunsford\t\tlush\t\tluton\t\tluv\t\tluvd\t\tluvs\t\tlux\t\tluxury\t\tlv\t\tlvblefrnd\t\tlyf\t\tlyfu\t\tlying\t\tlyk\t\tlyricalladie\t\tlyrics\t\tm100\t\tm221bp\t\tm227xy\t\tm26\t\tm263uz\t\tm39m51\t\tm6\t\tm60\t\tm8\t\tm8s\t\tm95\t\tma\t\tmaaaan\t\tmaangalyam\t\tmaat\t\tmac\t\tmacedonia\t\tmacha\t\tmachan\t\tmachi\t\tmachines\t\tmacho\t\tmack\t\tmacleran\t\tmacs\t\tmad\t\tmad1\t\tmad2\t\tmadam\t\tmade\t\tmadodu\t\tmadoke\t\tmadstini\t\tmadurai\t\tmag\t\tmaga\t\tmagazine\t\tmaggi\t\tmagic\t\tmagical\t\tmagicalsongs\t\tmah\t\tmahal\t\tmahaveer\t\tmahfuuz\t\tmaid\t\tmail\t\tmailbox\t\tmailed\t\tmails\t\tmain\t\tmaintain\t\tmaintaining\t\tmajor\t\tmake\t\tmakes\t\tmakiing\t\tmakin\t\tmaking\t\tmalaria\t\tmalarky\t\tmale\t\tmall\t\tmallika\t\tman\t\tmanage\t\tmanageable\t\tmanaged\t\tmanagement\t\tmanchester\t\tmanda\t\tmandan\t\tmandara\t\tmandy\t\tmaneesha\t\tmanege\t\tmango\t\tmaniac\t\tmanky\t\tmanual\t\tmany\t\tmap\t\tmapquest\t\tmaps\t\tmaraikara\t\tmarandratha\t\tmarch\t\tmaretare\t\tmargaret\t\tmargin\t\tmarine\t\tmark\t\tmarket\t\tmarketing\t\tmarking\t\tmarley\t\tmarrge\t\tmarriage\t\tmarried\t\tmarry\t\tmarsms\t\tmaruti\t\tmarvel\t\tmary\t\tmas\t\tmasked\t\tmassage\t\tmassages\t\tmassive\t\tmasteriastering\t\tmasters\t\tmat\t\tmatch\t\tmatched\t\tmatches\t\tmate\t\tmates\t\tmath\t\tmathe\t\tmathematics\t\tmathews\t\tmaths\t\tmatra\t\tmatric\t\tmatrix3\t\tmatter\t\tmatters\t\tmatthew\t\tmatured\t\tmaturity\t\tmax\t\tmax10mins\t\tmax6\t\tmaximize\t\tmaximum\t\tmay\t\tmayb\t\tmaybe\t\tmb\t\tmc\t\tmca\t\tmcat\t\tmcfly\t\tmcr\t\tme\t\tmeal\t\tmeals\t\tmean\t\tmeaning\t\tmeaningful\t\tmeaningless\t\tmeans\t\tmeant\t\tmeanwhile\t\tmeasure\t\tmeat\t\tmeatballs\t\tmecause\t\tmed\t\tmedical\t\tmedicine\t\tmeds\t\tmee\t\tmeet\t\tmeetin\t\tmeeting\t\tmeetins\t\tmeets\t\tmeg\t\tmega\t\tmeh\t\tmei\t\tmeive\t\tmel\t\tmelle\t\tmelnite\t\tmelody\t\tmelt\t\tmember\t\tmembers\t\tmembership\t\tmemorable\t\tmemories\t\tmemory\t\tmen\t\tmens\t\tmental\t\tmention\t\tmentioned\t\tmentionned\t\tmentor\t\tmenu\t\tmeow\t\tmerely\t\tmerememberin\t\tmerry\t\tmesages\t\tmess\t\tmessage\t\tmessaged\t\tmessages\t\tmessaging\t\tmessed\t\tmessenger\t\tmessy\t\tmet\t\tmethod\t\tmf\t\tmfl\t\tmgs\t\tmi\t\tmia\t\tmichael\t\tmid\t\tmiddle\t\tmidnight\t\tmids\t\tmight\t\tmiiiiiiissssssssss\t\tmike\t\tmila\t\tmileage\t\tmiles\t\tmilk\t\tmillers\t\tmillion\t\tmillions\t\tmilta\t\tmin\t\tmina\t\tminapn\t\tmind\t\tminded\t\tmindset\t\tmine\t\tminecraft\t\tmini\t\tminimum\t\tminmobsmore\t\tminmobsmorelkpobox177hp51fl\t\tminmoremobsemspobox45po139wa\t\tminnaminunginte\t\tminor\t\tmins\t\tmint\t\tminus\t\tminute\t\tminutes\t\tminuts\t\tmiracle\t\tmirror\t\tmis\t\tmisbehaved\t\tmiserable\t\tmisfits\t\tmising\t\tmisplaced\t\tmiss\t\tmisscall\t\tmissed\t\tmissin\t\tmissing\t\tmissionary\t\tmissions\t\tmisss\t\tmissunderstding\t\tmissy\t\tmist\t\tmistake\t\tmistakes\t\tmisundrstud\t\tmite\t\tmitsake\t\tmittelschmertz\t\tmiwa\t\tmix\t\tmj\t\tmjzgroup\t\tmk17\t\tmk45\t\tml\t\tmm\t\tmmm\t\tmmmm\t\tmmmmm\t\tmmmmmm\t\tmmmmmmm\t\tmmsto\t\tmns\t\tmnth\t\tmnths\t\tmo\t\tmoan\t\tmob\t\tmobcudb\t\tmobile\t\tmobiles\t\tmobilesdirect\t\tmobilesvary\t\tmobileupd8\t\tmobno\t\tmobs\t\tmobsi\t\tmobstorequiz10ppm\t\tmoby\t\tmobypobox734ls27yf\t\tmode\t\tmodel\t\tmodl\t\tmodule\t\tmodules\t\tmofo\t\tmoji\t\tmojibiola\t\tmokka\t\tmolested\t\tmom\t\tmoment\t\tmoments\t\tmoms\t\tmon\t\tmonday\t\tmone\t\tmoney\t\tmonkeespeople\t\tmonkey\t\tmonkeyaround\t\tmonkeys\t\tmono\t\tmonoc\t\tmonos\t\tmonster\t\tmonth\t\tmonthly\t\tmonthlysubscription\t\tmonths\t\tmood\t\tmoon\t\tmoral\t\tmorefrmmob\t\tmorn\t\tmornin\t\tmorning\t\tmornings\t\tmorphine\t\tmorrow\t\tmoseley\t\tmostly\t\tmother\t\tmotherfucker\t\tmotivate\t\tmotivating\t\tmotive\t\tmotor\t\tmotorola\t\tmountain\t\tmountains\t\tmouse\t\tmouth\t\tmove\t\tmoved\t\tmoves\t\tmovie\t\tmovies\t\tmovietrivia\t\tmoving\t\tmp3\t\tmquiz\t\tmr\t\tmre\t\tmrng\t\tmrt\t\tms\t\tmsg\t\tmsg150p\t\tmsging\t\tmsgrcvd\t\tmsgrcvd18\t\tmsgrcvdhg\t\tmsgs\t\tmsn\t\tmt\t\tmtalk\t\tmth\t\tmths\t\tmtmsg\t\tmtmsg18\t\tmtmsgrcvd18\t\tmtnl\t\tmu\t\tmuah\t\tmuch\t\tmuchand\t\tmuchxxlove\t\tmudyadhu\t\tmufti\t\tmuhommad\t\tmuht\t\tmultimedia\t\tmultiply\t\tmultis\t\tmum\t\tmumbai\t\tmumhas\t\tmummy\t\tmums\t\tmumtaz\t\tmundhe\t\tmunsters\t\tmurali\t\tmurder\t\tmurdered\t\tmurderer\t\tmus\t\tmush\t\tmushy\t\tmusic\t\tmusical\t\tmusicnews\t\tmust\t\tmusta\t\tmusthu\t\tmustprovide\t\tmutai\t\tmutations\t\tmuz\t\tmw\t\tmwahs\t\tmy\t\tmycalls\t\tmylife\t\tmymoby\t\tmyparents\t\tmys\t\tmyspace\t\tmystery\t\tn8\t\tn9dx\t\tna\t\tnaal\t\tnachos\t\tnag\t\tnagar\t\tnah\t\tnahi\t\tnails\t\tnaked\t\tnalla\t\tnalli\t\tname\t\tname1\t\tname2\t\tnamed\t\tnames\t\tnammanna\t\tnamous\t\tnan\t\tnange\t\tnanny\t\tnannys\t\tnap\t\tnarcotics\t\tnasdaq\t\tnaseeb\t\tnasty\t\tnat\t\tnat27081980\t\tnatalie\t\tnatalie2k9\t\tnatalja\t\tnational\t\tnationwide\t\tnattil\t\tnatural\t\tnature\t\tnatwest\t\tnaughty\t\tnauseous\t\tnav\t\tnavigate\t\tnb\t\tnbme\t\tnd\t\tndship\t\tne\t\tnear\t\tnearby\t\tnearer\t\tnearly\t\tnecesity\t\tnecessarily\t\tnecessary\t\tnecessity\t\tneck\t\tnecklace\t\tned\t\tneed\t\tneeda\t\tneeded\t\tneeding\t\tneedle\t\tneeds\t\tneedy\t\tneekunna\t\tneft\t\tnegative\t\tneglect\t\tneglet\t\tneighbor\t\tneighbors\t\tneighbour\t\tneither\t\tnelson\t\tneo69\t\tnervous\t\tneshanth\t\tnet\t\tnetcollex\t\tnetflix\t\tnething\t\tnetun\t\tnetvision\t\tnetwork\t\tnetworking\t\tnetworks\t\tneva\t\tnevamind\t\tnever\t\tnevering\t\tneville\t\tnevr\t\tnew\t\tneway\t\tnewest\t\tnewport\t\tnewquay\t\tnews\t\tnewscaster\t\tnewsletter\t\tnewspapers\t\tnext\t\tnhs\t\tni8\t\tnic\t\tnice\t\tnichols\t\tnick\t\tnickey\t\tnicky\t\tnig\t\tnigeria\t\tnigh\t\tnight\t\tnighters\t\tnightnight\t\tnights\t\tnigpun\t\tnigro\t\tnike\t\tnikiyu4\t\tnimbomsons\t\tnimya\t\tninish\t\tnino\t\tnipost\t\tnit\t\tnite\t\tnitro\t\tnitros\t\tnitw\t\tnitz\t\tnjan\t\tnmde\t\tno\t\tno1\t\tnobbing\t\tnobody\t\tnoe\t\tnoi\t\tnoice\t\tnoise\t\tnoisy\t\tnok\t\tnokia\t\tnokia6600\t\tnokia6650\t\tnokias\t\tnoline\t\tnon\t\tnoncomittal\t\tnone\t\tnonetheless\t\tnookii\t\tnoon\t\tnooooooo\t\tnoooooooo\t\tnope\t\tnora\t\tnorcorp\t\tnordstrom\t\tnorm\t\tnorm150p\t\tnormal\t\tnormally\t\tnorth\t\tnorthampton\t\tnos\t\tnose\t\tnosh\t\tnosy\t\tnot\t\tnote\t\tnotebook\t\tnotes\t\tnothin\t\tnothing\t\tnotice\t\tnotifications\t\tnotified\t\tnotixiquating\t\tnottingham\t\tnotxt\t\tnoun\t\tnovelty\t\tnovember\t\tnow\t\tnow1\t\tnowadays\t\tnowhere\t\tnoworriesloans\t\tnr31\t\tnri\t\tnt\t\tnte\t\tntimate\t\tntt\t\tntwk\t\tnuclear\t\tnudist\t\tnuerologist\t\tnum\t\tnumber\t\tnumbers\t\tnursery\t\tnurses\t\tnurungu\t\tnus\t\tnusstu\t\tnuther\t\tnutter\t\tnver\t\tnvm\t\tnvq\t\tnw\t\tnxt\t\tny\t\tnyc\t\tnydc\t\tnyt\t\tnytho\t\tnz\t\tnìte\t\to2\t\to2fwd\t\toath\t\tobedient\t\tobese\t\tobey\t\tobjection\t\toble\t\toblisingately\t\toblivious\t\tobviously\t\toccasion\t\toccupied\t\toccupy\t\toccur\t\toccurs\t\tocean\t\toclock\t\toctober\t\todalebeku\t\todi\t\tof\t\tofcourse\t\toffc\t\toffcampus\t\toffdam\t\toffense\t\toffer\t\toffered\t\toffering\t\toffers\t\toffice\t\tofficer\t\tofficial\t\tofficially\t\toffline\t\tofice\t\tofsi\t\tofstuff\t\toften\t\toga\t\togunrinde\t\toh\t\toi\t\toic\t\toil\t\toja\t\tok\t\tokay\t\tokday\t\tokden\t\tokey\t\tokie\t\tokies\t\tokmail\t\tokors\t\tola\t\tolage\t\tolave\t\tolayiwola\t\told\t\toli\t\tollu\t\tolol\t\tolowoyey\t\tolympics\t\tomg\t\tomw\t\ton\t\tonam\t\tonbus\t\toncall\t\tondu\t\tone\t\tones\t\toni\t\tonion\t\tonline\t\tonluy\t\tonly\t\tonly1more\t\tonlyfound\t\tonto\t\tonum\t\tonwards\t\tonwords\t\tooh\t\toooh\t\toooooh\t\tooooooh\t\toops\t\topen\t\topened\t\topener\t\topenin\t\topening\t\topenings\t\toperate\t\toperator\t\topinion\t\topinions\t\topponenter\t\topportunity\t\topposed\t\topposite\t\topps\t\topt\t\topted\t\toptimistic\t\toptin\t\toption\t\toptout\t\tor\t\tor2optout\t\tor2stoptxt\t\toral\t\torange\t\toranges\t\torc\t\torchard\t\torder\t\tordered\t\tordinator\t\tore\t\toredi\t\toreo\t\toreos\t\torg\t\torganise\t\torganizer\t\torh\t\torig\t\toriginal\t\torno\t\tors\t\tortxt\t\toru\t\tos\t\toscar\t\toso\t\totbox\t\tothers\t\totherwise\t\tothrs\t\tothrwise\t\totside\t\tou\t\touch\t\tour\t\tourbacks\t\tout\t\toutage\t\toutages\t\toutbid\t\toutdoors\t\toutfit\t\toutfor\t\toutgoing\t\toutl8r\t\toutrageous\t\toutreach\t\touts\t\toutside\t\toutsider\t\toutsomewhere\t\toutstanding\t\toutta\t\tovarian\t\toveable\t\tovera\t\toverdid\t\toverdose\t\toveremphasise\t\toverheating\t\tovertime\t\tovr\t\tovulate\t\tovulation\t\tow\t\towe\t\towed\t\towl\t\towned\t\towns\t\towo\t\toxygen\t\toyea\t\toyster\t\toz\t\tpa\t\tpaces\t\tpack\t\tpackage\t\tpacking\t\tpacks\t\tpadhe\t\tpage\t\tpages\t\tpai\t\tpaid\t\tpain\t\tpainful\t\tpaining\t\tpainting\t\tpairs\t\tpale\t\tpalm\t\tpan\t\tpanalam\t\tpanasonic\t\tpandy\t\tpanic\t\tpanicks\t\tpanren\t\tpansy\t\tpanther\t\tpanties\t\tpants\t\tpap\t\tpapa\t\tpaper\t\tpapers\t\tpaperwork\t\tparacetamol\t\tparachute\t\tparade\t\tparagon\t\tparagraphs\t\tparanoid\t\tparantella\t\tparchi\t\tparco\t\tparent\t\tparents\t\tparis\t\tparish\t\tpark\t\tparked\t\tparkin\t\tparking\t\tpart\t\tparticipate\t\tparticular\t\tparticularly\t\tparties\t\tpartner\t\tpartnership\t\tparts\t\tparty\t\tparu\t\tpases\t\tpass\t\tpassable\t\tpassed\t\tpasses\t\tpassion\t\tpassionate\t\tpassport\t\tpassword\t\tpasswords\t\tpast\t\tpataistha\t\tpatent\t\tpath\t\tpathaya\t\tpaths\t\tpatients\t\tpatrick\t\tpattern\t\tpatty\t\tpaul\t\tpause\t\tpavanaputra\t\tpax\t\tpay\t\tpayasam\t\tpayback\t\tpayed\t\tpayed2day\t\tpayee\t\tpaying\t\tpayment\t\tpayments\t\tpayoh\t\tpaypal\t\tpc\t\tpc1323\t\tpdate_now\t\tpeace\t\tpeaceful\t\tpeach\t\tpeak\t\tpears\t\tpee\t\tpeeps\t\tpehle\t\tpei\t\tpen\t\tpence\t\tpendent\t\tpending\t\tpenis\t\tpenny\t\tpeople\t\tpeoples\t\tper\t\tpercent\t\tpercentages\t\tperf\t\tperfect\t\tperform\t\tperformance\t\tperformed\t\tperfume\t\tperhaps\t\tperil\t\tperiod\t\tperipherals\t\tpermanent\t\tpermission\t\tpermissions\t\tperpetual\t\tpersevered\t\tpersian\t\tpersolvo\t\tperson\t\tperson2die\t\tpersonal\t\tpersonality\t\tpersonally\t\tpersons\t\tperspective\t\tpert\t\tperumbavoor\t\tpesky\t\tpest\t\tpete\t\tpetexxx\t\tpetey\t\tpetrol\t\tpetticoatdreams\t\tpg\t\tph\t\tpharmacy\t\tphasing\t\tphb1\t\tphd\t\tphews\t\tphil\t\tphilosophical\t\tphilosophy\t\tphne\t\tphoenix\t\tphone\t\tphone750\t\tphonebook\t\tphoned\t\tphones\t\tphony\t\tphoto\t\tphotos\t\tphotoshop\t\tphp\t\tphrase\t\tphyhcmk\t\tphysics\t\tpiah\t\tpic\t\tpick\t\tpicked\t\tpicking\t\tpickle\t\tpics\t\tpicsfree1\t\tpicture\t\tpictures\t\tpie\t\tpiece\t\tpieces\t\tpierre\t\tpig\t\tpiggy\t\tpilates\t\tpile\t\tpillows\t\tpimples\t\tpin\t\tpink\t\tpints\t\tpisces\t\tpiss\t\tpissed\t\tpist\t\tpity\t\tpix\t\tpixels\t\tpizza\t\tpl\t\tplace\t\tplaced\t\tplacement\t\tplaces\t\tplaid\t\tplan\t\tplane\t\tplanet\t\tplanettalkinstant\t\tplanned\t\tplanning\t\tplans\t\tplate\t\tplatt\t\tplay\t\tplayed\t\tplayer\t\tplayers\t\tplayin\t\tplaying\t\tplayng\t\tplaza\t\tpleasant\t\tplease\t\tpleased\t\tpleassssssseeeeee\t\tpleasure\t\tpleasured\t\tplenty\t\tplm\t\tploughing\t\tpls\t\tplum\t\tplumbers\t\tplumbing\t\tplural\t\tplus\t\tplyr\t\tplz\t\tpm\t\tpmt\t\tpo\t\tpo19\t\tpobox\t\tpobox1\t\tpobox114\t\tpobox12n146tf15\t\tpobox12n146tf150p\t\tpobox202\t\tpobox334\t\tpobox36504w45wq\t\tpobox365o4w45wq\t\tpobox45w2tg150p\t\tpobox75ldns7\t\tpobox84\t\tpoboxox36504w45wq\t\tpocay\t\tpocked\t\tpocketbabe\t\tpockets\t\tpocy\t\tpod\t\tpoem\t\tpoet\t\tpoint\t\tpoints\t\tpoker\t\tpoking\t\tpokkiri\t\tpole\t\tpolice\t\tpoliticians\t\tpolo\t\tpoly\t\tpoly3\t\tpolyc\t\tpolyh\t\tpolyph\t\tpolyphonic\t\tpolys\t\tpongal\t\tponnungale\t\tpoo\t\tpooja\t\tpookie\t\tpool\t\tpoop\t\tpoor\t\tpoorly\t\tpoortiyagi\t\tpop\t\tpopcorn\t\tpopped\t\tpopping\t\tporn\t\tporridge\t\tport\t\tportal\t\tportege\t\tportions\t\tpos\t\tpose\t\tposh\t\tposible\t\tposition\t\tpositions\t\tpositive\t\tpossession\t\tpossessive\t\tpossessiveness\t\tpossibility\t\tpossible\t\tpossibly\t\tpost\t\tpostal\t\tpostcard\t\tpostcode\t\tposted\t\tposting\t\tpostponed\t\tposts\t\tpotato\t\tpotential\t\tpotter\t\tpouch\t\tpound\t\tpounded\t\tpounds\t\tpoured\t\tpours\t\tpouts\t\tpower\t\tpowerful\t\tpoyyarikatur\t\tppl\t\tpple\t\tppm\t\tppm150\t\tppt150x3\t\tprabha\t\tprabu\t\tpract\t\tpractical\t\tpractice\t\tpracticing\t\tpracticum\t\tpractising\t\tpraises\t\tprakasam\t\tprakasamanu\t\tprakesh\t\tpraps\t\tprasad\t\tprasanth\t\tprashanthettan\t\tpraveesh\t\tpray\t\tprayers\t\tpraying\t\tprayrs\t\tpre\t\tpredict\t\tpredicte\t\tpredicting\t\tprediction\t\tpredictive\t\tprefer\t\tpreferably\t\tprem\t\tpremarica\t\tpremier\t\tpremium\t\tprepaid\t\tprepare\t\tprepared\t\tprepayment\t\tpreponed\t\tpreschoolco\t\tprescribed\t\tprescripiton\t\tprescription\t\tpresence\t\tpresent\t\tpresents\t\tpresident\t\tpresleys\t\tpresnts\t\tpress\t\tpressies\t\tpressure\t\tprestige\t\tpretend\t\tpretsorginta\t\tpretsovru\t\tpretty\t\tprevent\t\tpreviews\t\tprevious\t\tpreviously\t\tprey\t\tprice\t\tprices\t\tpride\t\tpriest\t\tprin\t\tprince\t\tprinces\t\tprincess\t\tprint\t\tprinted\t\tprinter\t\tprinting\t\tprior\t\tpriority\t\tpriscilla\t\tprivacy\t\tprivate\t\tprix\t\tpriya\t\tprize\t\tprizeawaiting\t\tprizes\t\tprizeswith\t\tpro\t\tprob\t\tprobably\t\tproblem\t\tproblematic\t\tproblems\t\tproblms\t\tproblum\t\tprobpop\t\tprobs\t\tprobthat\t\tprocess\t\tprocessed\t\tprods\t\tproducts\t\tprof\t\tprofessional\t\tprofessors\t\tprofile\t\tprofiles\t\tprofit\t\tprogram\t\tprograms\t\tprogress\t\tproject\t\tprojects\t\tprolly\t\tprometazine\t\tprominent\t\tpromise\t\tpromised\t\tpromises\t\tpromo\t\tpromoting\t\tpromotion\t\tpromptly\t\tprompts\t\tprone\t\tproof\t\tproove\t\tproper\t\tproperly\t\tproperty\t\tpropose\t\tprops\t\tpropsd\t\tpros\t\tprospects\t\tprotect\t\tprove\t\tproverb\t\tprovided\t\tprovider\t\tproviding\t\tprovince\t\tproze\t\tprsn\t\tps\t\tps3\t\tpshew\t\tpsp\t\tpsxtra\t\tpsychiatrist\t\tpsychic\t\tpsychologist\t\tpt2\t\tptbo\t\tpthis\t\tpub\t\tpublic\t\tpublish\t\tpubs\t\tpudunga\t\tpull\t\tpulling\t\tpulls\t\tpump\t\tpunch\t\tpunish\t\tpunishment\t\tpunj\t\tpunto\t\tpuppy\t\tpura\t\tpurchase\t\tpurchases\t\tpure\t\tpurity\t\tpurple\t\tpurpose\t\tpurse\t\tpush\t\tpushbutton\t\tpushes\t\tpussy\t\tput\t\tputs\t\tputtin\t\tputting\t\tpuzzeles\t\tpuzzles\t\tpx3748\t\tqatar\t\tqbank\t\tqet\t\tqi\t\tqing\t\tqjkgighjjgcbl\t\tqlynnbv\t\tquality\t\tquarter\t\tque\t\tqueen\t\tqueries\t\tques\t\tquestion\t\tquestioned\t\tquestions\t\tquick\t\tquickly\t\tquiet\t\tquit\t\tquite\t\tquiteamuzing\t\tquitting\t\tquiz\t\tquizclub\t\tquizzes\t\tquote\t\tquoting\t\tr836\t\tracal\t\tracing\t\tradiator\t\tradio\t\traed\t\trael\t\traglan\t\trahul\t\traiden\t\trailway\t\train\t\training\t\traise\t\traised\t\traj\t\trajas\t\traji\t\trajini\t\trajitha\t\trajnikant\t\trakhesh\t\traksha\t\trally\t\tralphs\t\tramaduth\t\tramen\t\tran\t\trandom\t\trandomlly\t\trandomly\t\trandy\t\trang\t\trange\t\tranjith\t\tranju\t\traping\t\trate\t\trates\t\trather\t\tratio\t\trats\t\traviyog\t\trawring\t\trayan\t\trayman\t\trays\t\trcb\t\trcd\t\trct\t\trcv\t\trcvd\t\trd\t\trdy\t\tre\t\treach\t\treache\t\treached\t\treaching\t\treacting\t\treaction\t\tread\t\treaders\t\treadiness\t\treading\t\tready\t\treal\t\treal1\t\trealise\t\trealised\t\trealising\t\treality\t\trealize\t\trealized\t\trealizes\t\treally\t\treallyneed\t\trealy\t\treapply\t\trearrange\t\treason\t\treasonable\t\treasons\t\treassurance\t\treassuring\t\trebel\t\treboot\t\trebooting\t\trebtel\t\trec\t\trecd\t\treceipt\t\treceipts\t\treceive\t\treceivea\t\treceived\t\treceiving\t\trecent\t\trecently\t\treception\t\trecession\t\trecharge\t\trecharged\t\trecieve\t\treckon\t\trecognise\t\trecognises\t\trecord\t\trecorded\t\trecorder\t\trecords\t\trecount\t\trecovery\t\trecpt\t\trecreation\t\trecycling\t\tred\t\tredeemable\t\tredeemed\t\treduce\t\tree\t\tref\t\treference\t\treferences\t\treferin\t\treffering\t\trefilled\t\treflection\t\treflex\t\treformat\t\trefreshed\t\trefund\t\trefunded\t\trefused\t\treg\t\tregalportfolio\t\tregard\t\tregarding\t\tregards\t\tregister\t\tregistered\t\tregistration\t\tregret\t\tregretted\t\tregular\t\trejected\t\trelated\t\trelation\t\trelationship\t\trelatives\t\trelax\t\trelaxing\t\treleased\t\treliant\t\trelieved\t\treligiously\t\trelocate\t\treltnship\t\trem\t\tremain\t\tremains\t\tremb\t\tremember\t\tremembered\t\trememberi\t\tremembr\t\tremembrs\t\tremind\t\treminded\t\treminder\t\treminding\t\treminds\t\tremixed\t\tremoval\t\tremove\t\tremoved\t\trencontre\t\trenewal\t\trenewed\t\trenewing\t\trent\t\trental\t\trenting\t\trentl\t\trents\t\trepair\t\trepairs\t\trepeat\t\trepeating\t\trepent\t\treplace\t\treplacement\t\treplacing\t\treplied\t\treplies\t\treply\t\treplying\t\treplys150\t\treport\t\treppurcussions\t\trepresentative\t\trepublic\t\trequest\t\trequests\t\trequire\t\trequired\t\trequirements\t\trequires\t\tresearch\t\tresend\t\tresent\t\treservations\t\treserve\t\treserved\t\treserves\t\treset\t\tresidency\t\tresizing\t\treslove\t\tresolution\t\tresolved\t\tresort\t\trespect\t\trespectful\t\tresponce\t\trespond\t\tresponding\t\tresponse\t\tresponsibilities\t\tresponsibility\t\tresponsible\t\trest\t\trestaurant\t\trestock\t\trestocked\t\trestrict\t\trestrictions\t\tresubbing\t\tresubmit\t\tresult\t\tresults\t\tresume\t\tresuming\t\tretard\t\tretired\t\tretrieve\t\treturn\t\treturned\t\treturning\t\treturns\t\treunion\t\treveal\t\trevealed\t\trevealing\t\treverse\t\treview\t\trevision\t\treward\t\trewarding\t\trg21\t\trgds\t\trgent\t\trhode\t\trhythm\t\trice\t\trich\t\triddance\t\tridden\t\tride\t\tright\t\trightio\t\trightly\t\trights\t\triley\t\trimac\t\tring\t\tringing\t\trings\t\tringtone\t\tringtoneking\t\tringtones\t\trinu\t\trip\t\tripped\t\trise\t\trisk\t\trisks\t\trite\t\tritten\t\triver\t\troad\t\troads\t\troast\t\trob\t\trobinson\t\trobs\t\trock\t\trocking\t\trocks\t\trodds1\t\trodger\t\trofl\t\troger\t\trole\t\troles\t\trolled\t\troller\t\tromantic\t\tromcapspam\t\tron\t\troom\t\troomate\t\troommate\t\troommates\t\trooms\t\tros\t\trose\t\troses\t\trough\t\tround\t\trounder\t\trounds\t\troute\t\trow\t\trowdy\t\trows\t\troyal\t\trp176781\t\trpl\t\trply\t\trr\t\trs\t\trstm\t\trt\t\trtf\t\trtm\t\trto\t\tru\t\trub\t\trubber\t\trude\t\trudi\t\trugby\t\truin\t\truining\t\trule\t\trules\t\trum\t\trumbling\t\trummer\t\trumour\t\trun\t\trunning\t\truns\t\trupaul\t\trush\t\trushing\t\truthful\t\trv\t\trvx\t\trwm\t\tryan\t\tryder\t\ts3xy\t\ts89\t\tsabarish\t\tsac\t\tsachin\t\tsack\t\tsacked\t\tsacrifice\t\tsad\t\tsae\t\tsaeed\t\tsafe\t\tsafely\t\tsafety\t\tsagamu\t\tsaibaba\t\tsaid\t\tsake\t\tsalad\t\tsalam\t\tsalary\t\tsale\t\tsales\t\tsalesman\t\tsall\t\tsalmon\t\tsalon\t\tsalt\t\tsam\t\tsamachara\t\tsamantha\t\tsambar\t\tsamus\t\tsandiago\t\tsane\t\tsang\t\tsankatmochan\t\tsankranti\t\tsanta\t\tsantacalling\t\tsao\t\tsapna\t\tsar\t\tsara\t\tsarasota\t\tsarcasm\t\tsarcastic\t\tsaristar\t\tsariyag\t\tsary\t\tsashimi\t\tsat\t\tsatanic\t\tsathy\t\tsathya\t\tsatisfied\t\tsatisfy\t\tsatsgettin\t\tsatthen\t\tsaturday\t\tsaucy\t\tsausage\t\tsavamob\t\tsave\t\tsaved\t\tsaves\t\tsavings\t\tsaw\t\tsay\t\tsayhey\t\tsayin\t\tsaying\t\tsays\t\tsayy\t\tsc\t\tscallies\t\tscammers\t\tscarcasim\t\tscared\t\tscary\t\tscenario\t\tscenery\t\tsch\t\tschedule\t\tschool\t\tschools\t\tscience\t\tscold\t\tscool\t\tscorable\t\tscore\t\tscores\t\tscoring\t\tscotch\t\tscotland\t\tscotsman\t\tscouse\t\tscraped\t\tscrappy\t\tscratches\t\tscratching\t\tscream\t\tscreamed\t\tscreaming\t\tscreen\t\tscrewd\t\tscrounge\t\tscrumptious\t\tsculpture\t\tsd\t\tsday\t\tsdryb8i\t\tse\t\tsea\t\tsearch\t\tsearching\t\tseason\t\tseat\t\tsec\t\tsecond\t\tsecondary\t\tseconds\t\tsecret\t\tsecretary\t\tsecretly\t\tsecrets\t\tsecs\t\tsection\t\tsections\t\tsecure\t\tsecured\t\tsed\t\tsee\t\tseeds\t\tseeing\t\tseekers\t\tseeking\t\tseem\t\tseemed\t\tseems\t\tseen\t\tsef\t\tseh\t\tsehwag\t\tseing\t\tselect\t\tselected\t\tselection\t\tself\t\tselfindependence\t\tselfish\t\tselflessness\t\tsell\t\tselling\t\tsells\t\tsem\t\tsemester\t\tsemi\t\tsemiobscure\t\tsen\t\tsend\t\tsender\t\tsending\t\tsends\t\tsenor\t\tsenrd\t\tsense\t\tsenses\t\tsensible\t\tsensitive\t\tsent\t\tsentence\t\tsenthil\t\tsentiment\t\tseperated\t\tsept\t\tseptember\t\tserena\t\tseries\t\tserious\t\tseriously\t\tserved\t\tserver\t\tservice\t\tservices\t\tserving\t\tservs\t\tset\t\tsetting\t\tsettings\t\tsettle\t\tsettled\t\tsettling\t\tseven\t\tseventeen\t\tseveral\t\tsex\t\tsexiest\t\tsextextuk\t\tsexual\t\tsexy\t\tsexychat\t\tsez\t\tsf\t\tsg\t\tsh\t\tsha\t\tshade\t\tshadow\t\tshag\t\tshagged\t\tshah\t\tshahjahan\t\tshakara\t\tshake\t\tshakespeare\t\tshaking\t\tshall\t\tshame\t\tshampain\t\tshangela\t\tshanghai\t\tshanil\t\tshant\t\tshaping\t\tshare\t\tshared\t\tsharing\t\tshattered\t\tshaved\t\tshb\t\tshd\t\tshe\t\tsheet\t\tsheets\t\tsheffield\t\tshelf\t\tshell\t\tshelves\t\tsherawat\t\tshes\t\tshesil\t\tshexy\t\tshhhhh\t\tshifad\t\tshijas\t\tshijutta\t\tshinco\t\tshindig\t\tshining\t\tshiny\t\tship\t\tshipped\t\tshipping\t\tshirt\t\tshirts\t\tshit\t\tshite\t\tshitin\t\tshitinnit\t\tshitload\t\tshitstorm\t\tshivratri\t\tshld\t\tshldxxxx\t\tshock\t\tshocking\t\tshoes\t\tshola\t\tshoot\t\tshop\t\tshoppin\t\tshopping\t\tshoranur\t\tshore\t\tshort\t\tshortage\t\tshortbreaks\t\tshortcode\t\tshorter\t\tshortly\t\tshorts\t\tshot\t\tshoul\t\tshoulders\t\tshouted\t\tshouting\t\tshove\t\tshoving\t\tshow\t\tshowed\t\tshower\t\tshowered\t\tshowers\t\tshowing\t\tshowr\t\tshowrooms\t\tshows\t\tshracomorsglsuplt\t\tshrek\t\tshrink\t\tshrub\t\tshsex\t\tshu\t\tshud\t\tshudvetold\t\tshuhui\t\tshun\t\tshut\t\tshy\t\tsi\t\tsian\t\tsib\t\tsic\t\tsick\t\tsickness\t\tside\t\tsigh\t\tsighs\t\tsight\t\tsign\t\tsignal\t\tsignificance\t\tsignificant\t\tsignin\t\tsigning\t\tsiguviri\t\tsilence\t\tsilent\t\tsilently\t\tsilly\t\tsilver\t\tsim\t\tsimonwatson5120\t\tsimple\t\tsimpler\t\tsimply\t\tsimpsons\t\tsimulate\t\tsince\t\tsinco\t\tsindu\t\tsing\t\tsingapore\t\tsinging\t\tsingle\t\tsingles\t\tsink\t\tsip\t\tsipix\t\tsips\t\tsir\t\tsirji\t\tsis\t\tsister\t\tsisters\t\tsit\t\tsite\t\tsitll\t\tsitter\t\tsittin\t\tsitting\t\tsituation\t\tsituations\t\tsiva\t\tsix\t\tsize\t\tsized\t\tsk3\t\tsk38xh\t\tskateboarding\t\tskilgme\t\tskillgame\t\tskills\t\tskinny\t\tskins\t\tskint\t\tskip\t\tskirt\t\tsky\t\tskye\t\tskype\t\tskyped\t\tskyving\t\tslaaaaave\t\tslacking\t\tslap\t\tslave\t\tsleep\t\tsleepin\t\tsleeping\t\tsleepingwith\t\tsleeps\t\tsleepwell\t\tsleepy\t\tslept\t\tslice\t\tslices\t\tslide\t\tsliding\t\tslightly\t\tslip\t\tslippers\t\tslippery\t\tslo\t\tslob\t\tslots\t\tslovely\t\tslow\t\tslower\t\tslowing\t\tslowly\t\tslp\t\tslurp\t\tsmacks\t\tsmall\t\tsmaller\t\tsmart\t\tsmartcall\t\tsmarter\t\tsmash\t\tsmashed\t\tsmear\t\tsmell\t\tsmells\t\tsmeone\t\tsmidgin\t\tsmile\t\tsmiled\t\tsmiles\t\tsmiley\t\tsmiling\t\tsmith\t\tsmoke\t\tsmoked\t\tsmokes\t\tsmokin\t\tsmoking\t\tsmoothly\t\tsms\t\tsmsco\t\tsmsing\t\tsmsrewards\t\tsmsservices\t\tsmth\t\tsn\t\tsnake\t\tsnap\t\tsnappy\t\tsnatch\t\tsnd\t\tsneham\t\tsnickering\t\tsnogs\t\tsnoring\t\tsnot\t\tsnow\t\tsnowball\t\tsnowboarding\t\tsnowman\t\tsnuggles\t\tso\t\tsoc\t\tsochte\t\tsocial\t\tsofa\t\tsoft\t\tsoftware\t\tsoil\t\tsoiree\t\tsol\t\tsoladha\t\tsold\t\tsolihull\t\tsolve\t\tsolved\t\tsome1\t\tsomebody\t\tsomeday\t\tsomeone\t\tsomeonone\t\tsomeplace\t\tsomerset\t\tsometext\t\tsomethin\t\tsomething\t\tsometime\t\tsometimes\t\tsometme\t\tsomewhat\t\tsomewhere\t\tsomewheresomeone\t\tsomewhr\t\tsomone\t\tsomtimes\t\tsonathaya\t\tsonetimes\t\tsong\t\tsongs\t\tsony\t\tsonyericsson\t\tsoo\t\tsoon\t\tsooner\t\tsoonlots\t\tsooo\t\tsoooo\t\tsooooo\t\tsophas\t\tsore\t\tsorrow\t\tsorrows\t\tsorry\t\tsort\t\tsorta\t\tsorted\t\tsorting\t\tsorts\t\tsory\t\tsoryda\t\tsos\t\tsoul\t\tsound\t\tsounding\t\tsounds\t\tsoundtrack\t\tsoup\t\tsource\t\tsources\t\tsouth\t\tsouthern\t\tsouveniers\t\tsoz\t\tsozi\t\tsp\t\tspace\t\tspacebucks\t\tspaces\t\tspageddies\t\tspain\t\tspam\t\tspanish\t\tspare\t\tspares\t\tspark\t\tsparkling\t\tspatula\t\tspeak\t\tspeaking\t\tspecial\t\tspeciale\t\tspecialisation\t\tspecialise\t\tspecially\t\tspecific\t\tspecify\t\tspecs\t\tspeechless\t\tspeed\t\tspeedchat\t\tspeeding\t\tspeling\t\tspell\t\tspelled\t\tspelling\t\tspend\t\tspending\t\tspent\t\tsphosting\t\tspice\t\tspider\t\tspiffing\t\tspile\t\tspin\t\tspinout\t\tspiral\t\tspirit\t\tspiritual\t\tspjanuary\t\tspk\t\tspl\t\tsplash\t\tsplashmobile\t\tsplat\t\tsplendid\t\tsplit\t\tsplleing\t\tspoil\t\tspoiled\t\tspoilt\t\tspoke\t\tspoken\t\tsponsors\t\tspontaneously\t\tspook\t\tspoon\t\tspoons\t\tsporadically\t\tsport\t\tsports\t\tsportsx\t\tspose\t\tspot\t\tspotty\t\tspouse\t\tsppok\t\tspreadsheet\t\tspree\t\tspring\t\tsprings\t\tsprint\t\tsptv\t\tspun\t\tspys\t\tsq825\t\tsquatting\t\tsqueeeeeze\t\tsqueezed\t\tsquid\t\tsquishy\t\tsrs\t\tsrsly\t\tsrt\t\tsry\t\tst\t\tstability\t\tstable\t\tstadium\t\tstaff\t\tstage\t\tstagwood\t\tstairs\t\tstalk\t\tstalking\t\tstamped\t\tstamps\t\tstand\t\tstandard\t\tstanding\t\tstands\t\tstapati\t\tstar\t\tstarer\t\tstaring\t\tstarring\t\tstars\t\tstarshine\t\tstart\t\tstarted\t\tstarting\t\tstarts\t\tstarve\t\tstarving\t\tstarwars3\t\tstash\t\tstated\t\tstatement\t\tstatements\t\tstation\t\tstatus\t\tstay\t\tstayed\t\tstayin\t\tstaying\t\tstays\t\tstd\t\tstdtxtrate\t\tsteak\t\tsteal\t\tstealing\t\tsteam\t\tsteamboat\t\tsteed\t\tsteering\t\tstep\t\tsteps\t\tstereo\t\tstereophonics\t\tsterling\t\tsterm\t\tsteve\t\tstewartsize\t\tsteyn\t\tsth\t\tstick\t\tsticky\t\tstifled\t\tstil\t\tstill\t\tstink\t\tstitch\t\tstock\t\tstocked\t\tstockport\t\tstolen\t\tstomach\t\tstomps\t\tstone\t\tstoners\t\tstones\t\tstool\t\tstop\t\tstop2\t\tstop2stop\t\tstopbcm\t\tstopcost\t\tstopcs\t\tstopped\t\tstops\t\tstopsms\t\tstoptxtstop\t\tstore\t\tstores\t\tstories\t\tstorming\t\tstory\t\tstr\t\tstr8\t\tstraight\t\tstrain\t\tstrange\t\tstranger\t\tstream\t\tstreet\t\tstress\t\tstressed\t\tstressful\t\tstressfull\t\tstretch\t\tstrewn\t\tstrict\t\tstrike\t\tstrings\t\tstrip\t\tstripes\t\tstrips\t\tstrokes\t\tstrong\t\tstrongly\t\tstrt\t\tstrtd\t\tstruggling\t\tsts\t\tstu\t\tstubborn\t\tstuck\t\tstuddying\t\tstudent\t\tstudentfinancial\t\tstudents\t\tstudies\t\tstudio\t\tstudy\t\tstudying\t\tstudyn\t\tstuff\t\tstuff42moro\t\tstuffed\t\tstuffing\t\tstuffs\t\tstunning\t\tstupid\t\tstyle\t\tstyles\t\tstyling\t\tstylish\t\tstylist\t\tsub\t\tsubject\t\tsubletting\t\tsubmitted\t\tsubmitting\t\tsubpoly\t\tsubs\t\tsubs16\t\tsubscribe\t\tsubscribe6gbp\t\tsubscribed\t\tsubscriber\t\tsubscribers\t\tsubscription\t\tsubscriptions\t\tsubscriptn3gbp\t\tsubscrition\t\tsubsequent\t\tsubtoitles\t\tsuccess\t\tsuccessful\t\tsuccessfully\t\tsucker\t\tsuckers\t\tsucks\t\tsudden\t\tsuddenly\t\tsudn\t\tsue\t\tsuffer\t\tsuffering\t\tsuffers\t\tsufficient\t\tsugababes\t\tsuganya\t\tsugar\t\tsugardad\t\tsuggest\t\tsuggestion\t\tsuggestions\t\tsuite\t\tsuite342\t\tsuitemates\t\tsuits\t\tsullivan\t\tsum\t\tsum1\t\tsuman\t\tsumfing\t\tsummer\t\tsummers\t\tsummon\t\tsumthin\t\tsun\t\tsun0819\t\tsunday\t\tsundayish\t\tsunlight\t\tsunny\t\tsunoco\t\tsunroof\t\tsunscreen\t\tsunshine\t\tsuntec\t\tsup\t\tsuper\t\tsuperb\t\tsuperior\t\tsupervisor\t\tsuply\t\tsupose\t\tsuppliers\t\tsupplies\t\tsupply\t\tsupport\t\tsupports\t\tsuppose\t\tsupposed\t\tsupreme\t\tsuprman\t\tsura\t\tsure\t\tsurely\t\tsurf\t\tsurfing\t\tsurgical\t\tsurly\t\tsurname\t\tsurprise\t\tsurprised\t\tsurrender\t\tsurrounded\t\tsurvey\t\tsurya\t\tsutra\t\tsux\t\tsuzy\t\tsvc\t\tsw7\t\tsw73ss\t\tswalpa\t\tswan\t\tswann\t\tswap\t\tswashbuckling\t\tswat\t\tswatch\t\tsway\t\tswayze\t\tswear\t\tsweater\t\tsweatter\t\tsweet\t\tsweetest\t\tsweetheart\t\tsweetie\t\tsweets\t\tswell\t\tswhrt\t\tswimming\t\tswimsuit\t\tswing\t\tswiss\t\tswitch\t\tswollen\t\tswoop\t\tswt\t\tswtheart\t\tsyd\t\tsyllabus\t\tsymbol\t\tsympathetic\t\tsymptoms\t\tsynced\t\tsyria\t\tsyrup\t\tsystem\t\tsystems\t\tt4get2text\t\tt91\t\tta\t\ttable\t\ttablet\t\ttablets\t\ttackle\t\ttacos\t\ttactful\t\ttactless\t\ttag\t\ttagged\t\ttahan\t\ttai\t\ttait\t\ttaj\t\ttaka\t\ttake\t\ttakecare\t\ttaken\t\ttakes\t\ttakin\t\ttaking\t\ttalent\t\ttalents\t\ttalk\t\ttalkbut\t\ttalked\t\ttalkin\t\ttalking\t\ttalks\t\ttall\t\ttallahassee\t\ttallent\t\ttamilnadu\t\ttampa\t\ttank\t\ttantrum\t\ttap\t\ttape\t\ttariffs\t\ttarot\t\ttarpon\t\ttaste\t\ttasts\t\ttat\t\ttata\t\ttats\t\ttattoos\t\ttau\t\ttaught\t\ttaunton\t\ttaxes\t\ttaxi\t\ttaxless\t\ttaxt\t\ttaylor\t\ttayseer\t\ttb\t\ttbs\t\ttc\t\ttcr\t\ttcs\t\ttddnewsletter\t\ttea\t\tteach\t\tteacher\t\tteachers\t\tteaches\t\tteaching\t\tteam\t\tteams\t\ttear\t\ttears\t\ttease\t\tteasing\t\ttech\t\ttechnical\t\ttechnologies\t\ttee\t\tteenager\t\tteeth\t\tteju\t\ttel\t\ttelediscount\t\ttelephone\t\ttelephonic\t\tteletext\t\ttell\t\ttelling\t\ttellmiss\t\ttells\t\ttelly\t\ttelphone\t\ttelugu\t\ttemales\t\ttemp\t\ttemper\t\ttemple\t\tten\t\ttenants\t\ttendencies\t\ttenerife\t\ttensed\t\ttension\t\tteresa\t\tterm\t\tterminated\t\tterms\t\ttermsapply\t\tternal\t\tterrible\t\tterrific\t\tterror\t\tterrorist\t\tterry\t\ttescos\t\ttessy\t\ttest\t\ttesting\t\ttests\t\ttex\t\ttexas\t\ttexd\t\ttext\t\ttext82228\t\ttextand\t\ttextbook\t\ttextbuddy\t\ttextcomp\t\ttexted\t\ttextin\t\ttexting\t\ttextoperator\t\ttextpod\t\ttexts\t\ttgxxrz\t\tth\t\tthandiyachu\t\tthangam\t\tthank\t\tthanks\t\tthanks2\t\tthanksgiving\t\tthanku\t\tthankyou\t\tthanx\t\tthanx4\t\tthasa\t\tthat\t\tthat2worzels\t\tthatmum\t\tthats\t\tthe\t\tthe4th\t\ttheacusations\t\ttheater\t\ttheatre\t\tthecd\t\tthedailydraw\t\tthekingshead\t\tthemed\t\tthemes\t\tthemob\t\tthen\t\tthenampet\t\ttheoretically\t\ttheory\t\ttheplace\t\tthepub\t\tthere\t\ttheres\t\tthesedays\t\tthesis\t\tthesmszone\t\tthet\t\tthew\t\tthey\t\ttheyre\t\tthgt\t\tthia\t\tthin\t\tthing\t\tthings\t\tthink\t\tthinked\t\tthinkin\t\tthinking\t\tthinks\t\tthinkthis\t\tthinl\t\tthirtyeight\t\tthirunelvali\t\tthis\t\tthk\t\tthkin\t\tthm\t\tthnk\t\tthnq\t\tthnx\t\ttho\t\tthot\t\tthou\t\tthough\t\tthought\t\tthoughts\t\tthousands\t\tthout\t\tthread\t\tthreats\t\tthree\t\tthrew\t\tthriller\t\tthroat\t\tthrow\t\tthrowin\t\tthrowing\t\tthrown\t\tthrows\t\tthru\t\tths\t\ttht\t\tthts\t\tthuglyfe\t\tthurs\t\tthursday\t\tthus\t\tthx\t\tthy\t\ttick\t\tticket\t\ttickets\t\ttie\t\ttiempo\t\ttiger\t\ttight\t\ttightly\t\ttigress\t\ttihs\t\ttiime\t\ttil\t\ttill\t\ttim\t\ttime\t\ttimes\t\ttimi\t\ttimin\t\ttiming\t\ttimings\t\ttiny\t\ttip\t\ttips\t\ttired\t\ttiring\t\ttirunelvai\t\ttirunelvali\t\ttirupur\t\ttis\t\ttissco\t\ttitle\t\ttitles\t\ttiwary\t\ttix\t\ttiz\t\ttke\t\ttkls\t\ttkts\t\ttlk\t\ttlp\t\ttm\t\ttming\t\ttmorow\t\ttmorrow\t\ttmr\t\ttmrw\t\ttms\t\ttmw\t\ttnc\t\ttncs\t\tto\t\ttoa\t\ttoaday\t\ttobacco\t\ttobed\t\ttocall\t\ttoclaim\t\ttoday\t\ttodays\t\ttodo\t\ttog\t\ttogether\t\ttohar\t\ttoilet\t\ttok\t\ttoken\t\ttoking\t\ttol\t\ttold\t\ttoledo\t\ttolerance\t\ttolerat\t\ttoll\t\ttom\t\ttomarrow\t\ttome\t\ttomeandsaid\t\ttomo\t\ttomorro\t\ttomorrow\t\ttomorw\t\ttone\t\ttones\t\ttones2u\t\ttones2you\t\ttonexs\t\ttonght\t\ttongued\t\ttonight\t\ttonights\t\ttonite\t\ttons\t\ttonsolitusaswell\t\ttoo\t\ttook\t\ttookplace\t\ttool\t\ttooo\t\ttoot\t\ttooth\t\ttoothpaste\t\ttootsie\t\ttop\t\ttopic\t\ttoplay\t\ttopped\t\ttoppoly\t\ttops\t\ttor\t\ttorch\t\ttorrents\t\ttortilla\t\ttorture\t\ttosend\t\ttoshiba\t\ttoss\t\ttot\t\ttotal\t\ttotally\t\ttotes\t\ttouch\t\ttouched\t\ttough\t\ttoughest\t\ttour\t\ttowards\t\ttown\t\ttoxic\t\ttoyota\t\ttp\t\ttrack\t\ttrackmarque\t\ttrade\t\ttraditions\t\ttraffic\t\ttrain\t\ttrained\t\ttraining\t\ttrainners\t\ttrains\t\ttram\t\ttranquility\t\ttransaction\t\ttranscribing\t\ttransfer\t\ttransfered\t\ttransferred\t\ttransfr\t\ttransfred\t\ttransport\t\ttrash\t\ttrauma\t\ttrav\t\ttravel\t\ttraveling\t\ttravelled\t\ttravelling\t\ttreacle\t\ttreadmill\t\ttreasure\t\ttreat\t\ttreated\t\ttreatin\t\ttreats\t\ttrebles\t\ttree\t\ttrek\t\ttrends\t\ttrial\t\ttried\t\ttrip\t\ttriple\t\ttrips\t\ttrishul\t\ttriumphed\t\ttrivia\t\ttron\t\ttrouble\t\ttroubleshooting\t\ttrouser\t\ttruble\t\ttruck\t\ttrue\t\ttrue18\t\ttruffles\t\ttruly\t\ttruro\t\ttrust\t\ttrusting\t\ttruth\t\ttry\t\ttryin\t\ttrying\t\tts\t\ttsandcs\t\ttscs\t\ttscs08714740323\t\ttscs087147403231winawk\t\ttsunami\t\ttsunamis\t\ttt\t\tttyl\t\ttue\t\ttues\t\ttuesday\t\ttui\t\ttuition\t\ttul\t\ttulip\t\ttunde\t\ttune\t\ttunji\t\tturkeys\t\tturn\t\tturned\t\tturning\t\tturns\t\ttuth\t\ttv\t\ttwat\t\ttwelve\t\ttwenty\t\ttwice\t\ttwiggs\t\ttwilight\t\ttwinks\t\ttwins\t\ttwittering\t\ttwo\t\ttx\t\ttxt\t\ttxt250\t\ttxt43\t\ttxt82228\t\ttxtauction\t\ttxtin\t\ttxting\t\ttxtno\t\ttxts\t\ttxtstar\t\ttxtstop\t\ttxttowin\t\ttxtx\t\ttyler\t\ttype\t\ttypes\t\ttypical\t\ttyrone\t\tu2moro\t\tu4\t\tuawake\t\tubandu\t\tubi\t\tugadi\t\tugh\t\tugo\t\tuh\t\tuhhhhrmm\t\tuin\t\tujhhhhhhh\t\tuk\t\tukp\t\tuks\t\tultimate\t\tultimately\t\tultimatum\t\tum\t\tumma\t\tummifying\t\tummma\t\tummmmmaah\t\tun\t\tunable\t\tunbelievable\t\tunbreakable\t\tunclaimed\t\tuncle\t\tuncles\t\tuncomfortable\t\tunconditionally\t\tunconscious\t\tunconsciously\t\tunconvinced\t\tuncountable\t\tuncut\t\tunderdtand\t\tunderstand\t\tunderstanding\t\tunderstood\t\tunderwear\t\tundrstnd\t\tundrstndng\t\tunemployed\t\tuneventful\t\tunfolds\t\tunfortunately\t\tunfortuntly\t\tunhappiness\t\tunhappy\t\tuni\t\tunicef\t\tuniform\t\tunintentional\t\tunintentionally\t\tunique\t\tunited\t\tunits\t\tuniv\t\tuniversity\t\tunjalur\t\tunkempt\t\tunknown\t\tunless\t\tunlike\t\tunlimited\t\tunmits\t\tunnecessarily\t\tunni\t\tunrecognized\t\tunredeemed\t\tunsecured\t\tunsold\t\tunspoken\t\tunsub\t\tunsubscribe\t\tunsubscribed\t\tuntamed\t\tunusual\t\tup\t\tup4\t\tupcharge\t\tupd8\t\tupdat\t\tupdate\t\tupdate_now\t\tupgrade\t\tupgrading\t\tupgrdcentre\t\tupload\t\tuploaded\t\tupon\t\tupping\t\tups\t\tupset\t\tupstairs\t\tupto\t\tuptown\t\tur\t\turawinner\t\ture\t\turfeeling\t\turgent\t\turgently\t\turgh\t\turgnt\t\turgoin\t\turgran\t\turination\t\turl\t\turmom\t\turn\t\turself\t\tus\t\tusa\t\tusb\t\tusc\t\tuse\t\tused\t\tuseful\t\tuseless\t\tuser\t\tuses\t\tusf\t\tusher\t\tusing\t\tusmle\t\tusps\t\tusual\t\tusually\t\tuterus\t\tutter\t\tuttered\t\tuup\t\tuv\t\tuve\t\tuwana\t\tuwant\t\tuworld\t\tva\t\tvaazhthukkal\t\tvague\t\tvaguely\t\tvale\t\tvalentine\t\tvalentines\t\tvalid\t\tvalid12hrs\t\tvaluable\t\tvalue\t\tvalued\t\tvalues\t\tvaluing\t\tvaraya\t\tvargu\t\tvarious\t\tvarma\t\tvarunnathu\t\tvary\t\tvasai\t\tvat\t\tvatian\t\tvava\t\tvco\t\tvday\t\tve\t\tvegas\t\tvegetables\t\tveggie\t\tvehicle\t\tvelachery\t\tvelly\t\tvelusamy\t\tvenaam\t\tvenugopal\t\tverified\t\tverify\t\tverifying\t\tversion\t\tversus\t\tvery\t\tvettam\t\tvewy\t\tvia\t\tvibrant\t\tvibrate\t\tvibrator\t\tvic\t\tvictoria\t\tvictors\t\tvid\t\tvideo\t\tvideochat\t\tvideophones\t\tvideos\t\tvideosound\t\tvideosounds\t\tview\t\tvijay\t\tvijaykanth\t\tvikky\t\tvilikkam\t\tvill\t\tvilla\t\tvillage\t\tvinobanagar\t\tviolated\t\tviolence\t\tviolet\t\tvip\t\tvipclub4u\t\tvirgil\t\tvirgin\t\tvirgins\t\tvirtual\t\tvisa\t\tvisionsms\t\tvisit\t\tvisiting\t\tvisitor\t\tvisitors\t\tvital\t\tvitamin\t\tviva\t\tvivek\t\tvivekanand\t\tvl\t\tvoda\t\tvodafone\t\tvodka\t\tvoice\t\tvoicemail\t\tvoila\t\tvolcanoes\t\tvomit\t\tvomitin\t\tvomiting\t\tvote\t\tvoted\t\tvouch4me\t\tvoucher\t\tvouchers\t\tvpod\t\tvry\t\tvs\t\tvth\t\tvu\t\tw1\t\tw111wx\t\tw14rg\t\tw1a\t\tw1j\t\tw1j6hl\t\tw1jhl\t\tw1t1jy\t\tw4\t\tw45wq\t\tw8in\t\twa\t\twa14\t\twaaaat\t\twad\t\twadebridge\t\twah\t\twahala\t\twahay\t\twaheed\t\twaheeda\t\twahleykkum\t\twaht\t\twait\t\twaited\t\twaitin\t\twaiting\t\twake\t\twaking\t\twales\t\twaliking\t\twalk\t\twalkabout\t\twalked\t\twalkin\t\twalking\t\twalks\t\twall\t\twallet\t\twallpaper\t\twalls\t\twalmart\t\twalsall\t\twamma\t\twan\t\twan2\t\twana\t\twannatell\t\twant\t\twant2come\t\twanted\t\twanting\t\twants\t\twap\t\twaqt\t\twarm\t\twarming\t\twarned\t\twarner\t\twarning\t\twarranty\t\twarwick\t\twashob\t\twasn\t\twasnt\t\twaste\t\twasted\t\twasting\t\twat\t\twatch\t\twatched\t\twatches\t\twatchin\t\twatching\t\twatchng\t\twater\t\twatever\t\twatevr\t\twating\t\twatr\t\twats\t\twatts\t\twave\t\twavering\t\twaves\t\tway\t\tway2sms\t\twaz\t\twc1n\t\twc1n3xx\t\twe\t\tweak\t\tweakness\t\tweaknesses\t\tweapon\t\twear\t\twearing\t\tweaseling\t\tweasels\t\tweather\t\tweb\t\tweb2mobile\t\twebadres\t\twebeburnin\t\twebpage\t\twebsite\t\twed\t\tweddin\t\twedding\t\tweddingfriend\t\twedlunch\t\twednesday\t\tweds\t\twee\t\tweed\t\tweek\t\tweekdays\t\tweekend\t\tweekends\t\tweekly\t\tweeks\t\tweigh\t\tweighed\t\tweight\t\tweightloss\t\tweird\t\tweirdest\t\tweirdo\t\tweirdy\t\tweiyi\t\twelcome\t\twelcomes\t\twell\t\twellda\t\twelp\t\twen\t\twendy\t\twenever\t\twent\t\twenwecan\t\twer\t\twere\t\twerebored\t\twerethe\t\twesley\t\twesleys\t\twest\t\twestern\t\twestlife\t\twestonzoyland\t\twestshore\t\twet\t\twetherspoons\t\twewa\t\twhassup\t\twhat\t\twhatever\t\twhats\t\twhatsup\t\twheat\t\twheel\t\twheellock\t\twhen\t\twhenever\t\twhenevr\t\twhens\t\twhere\t\twhereare\t\twherever\t\twherevr\t\twherre\t\twhether\t\twhilltake\t\twhispers\t\twhite\t\twhn\t\twhoever\t\twhole\t\twhore\t\twhos\t\twhose\t\twhr\t\twhy\t\twi\t\twicked\t\twicket\t\twicklow\t\twid\t\twidelive\t\twif\t\twife\t\twifes\t\twifi\t\twihtuot\t\twikipedia\t\twil\t\twild\t\twildest\t\twildlife\t\twill\t\twilling\t\twillpower\t\twin\t\twin150ppmx3age16\t\twind\t\twindow\t\twindows\t\twinds\t\twindy\t\twine\t\twined\t\twings\t\twining\t\twinner\t\twinnersclub\t\twinning\t\twins\t\twinterstone\t\twipe\t\twipro\t\twire3\t\twisdom\t\twise\t\twish\t\twisheds\t\twishes\t\twishin\t\twishing\t\twishlist\t\twiskey\t\twit\t\twith\t\twithdraw\t\twither\t\twithin\t\twithout\t\twitin\t\twitot\t\twitout\t\twiv\t\twizzle\t\twk\t\twkend\t\twkent\t\twkg\t\twkly\t\twknd\t\twks\t\twlcome\t\twld\t\twml\t\twn\t\twnevr\t\twnt\t\two\t\twoah\t\twocay\t\twoke\t\twoken\t\twoman\t\twomdarfull\t\twomen\t\twondar\t\twondarfull\t\twonder\t\twonderful\t\twondering\t\twonders\t\twont\t\twoo\t\twoodland\t\twoods\t\twoohoo\t\twoot\t\twoould\t\twoozles\t\tworc\t\tword\t\twords\t\twork\t\tworkage\t\tworkand\t\tworkin\t\tworking\t\tworkout\t\tworks\t\tworld\t\tworlds\t\tworms\t\tworried\t\tworries\t\tworry\t\tworrying\t\tworse\t\tworst\t\tworth\t\tworthless\t\twot\t\twotu\t\twotz\t\twoul\t\twould\t\twoulda\t\twounds\t\twow\t\twrc\t\twrecked\t\twrench\t\twrenching\t\twright\t\twrite\t\twrithing\t\twrk\t\twrkin\t\twrking\t\twrks\t\twrld\t\twrnog\t\twrong\t\twrongly\t\twrote\t\tws\t\twt\t\twtc\t\twtf\t\twth\t\twthout\t\twtlp\t\twud\t\twuld\t\twuldnt\t\twun\t\twww\t\twylie\t\tx2\t\tx29\t\tx49\t\txafter\t\txam\t\txavier\t\txchat\t\txclusive\t\txin\t\txmas\t\txoxo\t\txt\t\txuhui\t\txx\t\txxsp\t\txxuk\t\txxx\t\txxxmobilemovieclub\t\txxxx\t\txxxxx\t\txxxxxx\t\txxxxxxx\t\txxxxxxxx\t\txxxxxxxxxxxxxx\t\txy\t\ty87\t\tya\t\tyah\t\tyahoo\t\tyalrigu\t\tyalru\t\tyam\t\tyan\t\tyar\t\tyarasu\t\tyards\t\tyavnt\t\tyaxx\t\tyaxxx\t\tyay\t\tyck\t\tyeah\t\tyear\t\tyears\t\tyeesh\t\tyeh\t\tyelling\t\tyellow\t\tyelow\t\tyen\t\tyeovil\t\tyep\t\tyer\t\tyes\t\tyest\t\tyesterday\t\tyet\t\tyetty\t\tyetunde\t\tyhl\t\tyi\t\tyifeng\t\tyijue\t\tym\t\tymca\t\tyo\t\tyoga\t\tyogasana\t\tyor\t\tyorge\t\tyou\t\tyoudoing\t\tyoui\t\tyoung\t\tyounger\t\tyouphone\t\tyour\t\tyoure\t\tyourinclusive\t\tyourjob\t\tyouuuuu\t\tyouwanna\t\tyoville\t\tyowifes\t\tyoyyooo\t\tyr\t\tyrs\t\tystrday\t\tything\t\tyummmm\t\tyummy\t\tyun\t\tyunny\t\tyuo\t\tyuou\t\tyup\t\tyupz\t\tzac\t\tzaher\t\tzealand\t\tzebra\t\tzed\t\tzeros\t\tzhong\t\tzindgi\t\tzoe\t\tzogtorius\t\tzoom\t\tzouk\t\tzyada\t\tèn\t\tú1\t\t〨ud\t\t"
     ]
    }
   ],
   "source": [
    "for i in x.columns:\n",
    "    print(i, end='\\t\\t')"
   ]
  },
  {
   "cell_type": "code",
   "execution_count": 93,
   "metadata": {},
   "outputs": [],
   "source": [
    "def text_process(txt):\n",
    "    sentences = nltk.sent_tokenize(txt.lower())\n",
    "    words = []\n",
    "    for sentence in sentences:\n",
    "        s = ' '.join(i for i in sentence.split() if (i not in sw.words('english')) and (re.fullmatch(r'[a-zA-Z0-9]+',i)))\n",
    "        words += [i.strip(\"'\") for i in nltk.word_tokenize(s) if i not in sw.words('english') and i not in punc]    \n",
    "    jw = ' '.join(words)\n",
    "    jw = ''.join([i for i in jw if (i.isalpha() or i==' ') and i.isascii()]).split()\n",
    "    return jw"
   ]
  },
  {
   "cell_type": "code",
   "execution_count": 82,
   "metadata": {},
   "outputs": [
    {
     "data": {
      "text/plain": [
       "\"The last thing i ever wanted to do was hurt you. And i didn't think it would have. You'd laugh, be embarassed, delete the tag and keep going. But as far as i knew, it wasn't even up. The fact that you even felt like i would do it to hurt you shows you really don't know me at all. It was messy wednesday, but it wasn't bad. The problem i have with it is you HAVE the time to clean it, but you choose not to. You skype, you take pictures, you sleep, you want to go out. I don't mind a few things here and there, but when you don't make the bed, when you throw laundry on top of it, when i can't have a friend in the house because i'm embarassed that there's underwear and bras strewn on the bed, pillows on the floor, that's something else. You used to be good about at least making the bed.\""
      ]
     },
     "execution_count": 82,
     "metadata": {},
     "output_type": "execute_result"
    }
   ],
   "source": [
    "sample"
   ]
  },
  {
   "cell_type": "code",
   "execution_count": 99,
   "metadata": {},
   "outputs": [],
   "source": [
    "import re"
   ]
  },
  {
   "cell_type": "raw",
   "metadata": {},
   "source": [
    "re.match()\n",
    "re.sub()\n",
    "re.search()"
   ]
  },
  {
   "cell_type": "code",
   "execution_count": 117,
   "metadata": {},
   "outputs": [],
   "source": [
    "s1 = 'abcmetT'\n",
    "s = '123$45abc866'"
   ]
  },
  {
   "cell_type": "code",
   "execution_count": 118,
   "metadata": {},
   "outputs": [
    {
     "name": "stdout",
     "output_type": "stream",
     "text": [
      "<re.Match object; span=(0, 12), match='123$45abc866'>\n"
     ]
    }
   ],
   "source": [
    "res = re.fullmatch(r'[a-zA-Z0-9\\$]+', s)\n",
    "print(res)"
   ]
  },
  {
   "cell_type": "code",
   "execution_count": 119,
   "metadata": {},
   "outputs": [
    {
     "data": {
      "text/plain": [
       "True"
      ]
     },
     "execution_count": 119,
     "metadata": {},
     "output_type": "execute_result"
    }
   ],
   "source": [
    "bool(res)"
   ]
  },
  {
   "cell_type": "raw",
   "metadata": {},
   "source": [
    "(.*)"
   ]
  },
  {
   "cell_type": "code",
   "execution_count": 94,
   "metadata": {
    "scrolled": true,
    "tags": []
   },
   "outputs": [
    {
     "data": {
      "text/plain": [
       "['last',\n",
       " 'thing',\n",
       " 'ever',\n",
       " 'wanted',\n",
       " 'hurt',\n",
       " 'think',\n",
       " 'would',\n",
       " 'laugh',\n",
       " 'embarassed',\n",
       " 'delete',\n",
       " 'tag',\n",
       " 'keep',\n",
       " 'going',\n",
       " 'far',\n",
       " 'knew',\n",
       " 'even',\n",
       " 'fact',\n",
       " 'even',\n",
       " 'felt',\n",
       " 'like',\n",
       " 'would',\n",
       " 'hurt',\n",
       " 'shows',\n",
       " 'really',\n",
       " 'know',\n",
       " 'messy',\n",
       " 'wednesday',\n",
       " 'bad',\n",
       " 'problem',\n",
       " 'time',\n",
       " 'clean',\n",
       " 'choose',\n",
       " 'skype',\n",
       " 'take',\n",
       " 'pictures',\n",
       " 'sleep',\n",
       " 'want',\n",
       " 'go',\n",
       " 'mind',\n",
       " 'things',\n",
       " 'make',\n",
       " 'bed',\n",
       " 'throw',\n",
       " 'laundry',\n",
       " 'top',\n",
       " 'ca',\n",
       " 'nt',\n",
       " 'friend',\n",
       " 'house',\n",
       " 'm',\n",
       " 'embarassed',\n",
       " 's',\n",
       " 'underwear',\n",
       " 'bras',\n",
       " 'strewn',\n",
       " 'bed',\n",
       " 'pillows',\n",
       " 'floor',\n",
       " 's',\n",
       " 'something',\n",
       " 'else',\n",
       " 'used',\n",
       " 'good',\n",
       " 'least',\n",
       " 'making',\n",
       " 'bed']"
      ]
     },
     "execution_count": 94,
     "metadata": {},
     "output_type": "execute_result"
    }
   ],
   "source": [
    "text_process(sample)"
   ]
  },
  {
   "cell_type": "raw",
   "metadata": {},
   "source": [
    "all_text = df['message'].apply(text_process)"
   ]
  },
  {
   "cell_type": "raw",
   "metadata": {},
   "source": [
    "all_text.head()"
   ]
  },
  {
   "cell_type": "code",
   "execution_count": 95,
   "metadata": {},
   "outputs": [],
   "source": [
    "# cv1 = CountVectorizer()\n",
    "cv1 = CountVectorizer(analyzer=text_process)"
   ]
  },
  {
   "cell_type": "code",
   "execution_count": 96,
   "metadata": {},
   "outputs": [],
   "source": [
    "bow1 = cv1.fit_transform(df['message'])\n",
    "bow_df1 = pd.DataFrame(bow1.toarray(), columns = cv1.get_feature_names())"
   ]
  },
  {
   "cell_type": "code",
   "execution_count": 97,
   "metadata": {},
   "outputs": [
    {
     "data": {
      "text/html": [
       "<div>\n",
       "<style scoped>\n",
       "    .dataframe tbody tr th:only-of-type {\n",
       "        vertical-align: middle;\n",
       "    }\n",
       "\n",
       "    .dataframe tbody tr th {\n",
       "        vertical-align: top;\n",
       "    }\n",
       "\n",
       "    .dataframe thead th {\n",
       "        text-align: right;\n",
       "    }\n",
       "</style>\n",
       "<table border=\"1\" class=\"dataframe\">\n",
       "  <thead>\n",
       "    <tr style=\"text-align: right;\">\n",
       "      <th></th>\n",
       "      <th>a</th>\n",
       "      <th>aa</th>\n",
       "      <th>aah</th>\n",
       "      <th>aaniye</th>\n",
       "      <th>aaooooright</th>\n",
       "      <th>aathi</th>\n",
       "      <th>ab</th>\n",
       "      <th>abbey</th>\n",
       "      <th>abdomen</th>\n",
       "      <th>abeg</th>\n",
       "      <th>...</th>\n",
       "      <th>zeros</th>\n",
       "      <th>zf</th>\n",
       "      <th>zhong</th>\n",
       "      <th>zindgi</th>\n",
       "      <th>zoe</th>\n",
       "      <th>zogtorius</th>\n",
       "      <th>zoom</th>\n",
       "      <th>zouk</th>\n",
       "      <th>zs</th>\n",
       "      <th>zyada</th>\n",
       "    </tr>\n",
       "  </thead>\n",
       "  <tbody>\n",
       "    <tr>\n",
       "      <th>0</th>\n",
       "      <td>0</td>\n",
       "      <td>0</td>\n",
       "      <td>0</td>\n",
       "      <td>0</td>\n",
       "      <td>0</td>\n",
       "      <td>0</td>\n",
       "      <td>0</td>\n",
       "      <td>0</td>\n",
       "      <td>0</td>\n",
       "      <td>0</td>\n",
       "      <td>...</td>\n",
       "      <td>0</td>\n",
       "      <td>0</td>\n",
       "      <td>0</td>\n",
       "      <td>0</td>\n",
       "      <td>0</td>\n",
       "      <td>0</td>\n",
       "      <td>0</td>\n",
       "      <td>0</td>\n",
       "      <td>0</td>\n",
       "      <td>0</td>\n",
       "    </tr>\n",
       "    <tr>\n",
       "      <th>1</th>\n",
       "      <td>0</td>\n",
       "      <td>0</td>\n",
       "      <td>0</td>\n",
       "      <td>0</td>\n",
       "      <td>0</td>\n",
       "      <td>0</td>\n",
       "      <td>0</td>\n",
       "      <td>0</td>\n",
       "      <td>0</td>\n",
       "      <td>0</td>\n",
       "      <td>...</td>\n",
       "      <td>0</td>\n",
       "      <td>0</td>\n",
       "      <td>0</td>\n",
       "      <td>0</td>\n",
       "      <td>0</td>\n",
       "      <td>0</td>\n",
       "      <td>0</td>\n",
       "      <td>0</td>\n",
       "      <td>0</td>\n",
       "      <td>0</td>\n",
       "    </tr>\n",
       "    <tr>\n",
       "      <th>2</th>\n",
       "      <td>0</td>\n",
       "      <td>0</td>\n",
       "      <td>0</td>\n",
       "      <td>0</td>\n",
       "      <td>0</td>\n",
       "      <td>0</td>\n",
       "      <td>0</td>\n",
       "      <td>0</td>\n",
       "      <td>0</td>\n",
       "      <td>0</td>\n",
       "      <td>...</td>\n",
       "      <td>0</td>\n",
       "      <td>0</td>\n",
       "      <td>0</td>\n",
       "      <td>0</td>\n",
       "      <td>0</td>\n",
       "      <td>0</td>\n",
       "      <td>0</td>\n",
       "      <td>0</td>\n",
       "      <td>0</td>\n",
       "      <td>0</td>\n",
       "    </tr>\n",
       "    <tr>\n",
       "      <th>3</th>\n",
       "      <td>0</td>\n",
       "      <td>0</td>\n",
       "      <td>0</td>\n",
       "      <td>0</td>\n",
       "      <td>0</td>\n",
       "      <td>0</td>\n",
       "      <td>0</td>\n",
       "      <td>0</td>\n",
       "      <td>0</td>\n",
       "      <td>0</td>\n",
       "      <td>...</td>\n",
       "      <td>0</td>\n",
       "      <td>0</td>\n",
       "      <td>0</td>\n",
       "      <td>0</td>\n",
       "      <td>0</td>\n",
       "      <td>0</td>\n",
       "      <td>0</td>\n",
       "      <td>0</td>\n",
       "      <td>0</td>\n",
       "      <td>0</td>\n",
       "    </tr>\n",
       "    <tr>\n",
       "      <th>4</th>\n",
       "      <td>0</td>\n",
       "      <td>0</td>\n",
       "      <td>0</td>\n",
       "      <td>0</td>\n",
       "      <td>0</td>\n",
       "      <td>0</td>\n",
       "      <td>0</td>\n",
       "      <td>0</td>\n",
       "      <td>0</td>\n",
       "      <td>0</td>\n",
       "      <td>...</td>\n",
       "      <td>0</td>\n",
       "      <td>0</td>\n",
       "      <td>0</td>\n",
       "      <td>0</td>\n",
       "      <td>0</td>\n",
       "      <td>0</td>\n",
       "      <td>0</td>\n",
       "      <td>0</td>\n",
       "      <td>0</td>\n",
       "      <td>0</td>\n",
       "    </tr>\n",
       "  </tbody>\n",
       "</table>\n",
       "<p>5 rows × 8074 columns</p>\n",
       "</div>"
      ],
      "text/plain": [
       "   a  aa  aah  aaniye  aaooooright  aathi  ab  abbey  abdomen  abeg  ...  \\\n",
       "0  0   0    0       0            0      0   0      0        0     0  ...   \n",
       "1  0   0    0       0            0      0   0      0        0     0  ...   \n",
       "2  0   0    0       0            0      0   0      0        0     0  ...   \n",
       "3  0   0    0       0            0      0   0      0        0     0  ...   \n",
       "4  0   0    0       0            0      0   0      0        0     0  ...   \n",
       "\n",
       "   zeros  zf  zhong  zindgi  zoe  zogtorius  zoom  zouk  zs  zyada  \n",
       "0      0   0      0       0    0          0     0     0   0      0  \n",
       "1      0   0      0       0    0          0     0     0   0      0  \n",
       "2      0   0      0       0    0          0     0     0   0      0  \n",
       "3      0   0      0       0    0          0     0     0   0      0  \n",
       "4      0   0      0       0    0          0     0     0   0      0  \n",
       "\n",
       "[5 rows x 8074 columns]"
      ]
     },
     "execution_count": 97,
     "metadata": {},
     "output_type": "execute_result"
    }
   ],
   "source": [
    "bow_df1.head()"
   ]
  },
  {
   "cell_type": "code",
   "execution_count": 98,
   "metadata": {
    "scrolled": true,
    "tags": []
   },
   "outputs": [
    {
     "name": "stdout",
     "output_type": "stream",
     "text": [
      "a\t\taa\t\taah\t\taaniye\t\taaooooright\t\taathi\t\tab\t\tabbey\t\tabdomen\t\tabeg\t\tabel\t\taberdeen\t\tabi\t\tability\t\tabiola\t\tabj\t\table\t\tabnormally\t\taboutas\t\tabroad\t\tabsence\t\tabsolutely\t\tabsolutly\t\tabstract\t\tabt\t\tabta\t\taburo\t\tabuse\t\tabusers\t\tac\t\tacademic\t\tacc\t\taccent\t\taccenture\t\taccept\t\taccess\t\taccessible\t\taccidant\t\taccident\t\taccidentally\t\taccommodation\t\taccommodationvouchers\t\taccomodate\t\taccomodations\t\taccordin\t\taccordingly\t\taccordinglyor\t\taccount\t\taccounting\t\taccounts\t\taccumulation\t\tachan\t\tache\t\tachieve\t\tacid\t\tacknowledgement\t\taclpm\t\tacnt\t\taco\t\tacross\t\tacsmsrewards\t\tact\t\tacted\t\tactin\t\tacting\t\taction\t\tactiv\t\tactivate\t\tactive\t\tactivities\t\tactor\t\tactual\t\tactually\t\tacwicmbcktzr\t\tad\t\tadam\t\tadd\t\taddamsfa\t\tadded\t\taddicted\t\taddie\t\tadding\t\taddress\t\taddressu\t\tadds\t\tadewale\t\tadi\t\tadjustable\t\tadmin\t\tadministrator\t\tadmirer\t\tadmission\t\tadmit\t\tadore\t\tadoring\t\tadp\t\tadress\t\tadrian\t\tadrink\t\tads\t\tadsense\t\tadult\t\tadults\t\tadvance\t\tadventure\t\tadventuring\t\tadvice\t\tadvise\t\tadvising\t\tadvisors\t\tae\t\taeronautics\t\taeroplane\t\tafew\t\taffair\t\taffairs\t\taffection\t\taffectionate\t\taffections\t\taffidavit\t\tafford\t\tafghanistan\t\tafraid\t\tafrica\t\tafrican\t\taft\t\tafter\t\tafternon\t\tafternoon\t\tafternoons\t\tafterwards\t\taftr\t\tag\t\tagaincall\t\tagalla\t\tage\t\tagency\t\tagent\t\tagents\t\tageperwksub\t\tageppermesssubscription\t\tages\t\tagidhane\t\taging\t\tago\t\tagocusoon\t\tagree\t\tagreen\t\tah\t\taha\t\tahead\t\tahhh\t\tahhhh\t\tahmad\t\tahnow\t\tahold\t\tahthe\t\tai\t\taid\t\taids\t\taig\t\taight\t\taint\t\tair\t\tairport\t\tairtel\t\taiya\t\taiyah\t\taiyar\t\taiyo\t\taj\t\tajith\t\tak\t\taka\t\takonlonely\t\tal\t\talaikkumpride\t\talaipayuthe\t\talbi\t\talbum\t\talbumquite\t\talcohol\t\taldrine\t\talert\t\talertfrom\t\talerts\t\taletter\t\talex\t\talfie\t\talgarve\t\talgebra\t\talgorithms\t\tali\t\talian\t\talibi\t\talive\t\talivebetter\t\tallah\t\tallahrakhesh\t\tallalo\t\tallday\t\talle\t\tallo\t\tallow\t\tallowed\t\tallows\t\talmost\t\talone\t\talong\t\talot\t\talready\t\talright\t\talrightokay\t\talrite\t\talritehave\t\talso\t\talsoor\t\talter\t\talternativehope\t\talthough\t\taltocoukwavewaveasp\t\talwa\t\talways\t\talwys\t\tam\t\tamanda\t\tamazing\t\tambitious\t\tambrith\t\tamerican\t\tami\t\tamigos\t\tamk\t\tammae\t\tammarakheshqatar\t\tammo\t\tamnow\t\tamong\t\tamongst\t\tamount\t\tamp\t\tamplikater\t\tampm\t\tamrca\t\tamrita\t\tams\t\tamt\t\tamused\t\tamx\t\tamy\t\tan\t\tana\t\tanal\t\tanalysis\t\tanand\t\tanderson\t\tandor\t\tandre\t\tandres\t\tandrewsboy\t\tandros\t\tangels\t\tangry\t\tanimal\t\tanimation\t\tanjie\t\tanjola\t\tanna\t\tannie\t\tanniversary\t\tannoncement\t\tannounced\t\tannouncement\t\tannoyin\t\tannoying\t\tanonymous\t\tanot\t\tanother\t\tans\t\tansr\t\tanswer\t\tanswered\t\tanswerin\t\tanswering\t\tanswers\t\tanswr\t\tantelope\t\tantha\t\tanthony\t\tanti\t\tantibiotic\t\tanybody\t\tanyhow\t\tanymore\t\tanyone\t\tanyones\t\tanyplaces\t\tanythiing\t\tanythin\t\tanything\t\tanythingtomorrow\t\tanytime\t\tanyway\t\tanyways\t\tanywhere\t\taom\t\tapart\t\tapartment\t\tapes\t\tapeshit\t\taphexs\t\tapnt\t\tapo\t\tapologetic\t\tapologise\t\tapologize\t\tapology\t\tapp\t\tapparently\t\tappeal\t\tappear\t\tappendix\t\tapplebees\t\tappledayno\t\tapples\t\tapplication\t\tapply\t\tapplyed\t\tapplying\t\tappointment\t\tappointments\t\tappreciate\t\tappreciated\t\tapproaches\t\tapproaching\t\tappropriate\t\tapprove\t\tapproved\t\tapprox\t\tapps\t\tappt\t\tappy\t\tapr\t\tapril\t\taproach\t\tapt\t\taptitude\t\taquarius\t\tar\t\tarab\t\tarabian\t\tarcade\t\tarchive\t\tard\t\tarea\t\tarent\t\tarestaurant\t\taretaking\t\targentina\t\targh\t\targue\t\targuing\t\targument\t\targuments\t\taries\t\tarise\t\tarises\t\tarithmetic\t\tarm\t\tarmand\t\tarmenia\t\tarms\t\tarng\t\tarngd\t\tarnt\t\taround\t\taroundn\t\tarpraveesh\t\tarr\t\tarrange\t\tarranging\t\tarrested\t\tarrival\t\tarrive\t\tarrived\t\tarrow\t\tarsenal\t\tart\t\tartists\t\tarts\t\tarty\t\tarul\t\tarun\t\tasa\t\tasap\t\tasapok\t\tasda\t\tashes\t\tashley\t\tashwini\t\tasia\t\tasian\t\task\t\taskd\t\tasked\t\taskin\t\tasking\t\tasks\t\taslamalaikkum\t\tasleep\t\taspects\t\tass\t\tassessment\t\tasshole\t\tassistance\t\tassociate\t\tasssssholeeee\t\tassume\t\tassumed\t\tasthere\t\tasthma\t\tastne\t\tastoundingly\t\tastrology\t\tastronomer\t\tasus\t\tasusual\t\tate\t\tathletic\t\tathome\t\tatlanta\t\tatlast\t\tatleast\t\tatm\t\tatmsms\t\tatrocious\t\tattach\t\tattached\t\tattack\t\tattempt\t\tatten\t\tattend\t\tattended\t\tattending\t\tattention\t\tattitude\t\tattractioni\t\tattractive\t\tattracts\t\tattributed\t\tatyour\t\tauction\t\taudiitions\t\taudition\t\taudrey\t\taudrie\t\taugust\t\taunt\t\tauntie\t\taunties\t\taunts\t\taunty\t\taust\t\taustralia\t\tauthorise\t\tauto\t\tautocorrect\t\tav\t\tava\t\tavaila\t\tavailable\t\tavailablethey\t\tavalarr\t\tavatar\t\tavble\t\tave\t\tavenge\t\tavent\t\tavenue\t\tavin\t\tavo\t\tavoid\t\tavoiding\t\tavoids\t\tawait\t\tawaiting\t\tawake\t\taward\t\tawarded\t\taway\t\tawesome\t\tawkward\t\taww\t\tawww\t\tax\t\taxis\t\tay\t\tayn\t\tayo\t\tb\t\tba\t\tbaaaaaaaabe\t\tbaaaaabe\t\tbabe\t\tbabes\t\tbabesozi\t\tbabies\t\tbaby\t\tbabygoodbye\t\tbabyjontet\t\tbabysit\t\tbabysitting\t\tbac\t\tback\t\tbackdoor\t\tbackwards\t\tbad\t\tbadass\t\tbadly\t\tbadrith\t\tbag\t\tbags\t\tbahamas\t\tbaig\t\tbailiff\t\tbajarangabali\t\tbak\t\tbakra\t\tbakrid\t\tbalance\t\tball\t\tballer\t\tballoon\t\tballs\t\tbam\t\tbambling\t\tband\t\tbandages\t\tbang\t\tbangb\t\tbangbabes\t\tbani\t\tbank\t\tbanks\t\tbanned\t\tbanneduk\t\tbannfwflyppm\t\tbanter\t\tbao\t\tbar\t\tbarbie\t\tbarcelona\t\tbare\t\tbarely\t\tbari\t\tbarkleys\t\tbarmed\t\tbarolla\t\tbarred\t\tbarrel\t\tbarring\t\tbarry\t\tbars\t\tbase\t\tbash\t\tbasic\t\tbasically\t\tbasket\t\tbasketball\t\tbasq\t\tbat\t\tbatch\t\tbatchlor\t\tbath\t\tbathe\t\tbathing\t\tbathroom\t\tbatsman\t\tbatt\t\tbattery\t\tbattle\t\tbawling\t\tbay\t\tbb\t\tbbc\t\tbbd\t\tbbdeluxe\t\tbblue\t\tbbq\t\tbc\t\tbcaz\t\tbck\t\tbcm\t\tbcmsfwcnxx\t\tbcmwcnxx\t\tbcoz\t\tbcum\t\tbcums\t\tbcz\t\tbday\t\tbe\t\tbeach\t\tbeads\t\tbear\t\tbears\t\tbeatings\t\tbeauties\t\tbeautiful\t\tbeauty\t\tbec\t\tbecaus\t\tbecausethey\t\tbecome\t\tbecomes\t\tbecoz\t\tbecz\t\tbed\t\tbedbut\t\tbedreal\t\tbedrm\t\tbedroom\t\tbeeen\t\tbeehoon\t\tbeendropping\t\tbeer\t\tbeerage\t\tbeerrs\t\tbeers\t\tbefor\t\tbeforehand\t\tbeforewent\t\tbeg\t\tbeggar\t\tbegging\t\tbegin\t\tbegins\t\tbegun\t\tbehalf\t\tbehave\t\tbehind\t\tbein\t\tbelieve\t\tbelive\t\tbell\t\tbellearlier\t\tbelligerent\t\tbelly\t\tbelong\t\tbelongs\t\tbelovd\t\tbeloved\t\tbelt\t\tben\t\tbend\t\tbeneath\t\tbeneficiary\t\tbenefits\t\tbennys\t\tbergkamp\t\tbeside\t\tbest\t\tbet\t\tbeta\t\tbeth\t\tbetta\t\tbetter\t\tbettersn\t\tbettr\t\tbeverage\t\tbevieswaz\t\tbeware\t\tbeyond\t\tbf\t\tbffs\t\tbfore\t\tbhaji\t\tbhaskar\t\tbhayandar\t\tbian\t\tbiatch\t\tbid\t\tbids\t\tbig\t\tbigger\t\tbiggest\t\tbike\t\tbill\t\tbilled\t\tbilling\t\tbillion\t\tbills\t\tbilly\t\tbilo\t\tbimbo\t\tbin\t\tbiola\t\tbird\t\tbirds\t\tbirla\t\tbiro\t\tbirth\t\tbirthdate\t\tbirthday\t\tbishan\t\tbit\t\tbitch\t\tbitching\t\tbite\t\tbites\t\tbits\t\tbiz\t\tbk\t\tblack\t\tblackberry\t\tblacko\t\tblah\t\tblake\t\tblame\t\tblank\t\tblanked\t\tblanket\t\tblankets\t\tblastin\t\tbleak\t\tbleh\t\tbless\t\tblessed\t\tblessget\t\tblessing\t\tblessings\t\tblimey\t\tblind\t\tblock\t\tblocked\t\tblog\t\tblogging\t\tbloke\t\tblokes\t\tblonde\t\tbloo\t\tblood\t\tbloodsend\t\tbloody\t\tbloomberg\t\tbloombergcom\t\tblow\t\tblowing\t\tblown\t\tblu\t\tblue\t\tbluetooth\t\tbluetoothhdset\t\tbluff\t\tblur\t\tbluray\t\tbmw\t\tboard\t\tboat\t\tboatin\t\tbob\t\tbody\t\tboggy\t\tbognor\t\tbold\t\tbollox\t\tboltblue\t\tbomb\t\tbone\t\tbong\t\tbonus\t\tboo\t\tboobs\t\tbook\t\tbooked\t\tbookedthe\t\tbooking\t\tbookmark\t\tbooks\t\tbookshelf\t\tboooo\t\tboost\t\tbooty\t\tbootydelious\t\tborderline\t\tbored\t\tborin\t\tboring\t\tborn\t\tbornplease\t\tborrow\t\tboss\t\tboston\t\tbot\t\tbother\t\tbothering\t\tbottle\t\tbottom\t\tbought\t\tboughtbraindancea\t\tboundaries\t\tbout\t\tbowa\t\tbowl\t\tbowls\t\tbox\t\tboxcpm\t\tboxnqp\t\tboxqu\t\tboxskch\t\tboxskwpppm\t\tboxwrc\t\tboy\t\tboye\t\tboyf\t\tboyfriend\t\tboys\t\tboytoy\t\tboyy\t\tbpo\t\tbrah\t\tbrain\t\tbrainless\t\tbrains\t\tbrainy\t\tbrand\t\tbrandy\t\tbras\t\tbrats\t\tbraved\t\tbray\t\tbrb\t\tbrdget\t\tbread\t\tbreadstick\t\tbreak\t\tbreaker\t\tbreakfast\t\tbreakin\t\tbreaking\t\tbreaks\t\tbreath\t\tbreathe\t\tbreather\t\tbreathing\t\tbreeze\t\tbreezy\t\tbrekkie\t\tbribe\t\tbridge\t\tbridgwater\t\tbrief\t\tbright\t\tbrighten\t\tbrilliant\t\tbrilliantly\t\tbrin\t\tbring\t\tbringing\t\tbrings\t\tbrisk\t\tbrison\t\tbristol\t\tbritish\t\tbritney\t\tbro\t\tbroad\t\tbroadband\t\tbroke\t\tbroken\t\tbrolly\t\tbros\t\tbroth\t\tbrothas\t\tbrother\t\tbrothers\t\tbrought\t\tbrown\t\tbrownie\t\tbrownies\t\tbrowse\t\tbrowser\t\tbrowsin\t\tbruce\t\tbrum\t\tbruv\t\tbslvyl\t\tbsn\t\tbsnl\t\tbstfrnd\t\tbt\t\tbthere\t\tbtnational\t\tbtnationalrate\t\tbtooth\t\tbtw\t\tbtwn\t\tbu\t\tbucks\t\tbud\t\tbuddy\t\tbuddys\t\tbudget\t\tbuen\t\tbuff\t\tbuffet\t\tbuffy\t\tbugis\t\tbuild\t\tbuilding\t\tbuilt\t\tbulbs\t\tbull\t\tbullshit\t\tbunch\t\tbundle\t\tbunkers\t\tbuns\t\tburden\t\tburger\t\tburgundy\t\tburial\t\tburn\t\tburning\t\tburns\t\tburnt\t\tburrito\t\tbus\t\tbuses\t\tbusetop\t\tbusiness\t\tbusty\t\tbusy\t\tbusyi\t\tbutt\t\tbuttheres\t\tbutting\t\tbuttons\t\tbuy\t\tbuyer\t\tbuyers\t\tbuying\t\tbuz\t\tbuzy\t\tbuzz\t\tbuzzzz\t\tbw\t\tbx\t\tbxipwe\t\tby\t\tbyatch\t\tbye\t\tbyleafcutter\t\tc\t\tca\t\tcab\t\tcabin\t\tcable\t\tcafe\t\tcage\t\tcake\t\tcakes\t\tcal\t\tcalculated\t\tcalculation\t\tcali\t\tcalicut\t\tcalifornia\t\tcall\t\tcallback\t\tcallcost\t\tcalld\t\tcalldrove\t\tcalled\t\tcaller\t\tcallers\t\tcallertune\t\tcallfreefone\t\tcallin\t\tcalling\t\tcallingforgot\t\tcallon\t\tcalloptout\t\tcalloptoutfq\t\tcalloptouthf\t\tcalloptoutj\t\tcalloptoutjq\t\tcalloptoutlf\t\tcalloptoutndx\t\tcalloptoutqf\t\tcalls\t\tcallsminmobsmore\t\tcallsminmobsmorelkpoboxhpfl\t\tcallsminmoremobsemspoboxpowa\t\tcallsppm\t\tcallurgent\t\tcalm\t\tcam\t\tcamcorder\t\tcame\t\tcamera\t\tcameravideo\t\tcamp\t\tcampus\t\tcamry\t\tcanada\t\tcanal\t\tcanary\t\tcancel\t\tcanceled\t\tcancelled\t\tcancer\t\tcandont\t\tcanlove\t\tcanname\t\tcant\t\tcantdo\t\tcanteen\t\tcapacity\t\tcapital\t\tcappuccino\t\tcaps\t\tcaptain\t\tcaptaining\t\tcar\t\tcard\t\tcardiff\t\tcardin\t\tcards\t\tcare\t\tcareabout\t\tcared\t\tcareer\t\tcareers\t\tcareful\t\tcarefully\t\tcareinsha\t\tcareless\t\tcares\t\tcareumma\t\tcaring\t\tcarlie\t\tcarlin\t\tcarlos\t\tcarly\t\tcarolina\t\tcaroline\t\tcarpark\t\tcarry\t\tcarryin\t\tcars\t\tcarso\t\tcartons\t\tcartoon\t\tcase\t\tcash\t\tcashbalance\t\tcashbincouk\t\tcashed\t\tcashin\t\tcashto\t\tcasing\t\tcast\t\tcasting\t\tcastor\t\tcasualty\t\tcat\t\tcatch\t\tcatches\t\tcatching\t\tcategories\t\tcaught\t\tcause\t\tcauses\t\tcausing\t\tcave\t\tcaveboy\t\tcbe\t\tcc\t\tccna\t\tccpmin\t\tcd\t\tcdgt\t\tcds\t\tcedar\t\tceiling\t\tceleb\t\tcelebrate\t\tcelebrated\t\tcelebration\t\tcelebrations\t\tcell\t\tcensus\t\tcenter\t\tcentre\t\tcentury\t\tcer\t\tcereals\t\tceri\t\tcertainly\t\tcertificate\t\tcfcaa\t\tcha\t\tchachi\t\tchad\t\tchain\t\tchallenge\t\tchallenging\t\tchamp\t\tchamplaxigating\t\tchampneys\t\tchance\t\tchances\t\tchange\t\tchanged\t\tchanges\t\tchanging\t\tchannel\t\tchapel\t\tchaps\t\tchapter\t\tcharacter\t\tcharacters\t\tcharge\t\tcharged\t\tcharges\t\tcharity\t\tcharles\t\tcharlie\t\tcharming\t\tchart\t\tcharts\t\tchase\t\tchasing\t\tchastity\t\tchat\t\tchatlines\t\tchatter\t\tchatting\t\tcheap\t\tcheaper\t\tcheat\t\tcheating\t\tchechi\t\tcheck\t\tcheckboxes\t\tchecked\t\tcheckin\t\tchecking\t\tcheckmate\t\tcheckup\t\tcheek\t\tcheer\t\tcheered\t\tcheers\t\tcheery\t\tcheese\t\tcheesy\t\tcheetos\t\tchef\t\tchennai\t\tcheque\t\tcherish\t\tcherthalain\t\tchess\t\tchest\t\tchex\t\tcheyyamo\t\tchez\t\tchg\t\tchic\t\tchick\t\tchicken\t\tchickened\t\tchief\t\tchik\t\tchikku\t\tchild\t\tchildish\t\tchildporn\t\tchildren\t\tchildrens\t\tchile\t\tchill\t\tchillaxin\t\tchillin\t\tchina\t\tchinatown\t\tchinchillas\t\tchinese\t\tchinky\t\tchinnu\t\tchiong\t\tchip\t\tchitchat\t\tchk\t\tchloe\t\tchocolate\t\tchoice\t\tchoices\t\tchoose\t\tchoosing\t\tchop\t\tchords\t\tchores\t\tchosen\t\tchrgd\t\tchrist\t\tchristians\t\tchristmas\t\tchristmassy\t\tchuck\t\tchuckin\t\tchurch\t\tciao\t\tcin\t\tcine\t\tcinema\t\tcitizen\t\tcity\t\tcitylink\t\tcl\t\tclaim\t\tclaimcode\t\tclaims\t\tclaire\t\tclarification\t\tclarify\t\tclark\t\tclas\t\tclash\t\tclass\t\tclasses\t\tclassic\t\tclassmates\t\tclaypot\t\tcld\t\tclean\t\tcleaning\t\tclear\t\tcleared\t\tclearer\t\tclearing\t\tclearly\t\tclever\t\tclick\t\tcliff\t\tcliffs\t\tclip\t\tclock\t\tclocks\t\tclos\t\tclose\t\tcloseby\t\tclosed\t\tcloser\t\tcloses\t\tclosingdate\t\tcloth\t\tclothes\t\tcloud\t\tclover\t\tclub\t\tclubmobilescom\t\tclubsaisai\t\tclue\t\tcm\t\tcme\t\tcmon\t\tcn\t\tcncl\t\tcnl\t\tcnn\t\tco\t\tcoach\t\tcoast\t\tcoat\t\tcoaxing\t\tcocacola\t\tcoccooning\t\tcochin\t\tcock\t\tcocksuckers\t\tcoco\t\tcode\t\tcodexx\t\tcoffee\t\tcoherently\t\tcoimbatore\t\tcoin\t\tcoincidence\t\tcoins\t\tcolany\t\tcold\t\tcolin\t\tcollages\t\tcollapsed\t\tcolleagues\t\tcollect\t\tcollected\t\tcollecting\t\tcollection\t\tcolleg\t\tcollege\t\tcolor\t\tcolour\t\tcolourful\t\tcolourred\t\tcolours\t\tcom\t\tcomb\t\tcombination\t\tcombine\t\tcome\t\tcomedy\t\tcomes\t\tcomfey\t\tcomfort\t\tcomin\t\tcoming\t\tcomingdown\t\tcomingtmorow\t\tcommand\t\tcomment\t\tcommercial\t\tcommit\t\tcommon\t\tcommunity\t\tcomp\t\tcompanies\t\tcompanion\t\tcompany\t\tcompare\t\tcompass\t\tcompensation\t\tcompetition\t\tcomplacent\t\tcomplain\t\tcomplaining\t\tcomplaint\t\tcomplementary\t\tcomplete\t\tcompleted\t\tcompletely\t\tcompletes\t\tcompleting\t\tcomplexities\t\tcomplimentary\t\tcompliments\t\tcompofstuff\t\tcomprehensive\t\tcompromised\t\tcompulsory\t\tcomputational\t\tcomputer\t\tcomputerless\t\tcomputers\t\tcomuk\t\tcomukcm\t\tconacted\t\tconcentrate\t\tconcentrating\t\tconcentration\t\tconcern\t\tconcerned\t\tconcert\t\tconclusion\t\tcondition\t\tconditions\t\tconducts\t\tconected\t\tconference\t\tconfidence\t\tconfigure\t\tconfirm\t\tconfirmd\t\tconfirmdeny\t\tconfirmed\t\tconform\t\tconfused\t\tconfuses\t\tcongrats\t\tcongratulation\t\tcongratulations\t\tconnect\t\tconnected\t\tconnection\t\tconnections\t\tcons\t\tconsensus\t\tconsent\t\tconserve\t\tconsider\t\tconsidering\t\tconsistently\t\tconsole\t\tconstant\t\tconstantly\t\tcontact\t\tcontacted\t\tcontacts\t\tcontains\t\tcontent\t\tcontented\t\tcontention\t\tcontents\t\tcontinent\t\tcontinue\t\tcontinued\t\tcontract\t\tcontribute\t\tcontrol\t\tconvenience\t\tconversations\t\tconverted\t\tconverter\t\tconvey\t\tconveying\t\tconvince\t\tconvinced\t\tconvincing\t\tcook\t\tcooked\t\tcookies\t\tcooking\t\tcool\t\tcoolmob\t\tcooped\t\tcooperative\t\tcopied\t\tcopies\t\tcoping\t\tcops\t\tcopy\t\tcorect\t\tcornwall\t\tcorporation\t\tcorrct\t\tcorrect\t\tcorrection\t\tcorrectly\t\tcorrupt\t\tcorvettes\t\tcos\t\tcosign\t\tcost\t\tcosta\t\tcosting\t\tcostmax\t\tcostpm\t\tcosts\t\tcostume\t\tcostumes\t\tcouch\t\tcougarpen\t\tcough\t\tcoughing\t\tcould\t\tcoulda\t\tcouldnt\t\tcount\t\tcountin\t\tcountinlots\t\tcountry\t\tcounts\t\tcoupla\t\tcouple\t\tcourage\t\tcourageous\t\tcourse\t\tcourt\t\tcourtroom\t\tcousin\t\tcover\t\tcoveragd\t\tcovers\t\tcoz\t\tcozy\t\tcps\t\tcr\t\tcrab\t\tcrack\t\tcraigslist\t\tcrammed\t\tcramps\t\tcrap\t\tcrash\t\tcrashed\t\tcrashing\t\tcrave\t\tcraving\t\tcraziest\t\tcrazy\t\tcrazyin\t\tcrbt\t\tcrckt\t\tcream\t\tcreated\t\tcreative\t\tcreativity\t\tcred\t\tcredit\t\tcredited\t\tcredits\t\tcreep\t\tcreepy\t\tcres\t\tcribbs\t\tcricket\t\tcricketer\t\tcrickiting\t\tcried\t\tcrisis\t\tcro\t\tcrore\t\tcross\t\tcrossing\t\tcrowd\t\tcroydon\t\tcrucial\t\tcrucify\t\tcruel\t\tcruise\t\tcruisin\t\tcrushes\t\tcry\t\tcrying\t\tcs\t\tcsbcmwcnxx\t\tcsbcmwcnxxcallcostppmmobilesvary\t\tcsc\t\tcsh\t\tcsstop\t\tcst\t\tcstore\t\tctagg\t\tctargg\t\tcthen\t\tctla\t\tcts\t\tcttargg\t\tctter\t\tcttergg\t\tctxt\t\tcu\t\tcuck\t\tcud\t\tcuddle\t\tcuddled\t\tcuddling\t\tcudnt\t\tculdnt\t\tcultures\t\tcum\t\tcumin\t\tcumming\t\tcup\t\tcupboard\t\tcuppa\t\tcurfew\t\tcurious\t\tcurrent\t\tcurrently\t\tcurry\t\tcurtsey\t\tcust\t\tcustcare\t\tcustom\t\tcustomer\t\tcustomercare\t\tcustomers\t\tcustomersqueries\t\tcut\t\tcute\t\tcutefrnd\t\tcutest\t\tcutie\t\tcutter\t\tcutting\t\tcuz\t\tcwwx\t\tcya\t\tcyclists\t\tcysts\t\td\t\tda\t\tdabbles\t\tdabooks\t\tdad\t\tdaddy\t\tdads\t\tdai\t\tdaily\t\tdammit\t\tdamn\t\tdan\t\tdancce\t\tdance\t\tdancin\t\tdancing\t\tdane\t\tdang\t\tdanger\t\tdangerous\t\tdao\t\tdare\t\tdark\t\tdarker\t\tdarkest\t\tdarkness\t\tdarlin\t\tdarling\t\tdarlings\t\tdarren\t\tdartboard\t\tdas\t\tdasara\t\tdat\t\tdata\t\tdate\t\tdateboxessexcmxn\t\tdates\t\tdating\t\tdats\t\tdatz\t\tdave\t\tdawns\t\tday\t\tdaylove\t\tdays\t\tdayshe\t\tdaysn\t\tdaysso\t\tdayswill\t\tdaytime\t\tdaywith\t\tdb\t\tdd\t\tde\t\tdead\t\tdeal\t\tdealer\t\tdealing\t\tdeals\t\tdeam\t\tdear\t\tdearer\t\tdearloving\t\tdearly\t\tdearrakhesh\t\tdeartake\t\tdearwith\t\tdeath\t\tdebating\t\tdec\t\tdecades\t\tdecember\t\tdecent\t\tdecide\t\tdecided\t\tdeciding\t\tdecimal\t\tdecision\t\tdecisions\t\tdeck\t\tdecking\t\tdeclare\t\tdecorating\t\tdedicate\t\tdedicated\t\tdeduct\t\tdeep\t\tdeepak\t\tdeepest\t\tdeer\t\tdeeraj\t\tdef\t\tdefeat\t\tdefer\t\tdefinite\t\tdefinitely\t\tdefinitly\t\tdefo\t\tdegree\t\tdegrees\t\tdehydrated\t\tdehydration\t\tdel\t\tdelay\t\tdelayed\t\tdelete\t\tdeleted\t\tdelhi\t\tdelicious\t\tdeliver\t\tdelivered\t\tdeliveredtomorrow\t\tdelivery\t\tdeltomorrow\t\tdeluxe\t\tdem\t\tdemand\t\tden\t\tdena\t\tdengra\t\tdenis\t\tdent\t\tdental\t\tdentist\t\tdentists\t\tdenying\t\tdepartment\t\tdependable\t\tdependents\t\tdepends\t\tdeposit\t\tdeposited\t\tdepressed\t\tdepression\t\tdept\t\tder\t\tderek\t\tderp\t\tdescribe\t\tdescription\t\tdesert\t\tdeserve\t\tdesignation\t\tdesires\t\tdesk\t\tdesparate\t\tdesparately\t\tdesperate\t\tdespite\t\tdessert\t\tdestination\t\tdestiny\t\tdetail\t\tdetailed\t\tdetails\t\tdetermine\t\tdetermined\t\tdetroit\t\tdeus\t\tdevelop\t\tdeveloped\t\tdeveloper\t\tdevice\t\tdevils\t\tdeviousbitchanyway\t\tdevouring\t\tdey\t\tdeyi\t\tdha\t\tdhanush\t\tdhina\t\tdhoni\t\tdhorte\t\tdi\t\tdial\t\tdialling\t\tdialogue\t\tdiamond\t\tdiamonds\t\tdiapers\t\tdice\t\tdick\t\tdict\t\tdictionary\t\tdiddy\t\tdidnt\t\tdidntgive\t\tdidt\t\tdie\t\tdied\t\tdiesel\t\tdiet\t\tdieting\t\tdiff\t\tdiffer\t\tdifferbe\t\tdifference\t\tdifferences\t\tdifferent\t\tdifficult\t\tdifficulties\t\tdificult\t\tdigi\t\tdigital\t\tdigits\t\tdignity\t\tdileepthank\t\tdime\t\tdimension\t\tdin\t\tdine\t\tdined\t\tdinero\t\tding\t\tdining\t\tdinner\t\tdinnermsg\t\tdino\t\tdint\t\tdip\t\tdippeditinadew\t\tdirect\t\tdirectly\t\tdirector\t\tdirectors\t\tdirt\t\tdirtiest\t\tdirty\t\tdis\t\tdisagreeable\t\tdisappeared\t\tdisappointment\t\tdisaster\t\tdisasters\t\tdisastrous\t\tdisc\t\tdisclose\t\tdisconnect\t\tdisconnected\t\tdiscount\t\tdiscreet\t\tdiscuss\t\tdiscussed\t\tdiseases\t\tdisk\t\tdislikes\t\tdismay\t\tdismissial\t\tdisplay\t\tdistance\t\tdistract\t\tdisturb\t\tdisturbancemight\t\tdisturbing\t\tditto\t\tdivert\t\tdivision\t\tdivorce\t\tdiwali\t\tdizzamn\t\tdizzee\t\tdl\t\tdled\t\tdlf\t\tdload\t\tdnt\t\tdob\t\tdobby\t\tdoc\t\tdocdplease\t\tdock\t\tdocks\t\tdocs\t\tdoctor\t\tdoctors\t\tdocuments\t\tdodda\t\tdodgey\t\tdoesdiscount\t\tdoesnt\t\tdog\t\tdogbreath\t\tdogg\t\tdoggin\t\tdogging\t\tdoggy\t\tdogs\t\tdogwood\t\tdoin\t\tdoinat\t\tdointerested\t\tdoit\t\tdoke\t\tdokey\t\tdoll\t\tdollar\t\tdollars\t\tdolls\t\tdom\t\tdomain\t\tdonate\t\tdone\t\tdonewant\t\tdonno\t\tdont\t\tdontcha\t\tdontgettext\t\tdontignore\t\tdontplease\t\tdonyt\t\tdooms\t\tdoor\t\tdoors\t\tdorm\t\tdormitory\t\tdorothy\t\tdose\t\tdosomething\t\tdot\t\tdouble\t\tdoublefaggot\t\tdoublemins\t\tdoubles\t\tdoubletxt\t\tdoubt\t\tdoug\t\tdough\t\tdownload\t\tdownloaded\t\tdownloads\t\tdownon\t\tdowns\t\tdownstem\t\tdozens\t\tdps\t\tdr\t\tdracula\t\tdrama\t\tdramastorm\t\tdramatic\t\tdrastic\t\tdraw\t\tdraws\t\tdreading\t\tdream\t\tdreamlove\t\tdreams\t\tdreamz\t\tdress\t\tdressed\t\tdresser\t\tdrink\t\tdrinkin\t\tdrinking\t\tdrinkpa\t\tdrinks\t\tdrivbyquit\t\tdrive\t\tdriver\t\tdrivin\t\tdriving\t\tdrizzling\t\tdrms\t\tdrmstake\t\tdrop\t\tdropped\t\tdrops\t\tdrove\t\tdrpd\t\tdrug\t\tdrugdealer\t\tdrugs\t\tdrum\t\tdrunk\t\tdrunkard\t\tdrunken\t\tdrvgsto\t\tdry\t\tdryer\t\tds\t\tdt\t\tdual\t\tdub\t\tdubsack\t\tduchess\t\tducking\t\tdude\t\tdudes\t\tdudette\t\tdue\t\tduffer\t\tdull\t\tdumb\t\tdump\t\tdun\t\tdungerees\t\tdunno\t\tduo\t\tdurban\t\tdurham\t\tdusk\t\tdust\t\tduvet\t\tdvd\t\tdvg\t\tdwn\t\tdying\t\tdysentry\t\te\t\tea\t\teachother\t\tear\t\tearlier\t\tearlierwe\t\tearliest\t\tearly\t\tearn\t\tearning\t\tears\t\tearth\t\teasier\t\teasiest\t\teasily\t\teast\t\teastenders\t\teaster\t\teasy\t\teat\t\teaten\t\teatin\t\teating\t\tebay\t\teca\t\techo\t\teckankar\t\tecstacy\t\tecstasy\t\tedge\t\tedhae\t\tedison\t\tedition\t\tedrunk\t\teducation\t\teducational\t\tedukkukayee\t\tedward\t\tedwards\t\tee\t\teek\t\teerie\t\teerulli\t\teffect\t\teffects\t\tefficient\t\tefreefone\t\teg\t\tegbon\t\tegf\t\tegg\t\teggpotato\t\teggs\t\teggspert\t\tego\t\teh\t\tehrr\t\teight\t\teighth\t\teightish\t\teire\t\teither\t\tel\t\tela\t\telaborate\t\telaborating\t\telaine\t\telama\t\telaya\t\teldest\t\telection\t\telections\t\telectricity\t\telephant\t\televen\t\telliot\t\tello\t\telse\t\telsewhere\t\telvis\t\tem\t\temail\t\temailed\t\tembarassed\t\tembarassing\t\tembarrassed\t\tembassy\t\temccouk\t\temergency\t\temerging\t\temigrated\t\temily\t\temotion\t\temployee\t\temployer\t\tempty\t\ten\t\tenamous\t\tenc\t\tend\t\tended\t\tending\t\tendless\t\tendof\t\tendowed\t\tends\t\tenemies\t\tenemy\t\tenergy\t\teng\t\tengaged\t\tengagement\t\tengalnd\t\tengin\t\tengland\t\tenglish\t\tenjoy\t\tenjoyed\t\tenjoyin\t\tenjoying\t\tenketa\t\tenna\t\tennal\t\tenough\t\tente\t\tenter\t\tentered\t\tenters\t\tentertain\t\tentertaining\t\tentey\t\tentire\t\tentirely\t\tentitled\t\tentrepreneurs\t\tentropication\t\tentry\t\tenufcredeit\t\tenuff\t\tenvelope\t\tenvy\t\tepi\t\teppolum\t\tepsilon\t\tequally\t\ter\t\tericson\t\tericsson\t\term\t\terode\t\terotic\t\terr\t\terror\t\terrors\t\tertini\t\teruku\t\terupt\t\terutupalam\t\terything\t\tesaplanade\t\tescalator\t\tescape\t\tese\t\teshxxxxxxxxxxx\t\tespe\t\tespecially\t\tesplanade\t\tessay\t\tessential\t\testablish\t\teta\t\tetc\t\teternal\t\tethnicity\t\tethreats\t\tettans\t\teuro\t\teurodisinc\t\teurope\t\teva\t\tevaluation\t\tevaporated\t\teve\t\teveb\t\teven\t\tevening\t\tevenings\t\tevent\t\tevents\t\teventually\t\tever\t\tevery\t\teverybody\t\teveryboy\t\teveryday\t\teveryone\t\teveryones\t\teveryso\t\teverythin\t\teverything\t\teverytime\t\teverywhere\t\tevey\t\teviction\t\tevil\t\tevn\t\tevng\t\tevo\t\tevone\t\tevr\t\tevrey\t\tevry\t\tevrydy\t\tew\t\tex\t\texact\t\texactly\t\texam\t\texams\t\texcellent\t\texcept\t\texchanged\t\texcited\t\texciting\t\texcuse\t\texcused\t\texcuses\t\texe\t\texecutive\t\texercise\t\texeter\t\texhaust\t\texhausted\t\texhibition\t\texist\t\texit\t\texmpel\t\texorcism\t\texorcist\t\texp\t\texpect\t\texpected\t\texpecting\t\texpects\t\texpensive\t\texperience\t\texperiencehttp\t\texperiment\t\texpert\t\texpired\t\texpires\t\texpiry\t\texplain\t\texplicit\t\texplicitly\t\texplosive\t\texposed\t\texposes\t\texpress\t\texpression\t\text\t\texterminator\t\textra\t\textract\t\textreme\t\texwife\t\tey\t\teye\t\teyeddont\t\teyes\t\tez\t\tf\t\tfa\t\tfab\t\tfaber\t\tface\t\tfacebook\t\tfacilities\t\tfact\t\tfactory\t\tfacts\t\tfaded\t\tfaggy\t\tfaglord\t\tfailed\t\tfailing\t\tfails\t\tfailure\t\tfainting\t\tfair\t\tfaith\t\tfake\t\tfakeye\t\tfal\t\tfalconerf\t\tfall\t\tfallen\t\tfalling\t\tfalls\t\tfals\t\tfamamus\t\tfamiliar\t\tfamily\t\tfamous\t\tfan\t\tfancied\t\tfancies\t\tfancy\t\tfans\t\tfantasies\t\tfantastic\t\tfantasy\t\tfar\t\tfarm\t\tfarrell\t\tfarting\t\tfassyole\t\tfast\t\tfaster\t\tfastest\t\tfastpls\t\tfat\t\tfated\t\tfather\t\tfathima\t\tfats\t\tfatty\t\tfault\t\tfav\t\tfave\t\tfavor\t\tfavorite\t\tfavour\t\tfavourite\t\tfb\t\tfear\t\tfeathery\t\tfeatures\t\tfeb\t\tfebapril\t\tfebruary\t\tfed\t\tfedex\t\tfeed\t\tfeel\t\tfeelin\t\tfeeling\t\tfeelingood\t\tfeelingwavering\t\tfeellikw\t\tfeels\t\tfees\t\tfeet\t\tfell\t\tfellow\t\tfelt\t\tfemale\t\tfeng\t\tfestival\t\tfetch\t\tfetching\t\tfever\t\tfew\t\tfffff\t\tffffffffff\t\tffffuuuuuuu\t\tfgkslpo\t\tfgkslpopw\t\tfidalfication\t\tfield\t\tfieldof\t\tfiendmake\t\tfifa\t\tfifteen\t\tfifth\t\tfifty\t\tfight\t\tfighting\t\tfightng\t\tfights\t\tfigure\t\tfigures\t\tfiguring\t\tfil\t\tfile\t\tfiles\t\tfill\t\tfilled\t\tfilling\t\tfills\t\tfilm\t\tfilms\t\tfilth\t\tfilthy\t\tfilthyguys\t\tfinal\t\tfinalise\t\tfinally\t\tfinance\t\tfinancial\t\tfind\t\tfinding\t\tfinds\t\tfine\t\tfineinshah\t\tfinest\t\tfingers\t\tfinish\t\tfinishd\t\tfinished\t\tfinishes\t\tfinishing\t\tfink\t\tfinn\t\tfire\t\tfired\t\tfirefox\t\tfireplace\t\tfiresare\t\tfirmware\t\tfirsg\t\tfirst\t\tfirsttruec\t\tfirsttruejul\t\tfish\t\tfishhead\t\tfishrman\t\tfit\t\tfiting\t\tfive\t\tfix\t\tfixd\t\tfixed\t\tfixedline\t\tfixes\t\tfizz\t\tflag\t\tflaked\t\tflaky\t\tflame\t\tflash\t\tflat\t\tflatter\t\tflavour\t\tflea\t\tfletcher\t\tflew\t\tflies\t\tflight\t\tflights\t\tflim\t\tflip\t\tflippin\t\tflirt\t\tflirting\t\tfloating\t\tflood\t\tfloor\t\tfloppy\t\tflorida\t\tflow\t\tflower\t\tflowers\t\tflowing\t\tfluids\t\tflung\t\tflurries\t\tflute\t\tfly\t\tflying\t\tflyng\t\tfm\t\tfml\t\tfne\t\tfo\t\tfold\t\tfoley\t\tfolks\t\tfollow\t\tfollowed\t\tfollowin\t\tfollowing\t\tfollows\t\tfond\t\tfondly\t\tfone\t\tfoned\t\tfones\t\tfonin\t\tfood\t\tfool\t\tfooled\t\tfools\t\tfoot\t\tfootball\t\tfootbl\t\tfootie\t\tfootprints\t\tfooty\t\tfor\t\tforce\t\tforced\t\tforegate\t\tforeign\t\tforever\t\tforevr\t\tforfeit\t\tforget\t\tforgets\t\tforgive\t\tforgiven\t\tforgiveness\t\tforgot\t\tforgotten\t\tforgt\t\tform\t\tformal\t\tformallypls\t\tformat\t\tformatting\t\tforms\t\tformsdon\t\tforth\t\tfortune\t\tforum\t\tforums\t\tforward\t\tforwarded\t\tforwarding\t\tfound\t\tfoundurself\t\tfour\t\tfourth\t\tfoward\t\tfowler\t\tfox\t\tfps\t\tfr\t\tfraction\t\tfran\t\tfrank\t\tfrankie\t\tfranxx\t\tfranyxxxxx\t\tfrauds\t\tfreak\t\tfreaked\t\tfreaking\t\tfreaky\t\tfredericksburg\t\tfree\t\tfreeday\t\tfreedom\t\tfreeentry\t\tfreefone\t\tfreek\t\tfreely\t\tfreemessage\t\tfreemsg\t\tfreenokia\t\tfreephone\t\tfreesend\t\tfreezing\t\tfreinds\t\tfren\t\tfrench\t\tfrens\t\tfrequently\t\tfresh\t\tfreshers\t\tfret\t\tfri\t\tfriday\t\tfridayhope\t\tfridays\t\tfridge\t\tfried\t\tfriend\t\tfriendofafriend\t\tfriends\t\tfriendsare\t\tfriendship\t\tfriendships\t\tfring\t\tfringe\t\tfrm\t\tfrmcloud\t\tfrnd\t\tfrnds\t\tfrndship\t\tfrndshp\t\tfrndsship\t\tfrndz\t\tfrnt\t\tfro\t\tfrog\t\tfrogaxel\t\tfrom\t\tfromm\t\tfromwrk\t\tfront\t\tfrontierville\t\tfrosty\t\tfruit\t\tfrwd\t\tfrying\t\tft\t\tfuck\t\tfucked\t\tfuckin\t\tfucking\t\tfuckinnice\t\tfucks\t\tfudge\t\tfuelled\t\tfujitsu\t\tful\t\tfulfil\t\tfull\t\tfullonsmscom\t\tfumbling\t\tfun\t\tfunction\t\tfunctions\t\tfund\t\tfundamentals\t\tfuneral\t\tfunk\t\tfunky\t\tfunny\t\tfuns\t\tfurniture\t\tfusion\t\tfuture\t\tfuuuuck\t\tfwiw\t\tfyi\t\tg\t\tga\t\tgail\t\tgailxx\t\tgain\t\tgained\t\tgal\t\tgalcan\t\tgalileo\t\tgalno\t\tgals\t\tgam\t\tgame\t\tgames\t\tgamestar\t\tgandhipuram\t\tganesh\t\tgang\t\tgap\t\tgaps\t\tgarage\t\tgarbage\t\tgarden\t\tgardener\t\tgari\t\tgarments\t\tgary\t\tgas\t\tgastroenteritis\t\tgate\t\tgauge\t\tgautham\t\tgauti\t\tgave\t\tgay\t\tgayle\t\tgays\t\tgaytextbuddycom\t\tgaze\t\tgb\t\tgbp\t\tgbpmonth\t\tgbpmtmsg\t\tgbpsms\t\tgbpweek\t\tgd\t\tgdeve\t\tge\t\tgee\t\tgeeee\t\tgeeeee\t\tgei\t\tgek\t\tgender\t\tgeneral\t\tgenerally\t\tgenes\t\tgenius\t\tgent\t\tgentle\t\tgentleman\t\tgently\t\tgenuine\t\tgenus\t\tgeoenvironmental\t\tgeorge\t\tgep\t\tger\t\tgermany\t\tget\t\tgetanth\t\tgetha\t\tgetiing\t\tgeting\t\tgets\t\tgetsleep\t\tgetstop\t\tgettin\t\tgetting\t\tgetzedcouk\t\tgeva\t\tgf\t\tgga\t\tghodbandar\t\tghost\t\tgibbs\t\tgibe\t\tgift\t\tgifted\t\tgifts\t\tgiggle\t\tgigolo\t\tgim\t\tgimmi\t\tgin\t\tgirl\t\tgirlfrnd\t\tgirlie\t\tgirls\t\tgist\t\tgiv\t\tgive\t\tgiven\t\tgives\t\tgiving\t\tglad\t\tglands\t\tglasgow\t\tglass\t\tglo\t\tglobal\t\tglorious\t\tglory\t\tgloucesterroad\t\tgm\t\tgmgngegn\t\tgmw\t\tgn\t\tgnarls\t\tgnt\t\tgnun\t\tgo\t\tgoal\t\tgoals\t\tgoalsteam\t\tgobi\t\tgod\t\tgodid\t\tgodnot\t\tgods\t\tgodyou\t\tgoes\t\tgoggles\t\tgoigng\t\tgoin\t\tgoinbed\t\tgoing\t\tgokila\t\tgold\t\tgolddigger\t\tgolden\t\tgoldviking\t\tgolf\t\tgon\t\tgona\t\tgone\t\tgong\t\tgonnamissu\t\tgood\t\tgoodenvironment\t\tgoodevening\t\tgoodfriend\t\tgoodies\t\tgoodmate\t\tgoodmorning\t\tgoodnight\t\tgoodnite\t\tgoodnoon\t\tgoodo\t\tgoods\t\tgoodtime\t\tgoogle\t\tgopalettan\t\tgorgeous\t\tgosh\t\tgosri\t\tgoss\t\tgossip\t\tgot\t\tgota\t\tgotany\t\tgotbabescouk\t\tgoten\t\tgotmarried\t\tgoto\t\tgotten\t\tgotto\t\tgoverment\t\tgovtinstituitions\t\tgowait\t\tgower\t\tgprs\t\tgpu\t\tgr\t\tgrab\t\tgrace\t\tgraduated\t\tgrahmbell\t\tgram\t\tgrams\t\tgran\t\tgrand\t\tgrandfather\t\tgrandma\t\tgrandmas\t\tgranite\t\tgranted\t\tgraphics\t\tgrasp\t\tgrateful\t\tgrave\t\tgravel\t\tgravity\t\tgravy\t\tgray\t\tgrazed\t\tgre\t\tgreat\t\tgreatbye\t\tgreatest\t\tgreatly\t\tgreatness\t\tgreece\t\tgreen\t\tgreet\t\tgreeting\t\tgreetings\t\tgrfun\t\tgrief\t\tgrinder\t\tgrins\t\tgrinule\t\tgrl\t\tgrocers\t\tgrooved\t\tgroovy\t\tgroovying\t\tground\t\tgroundamla\t\tgroup\t\tgrow\t\tgrowing\t\tgrown\t\tgrownup\t\tgrowrandom\t\tgrprizes\t\tgrr\t\tgrumble\t\tgrumpy\t\tgsex\t\tgsoh\t\tgt\t\tgthr\t\tgua\t\tguai\t\tguarantee\t\tguaranteed\t\tgucci\t\tgud\t\tgudni\t\tgudnite\t\tgudnyt\t\tguess\t\tguessed\t\tguesses\t\tguessin\t\tguessing\t\tguidance\t\tguide\t\tguides\t\tguild\t\tguilty\t\tguitar\t\tgumby\t\tguoyang\t\tgurl\t\tgut\t\tguy\t\tguys\t\tgv\t\tgving\t\tgwr\t\tgym\t\tgymnastics\t\tgynae\t\tgyno\t\th\t\tha\t\thabba\t\thabit\t\thack\t\thaf\t\thaha\t\thahaha\t\thai\t\thail\t\thair\t\thaircut\t\thairdressers\t\thaiyoh\t\thaiz\t\thalf\t\thalfth\t\thall\t\thalla\t\thallaq\t\thalloween\t\tham\t\thamper\t\thamster\t\thand\t\thanded\t\thanding\t\thandle\t\thands\t\thandset\t\thandsome\t\thandsomes\t\thang\t\thanger\t\thangin\t\thanging\t\thanks\t\thannaford\t\thanuman\t\thanumanji\t\thappen\t\thappend\t\thappened\t\thappenin\t\thappening\t\thappens\t\thappier\t\thappiest\t\thappily\t\thappiness\t\thappy\t\thard\t\thardcore\t\tharder\t\thardest\t\thardly\t\thari\t\tharish\t\tharlem\t\tharri\t\tharry\t\thasbro\t\thasnt\t\thassling\t\that\t\thate\t\thates\t\thaughaighgtujhyguj\t\thaul\t\thaunt\t\thav\t\thava\t\thavbeen\t\thavebeen\t\thavent\t\thaventcn\t\thavhear\t\thavin\t\thavnt\t\thcl\t\thdd\t\thead\t\theadache\t\theadin\t\theading\t\theads\t\theadset\t\theadstart\t\theal\t\thealer\t\thealthy\t\theap\t\thear\t\theard\t\thearin\t\thearing\t\theart\t\thearted\t\thearts\t\theat\t\theater\t\theaven\t\theavily\t\theavy\t\thectic\t\thee\t\theehee\t\thehe\t\theight\t\theld\t\thelen\t\thelens\t\thell\t\thella\t\thello\t\thelloed\t\thellogorgeous\t\thellohow\t\thelloooo\t\thelp\t\thelpful\t\thelping\t\thelpline\t\thelpp\t\thelps\t\theltini\t\then\t\thence\t\thenry\t\thep\t\therepls\t\therethanks\t\theri\t\therlove\t\thermy\t\thero\t\theroes\t\theron\t\thershe\t\therwill\t\thes\t\thesitant\t\thesitate\t\thesitation\t\thex\t\they\t\thgsuitelands\t\thgsuitelandsrowwjhl\t\thhahhaahahah\t\thi\t\thidden\t\thide\t\thides\t\thiding\t\thigh\t\thighest\t\thilariousalso\t\thill\t\thills\t\thillsborough\t\thimso\t\thint\t\thip\t\thiphop\t\thire\t\thisher\t\thistory\t\thit\t\thitler\t\thitman\t\thits\t\thitteranyway\t\thittng\t\thiwhat\t\thiya\t\thl\t\thlday\t\thlp\t\thm\t\thme\t\thmm\t\thmmm\t\thmmmbut\t\thmmmm\t\thmmmstill\t\thmph\t\thmv\t\tho\t\thockey\t\thogidhe\t\thogli\t\thogolo\t\thol\t\tholby\t\thold\t\tholder\t\tholding\t\thole\t\tholiday\t\tholla\t\thollalater\t\thols\t\tholy\t\thome\t\thomecheck\t\thomeleft\t\thomelove\t\thomeowners\t\thomewot\t\thon\t\thonest\t\thonestly\t\thonesty\t\thoney\t\thoneybee\t\thoneymoon\t\thoni\t\thont\t\thoo\t\thooch\t\thoody\t\thook\t\thooked\t\thoops\t\thop\t\thope\t\thoped\t\thopeful\t\thopefully\t\thopeing\t\thopes\t\thopeso\t\thopeu\t\thoping\t\thor\t\thorniest\t\thorny\t\thoro\t\thorrible\t\thorse\t\thos\t\thospital\t\thospitals\t\thostbased\t\thostel\t\thostile\t\thot\t\thotel\t\thotels\t\thotmailcom\t\thotmix\t\thottest\t\thour\t\thourish\t\thours\t\thouse\t\thouseful\t\thousemaid\t\thousewives\t\thousework\t\thousing\t\thoward\t\thowda\t\thowdy\t\thowever\t\thows\t\thowu\t\thowz\t\thp\t\thppnss\t\thr\t\thrishi\t\thrs\t\thsbc\t\thtml\t\thttp\t\thttptms\t\thttpwwwgrprizescom\t\thu\t\thuai\t\thubby\t\thudgi\t\thug\t\thuge\t\thugging\t\thugh\t\thugs\t\thuh\t\thui\t\thuiming\t\thum\t\thumanities\t\thumans\t\thun\t\thundred\t\thundredhe\t\thundreds\t\thungover\t\thungry\t\thunks\t\thunny\t\thunonbus\t\thunt\t\thunting\t\thurricanes\t\thurried\t\thurry\t\thurt\t\thurting\t\thurts\t\thusband\t\thussey\t\thustle\t\thut\t\thv\t\thvae\t\thw\t\thyde\t\thype\t\thypertension\t\thypotheticalhuagauahahuagahyuhagga\t\ti\t\tiam\t\tias\t\tibh\t\tibhltd\t\tibiza\t\tibm\t\tibn\t\tibored\t\tibuprofens\t\tic\t\ticcha\t\tice\t\ticic\t\ticicibankcom\t\ticky\t\ticon\t\tid\t\tidada\t\tidbaecefff\t\tidc\t\tidconvey\t\tidea\t\tideal\t\tideas\t\tidentification\t\tidentifier\t\tidiot\t\tidk\t\tidps\t\tidu\t\tie\t\tif\t\tiff\t\tifink\t\tifwhenhow\t\tig\t\tignorant\t\tignore\t\tignoring\t\tihave\t\tijust\t\tikea\t\tikno\t\tiknow\t\til\t\tileave\t\till\t\tillness\t\tillspeak\t\tilol\t\tim\t\tima\t\timage\t\timages\t\timagination\t\timagine\t\timat\t\timf\t\timg\t\timin\t\timma\t\timmed\t\timmediately\t\timmunisation\t\timp\t\timpatient\t\timplications\t\timportant\t\timportantly\t\timposed\t\timpossible\t\timposter\t\timpress\t\timpressed\t\timpression\t\timpressively\t\timprove\t\timproved\t\timprtant\t\tin\t\tinc\t\tinch\t\tinches\t\tincident\t\tinclu\t\tinclude\t\tincludes\t\tincluding\t\tinclusive\t\tincomm\t\tinconsiderate\t\tinconvenience\t\tinconvenient\t\tincorrect\t\tincrease\t\tincredible\t\tincrements\t\tinde\t\tindeed\t\tindependence\t\tindependently\t\tindia\t\tindian\t\tindianpls\t\tindians\t\tindicate\t\tindividual\t\tindividualtime\t\tindyarockscom\t\tinever\t\tinfact\t\tinfections\t\tinfernal\t\tinflux\t\tinfo\t\tinform\t\tinformation\t\tinformed\t\tinformedrgds\t\tinfra\t\tinfront\t\ting\t\tingredients\t\tinitiate\t\tink\t\tinlude\t\tinmind\t\tinner\t\tinnings\t\tinnocent\t\tinnu\t\tinour\t\tinperialmusic\t\tinpersonation\t\tinr\t\tinsects\t\tinsha\t\tinshah\t\tinside\t\tinspection\t\tinst\t\tinstall\t\tinstallation\t\tinstalling\t\tinstant\t\tinstantly\t\tinstead\t\tinstructions\t\tinsurance\t\tintelligent\t\tintend\t\tintention\t\tintentions\t\tinterest\t\tinterested\t\tinteresting\t\tinterflora\t\tinterfued\t\tinternal\t\tinternet\t\tinternetservice\t\tinterview\t\tinterviews\t\tinterviw\t\tintha\t\tintimate\t\tintrepid\t\tintro\t\tintrude\t\tinvaders\t\tinvention\t\tinvest\t\tinvestigate\t\tinvitation\t\tinvite\t\tinvited\t\tinviting\t\tinvnted\t\tinvoices\t\tinvolve\t\tinvolved\t\tiouri\t\tip\t\tipad\t\tipaditan\t\tipads\t\tiphone\t\tipod\t\tiq\t\tiraq\t\tireneere\t\tiriver\t\tiron\t\tironing\t\tirritated\t\tirritates\t\tirritating\t\tirritation\t\tirulinae\t\tis\t\tisaiahd\t\tisare\t\tiscoming\t\tish\t\tishtamayoo\t\tisland\t\tislands\t\tislove\t\tisnt\t\tissue\t\tissues\t\tisvimportant\t\tit\t\titalian\t\titboth\t\titcould\t\titems\t\titer\t\tithink\t\titi\t\titmay\t\titna\t\titor\t\titriedtell\t\tits\t\titsnot\t\titwhichturnedinto\t\titxt\t\titz\t\tivatte\t\tive\t\tiwana\t\tiwasmarine\t\tiyo\t\tiz\t\tizzit\t\tj\t\tja\t\tjabo\t\tjack\t\tjacket\t\tjackpot\t\tjackson\t\tjacuzzi\t\tjada\t\tjade\t\tjaklin\t\tjam\t\tjames\t\tjamster\t\tjamstercouk\t\tjamz\t\tjan\t\tjanarige\t\tjane\t\tjaninexx\t\tjanuary\t\tjanx\t\tjap\t\tjapanese\t\tjas\t\tjason\t\tjava\t\tjay\t\tjaya\t\tjaykwon\t\tjaz\t\tjazz\t\tjb\t\tjd\t\tje\t\tjealous\t\tjeans\t\tjeetey\t\tjeevithathile\t\tjelly\t\tjen\t\tjenne\t\tjenny\t\tjenxxx\t\tjeremiah\t\tjeri\t\tjerk\t\tjerry\t\tjersey\t\tjess\t\tjesus\t\tjet\t\tjetton\t\tjewelry\t\tjez\t\tji\t\tjia\t\tjiayin\t\tjide\t\tjiu\t\tjjc\t\tjo\t\tjoanna\t\tjob\t\tjobs\t\tjobyet\t\tjocks\t\tjod\t\tjog\t\tjogging\t\tjohn\t\tjohnsounds\t\tjoin\t\tjoined\t\tjoinedhope\t\tjoinedso\t\tjoining\t\tjoke\t\tjoker\t\tjokes\t\tjokin\t\tjoking\t\tjolly\t\tjolt\t\tjon\t\tjones\t\tjontin\t\tjordan\t\tjorgeshock\t\tjos\t\tjot\t\tjourney\t\tjoy\t\tjoys\t\tjp\t\tjs\t\tjsco\t\tjst\t\tjstfrnd\t\tjsut\t\tjuan\t\tjudgemental\t\tjuicy\t\tjules\t\tjuliana\t\tjulianaland\t\tjuly\t\tjump\t\tjumpers\t\tjune\t\tjungle\t\tjunna\t\tjus\t\tjustbeen\t\tjustify\t\tjustthought\t\tjuswoke\t\tjuz\t\tjx\t\tk\t\tkaaj\t\tkadeem\t\tkaiez\t\tkaila\t\tkaitlyn\t\tkalaachutaarama\t\tkalainar\t\tkalisidare\t\tkallis\t\tkalstiya\t\tkama\t\tkanagu\t\tkane\t\tkanji\t\tkano\t\tkappa\t\tkaraoke\t\tkare\t\tkarnan\t\tkaro\t\tkate\t\tkatexxx\t\tkath\t\tkavalan\t\tkay\t\tkaypoh\t\tkb\t\tkbsubject\t\tke\t\tkeen\t\tkeep\t\tkeeping\t\tkeepintouch\t\tkeeps\t\tkegger\t\tkeluviri\t\tken\t\tkent\t\tkept\t\tkerala\t\tkeralacircle\t\tkeris\t\tkettoda\t\tkey\t\tkeypad\t\tkeys\t\tkeyword\t\tkfc\t\tkg\t\tkgood\t\tkhelate\t\tki\t\tkicchu\t\tkick\t\tkickboxing\t\tkickoff\t\tkicks\t\tkid\t\tkidding\t\tkids\t\tkidz\t\tkiefercom\t\tkill\t\tkilled\t\tkilling\t\tkills\t\tkilos\t\tkind\t\tkinda\t\tkindly\t\tking\t\tkingdom\t\tkintu\t\tkiosk\t\tkioskvalid\t\tkip\t\tkisi\t\tkiss\t\tkisses\t\tkissing\t\tkit\t\tkits\t\tkittum\t\tkitty\t\tkk\t\tkkhow\t\tkkthis\t\tkl\t\tknackered\t\tknee\t\tknees\t\tknew\t\tknickers\t\tknock\t\tknocking\t\tknow\t\tknowing\t\tknown\t\tknows\t\tknw\t\tko\t\tkochi\t\tkodstini\t\tkodthini\t\tkolathupalayam\t\tkonw\t\tkorche\t\tkorean\t\tkorli\t\tkorte\t\tkotees\t\tkothi\t\tkr\t\tkthen\t\tktv\t\tkuch\t\tkudi\t\tkusruthi\t\tkvb\t\tkwish\t\tkz\t\tl\t\tla\t\tlab\t\tlabor\t\tlac\t\tlacking\t\tlacs\t\tlacsthere\t\tladen\t\tladies\t\tlady\t\tlag\t\tlage\t\tlager\t\tlaid\t\tlakhs\t\tlambda\t\tlambu\t\tlamp\t\tlancaster\t\tland\t\tlanding\t\tlandline\t\tlandlineonly\t\tlandlines\t\tlandmark\t\tlands\t\tlane\t\tlangport\t\tlanguage\t\tlanka\t\tlanre\t\tlap\t\tlapdancer\t\tlaptop\t\tlar\t\tlara\t\tlaready\t\tlarge\t\tlargest\t\tlark\t\tlasagna\t\tlast\t\tlastest\t\tlasting\t\tlate\t\tlately\t\tlatelyxxx\t\tlater\t\tlatest\t\tlatests\t\tlatr\t\tlaugh\t\tlaughed\t\tlaughing\t\tlaughs\t\tlaundry\t\tlaurie\t\tlautech\t\tlavender\t\tlaw\t\tlawu\t\tlaxinorficated\t\tlay\t\tlayin\t\tlaying\t\tlays\t\tlazy\t\tlb\t\tlccltd\t\tldn\t\tldnwarw\t\tldnwh\t\tle\t\tlead\t\tleadership\t\tleading\t\tleads\t\tleafdayno\t\tleague\t\tleannewhat\t\tlearn\t\tlearned\t\tleast\t\tleasttimes\t\tleave\t\tleaves\t\tleaving\t\tlect\t\tlecture\t\tlecturer\t\tleft\t\tleftovers\t\tleg\t\tlegal\t\tlegitimat\t\tlegs\t\tleh\t\tlei\t\tlekdog\t\tlem\t\tlemondayno\t\tlength\t\tlengths\t\tlennon\t\tleo\t\tleona\t\tleonardo\t\tler\t\tles\t\tless\t\tlesser\t\tlesson\t\tlessons\t\tlet\t\tlets\t\tletter\t\tletters\t\tlevel\t\tli\t\tliao\t\tlib\t\tlibertines\t\tlibrary\t\tlick\t\tlicks\t\tlido\t\tlie\t\tlies\t\tlife\t\tlifeand\t\tlifebook\t\tlifeis\t\tlifetime\t\tlifeyou\t\tlifpartnr\t\tlift\t\tlifted\t\tlifting\t\tlight\t\tlighters\t\tlightly\t\tlik\t\tlike\t\tliked\t\tlikely\t\tlikes\t\tlikeyour\t\tlikingbe\t\tlil\t\tlily\t\tlim\t\tlimit\t\tlimited\t\tlimiting\t\tlimits\t\tlimping\t\tlindsay\t\tline\t\tlinear\t\tlined\t\tlinerental\t\tlines\t\tlingerie\t\tlingo\t\tlink\t\tlinks\t\tlinux\t\tlion\t\tlionm\t\tlionp\t\tlions\t\tlip\t\tlipo\t\tlips\t\tliquor\t\tlist\t\tlisted\t\tlisten\t\tlistenedthe\t\tlistener\t\tlistening\t\tlisteningthe\t\tlistn\t\tlists\t\tlit\t\tliterally\t\tlitres\t\tlittle\t\tlive\t\tlived\t\tliver\t\tliverpool\t\tlives\t\tliving\t\tlk\t\tlkpoboxhpfl\t\tll\t\tlmao\t\tlnly\t\tlo\t\tload\t\tloads\t\tloan\t\tloans\t\tlobby\t\tlocal\t\tlocation\t\tlocations\t\tlocaxx\t\tlock\t\tlocks\t\tlodge\t\tlodging\t\tlog\t\tlogged\t\tlogging\t\tlogin\t\tlogo\t\tlogoff\t\tlogon\t\tlogopic\t\tlogos\t\tlogosmusicnews\t\tloko\t\tlol\t\tlolnice\t\tlololo\t\tlondn\t\tlondon\t\tloneliness\t\tlonely\t\tlong\t\tlonger\t\tlonlines\t\tloo\t\tlook\t\tlookatme\t\tlooked\t\tlookin\t\tlooking\t\tlooks\t\tlool\t\tloooooool\t\tlooovvve\t\tloose\t\tloosing\t\tloosu\t\tlor\t\tlord\t\tlose\t\tlosers\t\tloses\t\tlosing\t\tloss\t\tlost\t\tlot\t\tlotr\t\tlots\t\tlotsly\t\tlotsof\t\tlotta\t\tlotto\t\tlotwill\t\tlotz\t\tlou\t\tloud\t\tlounge\t\tlousy\t\tlov\t\tlovable\t\tlove\t\tloveable\t\tloved\t\tlovejen\t\tlovely\t\tloveme\t\tlover\t\tloverakhesh\t\tloverboy\t\tlovers\t\tloves\t\tlovin\t\tloving\t\tlovingly\t\tlovly\t\tlow\t\tlowcost\t\tlower\t\tlowes\t\tloxahatchee\t\tloyal\t\tloyalty\t\tlp\t\tlr\t\tlrg\t\tls\t\tlsbb\t\tlshb\t\tlst\t\tlt\t\tltd\t\tltdhelpdesk\t\tltdmtmsgrcvd\t\tltr\t\tlttrs\t\tlubly\t\tluck\t\tluckily\t\tlucky\t\tlucozade\t\tlucozadecoukwrc\t\tlucy\t\tlucyxx\t\tluks\t\tlul\t\tlunch\t\tlunchtime\t\tlunsford\t\tlush\t\tluton\t\tluv\t\tluvd\t\tluvs\t\tlux\t\tluxury\t\tlv\t\tlvblefrnd\t\tlyf\t\tlyfu\t\tlying\t\tlyk\t\tlyricalladie\t\tlyrics\t\tm\t\tmaaaan\t\tmaangalyam\t\tmaat\t\tmac\t\tmacedonia\t\tmacha\t\tmachan\t\tmachi\t\tmachines\t\tmacho\t\tmack\t\tmacleran\t\tmacs\t\tmad\t\tmadam\t\tmade\t\tmadodu\t\tmadoke\t\tmadstini\t\tmadthen\t\tmadurai\t\tmag\t\tmaga\t\tmagazine\t\tmaggi\t\tmagic\t\tmagical\t\tmagicalsongsblogspotcom\t\tmah\t\tmahal\t\tmahaveer\t\tmahfuuz\t\tmail\t\tmailbox\t\tmailed\t\tmaili\t\tmails\t\tmain\t\tmaintain\t\tmaintaining\t\tmajor\t\tmake\t\tmakes\t\tmakiing\t\tmakin\t\tmaking\t\tmalaria\t\tmalarky\t\tmale\t\tmall\t\tmallika\t\tman\t\tmanage\t\tmanageable\t\tmanaged\t\tmanagement\t\tmanchester\t\tmanda\t\tmandan\t\tmandara\t\tmandy\t\tmaneesha\t\tmanege\t\tmango\t\tmaniac\t\tmanky\t\tmanual\t\tmany\t\tmap\t\tmapquest\t\tmaps\t\tmaq\t\tmaraikara\t\tmarandratha\t\tmarch\t\tmaretare\t\tmargaret\t\tmargin\t\tmark\t\tmarket\t\tmarketing\t\tmarking\t\tmarley\t\tmarrge\t\tmarriage\t\tmarried\t\tmarrow\t\tmarry\t\tmarsms\t\tmaruti\t\tmarvel\t\tmary\t\tmas\t\tmasked\t\tmassage\t\tmassages\t\tmassive\t\tmasteriastering\t\tmasters\t\tmat\t\tmatch\t\tmatched\t\tmatches\t\tmate\t\tmates\t\tmath\t\tmathe\t\tmathematics\t\tmathews\t\tmaths\t\tmatra\t\tmatric\t\tmatrix\t\tmatter\t\tmatters\t\tmatthew\t\tmatured\t\tmaturity\t\tmax\t\tmaximize\t\tmaximum\t\tmaxmins\t\tmaxmonth\t\tmay\t\tmayb\t\tmaybe\t\tmb\t\tmbp\t\tmc\t\tmca\t\tmcat\t\tmcflyall\t\tmcr\t\tmeal\t\tmeals\t\tmean\t\tmeaning\t\tmeaningful\t\tmeaningless\t\tmeans\t\tmeant\t\tmeanwhile\t\tmeasure\t\tmeat\t\tmeatballs\t\tmecause\t\tmed\t\tmedical\t\tmedicine\t\tmeds\t\tmee\t\tmeet\t\tmeetgreet\t\tmeetin\t\tmeeting\t\tmeetins\t\tmeets\t\tmega\t\tmeh\t\tmei\t\tmeive\t\tmel\t\tmelle\t\tmelnite\t\tmelody\t\tmelt\t\tmember\t\tmembers\t\tmembership\t\tmembershiptake\t\tmemorable\t\tmemories\t\tmemory\t\tmen\t\tmeneed\t\tmens\t\tmental\t\tmention\t\tmentionedtomorrow\t\tmentionned\t\tmentor\t\tmenu\t\tmeow\t\tmerely\t\tmerememberin\t\tmeremove\t\tmerry\t\tmesages\t\tmeshe\t\tmess\t\tmessage\t\tmessaged\t\tmessageit\t\tmessagepandy\t\tmessages\t\tmessagestext\t\tmessaging\t\tmessed\t\tmessenger\t\tmessy\t\tmet\t\tmethod\t\tmf\t\tmfl\t\tmgs\t\tmi\t\tmia\t\tmichael\t\tmid\t\tmiddle\t\tmidnight\t\tmids\t\tmight\t\tmiiiiiiissssssssss\t\tmila\t\tmileage\t\tmiles\t\tmilk\t\tmilkdayno\t\tmillers\t\tmillion\t\tmillions\t\tmilta\t\tmin\t\tmina\t\tminapn\t\tmind\t\tminded\t\tmindsetbelieve\t\tmine\t\tminecraft\t\tmini\t\tminimum\t\tminmobsmorelkpoboxhpfl\t\tminnaminunginte\t\tminor\t\tmins\t\tminstexts\t\tmint\t\tminus\t\tminute\t\tminutes\t\tminuts\t\tmiracle\t\tmirror\t\tmis\t\tmisbehaved\t\tmiserable\t\tmisfits\t\tmising\t\tmisplaced\t\tmiss\t\tmisscall\t\tmissed\t\tmissin\t\tmissing\t\tmissionary\t\tmissions\t\tmisss\t\tmisstake\t\tmissunderstding\t\tmissy\t\tmist\t\tmistake\t\tmistakes\t\tmistakeu\t\tmisundrstud\t\tmite\t\tmitsake\t\tmittelschmertz\t\tmiwa\t\tmix\t\tmj\t\tmjzgroup\t\tmk\t\tml\t\tmls\t\tmm\t\tmmm\t\tmmmm\t\tmmmmm\t\tmmmmmm\t\tmmmmmmm\t\tmmsto\t\tmns\t\tmnth\t\tmnths\t\tmo\t\tmoan\t\tmob\t\tmobcudb\t\tmobile\t\tmobiles\t\tmobilesdirect\t\tmobilesvary\t\tmobileupd\t\tmobno\t\tmobs\t\tmobsicom\t\tmobstorequizppm\t\tmoby\t\tmode\t\tmodel\t\tmodl\t\tmodule\t\tmodules\t\tmofo\t\tmoji\t\tmojibiola\t\tmokka\t\tmolested\t\tmom\t\tmoment\t\tmoments\t\tmoms\t\tmon\t\tmonday\t\tmone\t\tmoney\t\tmoneyi\t\tmonkeespeople\t\tmonkey\t\tmonkeyaround\t\tmonkeys\t\tmonlrsx\t\tmono\t\tmonoc\t\tmonos\t\tmonster\t\tmonth\t\tmonthly\t\tmonthlysubscription\t\tmonthnot\t\tmonths\t\tmood\t\tmoon\t\tmoral\t\tmorefrmmob\t\tmorn\t\tmornin\t\tmorning\t\tmornings\t\tmorningtake\t\tmoro\t\tmorow\t\tmorphine\t\tmorro\t\tmorrow\t\tmorrowxxxx\t\tmoseley\t\tmostly\t\tmother\t\tmotherfucker\t\tmotherinlaw\t\tmotivate\t\tmotivating\t\tmotive\t\tmotor\t\tmotorola\t\tmountain\t\tmountains\t\tmouse\t\tmouth\t\tmove\t\tmoved\t\tmoves\t\tmovie\t\tmovies\t\tmoving\t\tmp\t\tmph\t\tmquiz\t\tmr\t\tmre\t\tmrng\t\tmro\t\tmrt\t\tmrw\t\tms\t\tmsg\t\tmsging\t\tmsgp\t\tmsgrcvd\t\tmsgs\t\tmsgsubscription\t\tmsgticket\t\tmsn\t\tmssuman\t\tmt\t\tmtalk\t\tmth\t\tmths\t\tmtnl\t\tmu\t\tmuah\t\tmuch\t\tmuchand\t\tmuchi\t\tmuchimpede\t\tmuchxxlove\t\tmudyadhu\t\tmufti\t\tmuhommad\t\tmuht\t\tmultimedia\t\tmultiply\t\tmultis\t\tmum\t\tmumbai\t\tmumhas\t\tmummy\t\tmums\t\tmumtaz\t\tmundhe\t\tmunsters\t\tmurali\t\tmurder\t\tmurdered\t\tmurderer\t\tmus\t\tmush\t\tmushy\t\tmusic\t\tmusical\t\tmust\t\tmusta\t\tmusthu\t\tmustprovide\t\tmutai\t\tmutations\t\tmuz\t\tmw\t\tmwahs\t\tmwen\t\tmxy\t\tmy\t\tmycalls\t\tmylife\t\tmymoby\t\tmyparents\t\tmys\t\tmyspace\t\tmystery\t\tmytonecomenjoy\t\tn\t\tna\t\tnaal\t\tnachos\t\tnag\t\tnagar\t\tnah\t\tnahi\t\tnails\t\tnaked\t\tnalla\t\tnalli\t\tname\t\tnamed\t\tnamemy\t\tnames\t\tnammanna\t\tnan\t\tnange\t\tnanny\t\tnannys\t\tnap\t\tnarcotics\t\tnasdaq\t\tnaseeb\t\tnasty\t\tnat\t\tnatalie\t\tnatalja\t\tnational\t\tnationwide\t\tnattil\t\tnatuition\t\tnatural\t\tnature\t\tnatwest\t\tnaughty\t\tnauseous\t\tnav\t\tnavigate\t\tnb\t\tnbme\t\tnd\t\tne\t\tnear\t\tnearby\t\tnearer\t\tnearly\t\tnecesity\t\tnecessarily\t\tnecessary\t\tnecessity\t\tneck\t\tnecklace\t\tned\t\tneed\t\tneeda\t\tneeded\t\tneededsalary\t\tneeding\t\tneedle\t\tneeds\t\tneedy\t\tneekunna\t\tneft\t\tnegative\t\tneglect\t\tneglet\t\tneighbor\t\tneighbors\t\tneighbour\t\tneither\t\tnelson\t\tneo\t\tnervous\t\tneshanth\t\tnet\t\tnetcollex\t\tnetflix\t\tnething\t\tnetvisionukcom\t\tnetwork\t\tnetworking\t\tnetworks\t\tneva\t\tnevamind\t\tnever\t\tnevering\t\tneville\t\tnevr\t\tnew\t\tneway\t\tnewest\t\tnewport\t\tnewquaysend\t\tnews\t\tnewsby\t\tnewscaster\t\tnewspapers\t\tnext\t\tngage\t\tnhite\t\tnhs\t\tni\t\tnic\t\tnice\t\tnicenicehow\t\tnichols\t\tnick\t\tnickey\t\tnicky\t\tnig\t\tnigeria\t\tnigh\t\tnight\t\tnighters\t\tnightnight\t\tnightnobody\t\tnights\t\tnigpun\t\tnigro\t\tnike\t\tnikiyunet\t\tnimbomsons\t\tnimya\t\tninish\t\tnino\t\tnipost\t\tniswt\t\tnit\t\tnite\t\tnitetell\t\tnitro\t\tnitros\t\tnitw\t\tnitz\t\tnjan\t\tnmde\t\tno\t\tnobbing\t\tnoble\t\tnobody\t\tnoe\t\tnoice\t\tnoim\t\tnoise\t\tnoisy\t\tnok\t\tnokia\t\tnokiap\t\tnokias\t\tnoline\t\tnon\t\tnoncomittal\t\tnone\t\tnonetheless\t\tnookii\t\tnoon\t\tnooooooo\t\tnoooooooo\t\tnope\t\tnora\t\tnorcorp\t\tnordstrom\t\tnorm\t\tnormal\t\tnormally\t\tnormptone\t\tnorth\t\tnorthampton\t\tnos\t\tnose\t\tnosh\t\tnosy\t\tnote\t\tnotebook\t\tnotes\t\tnothin\t\tnothing\t\tnotice\t\tnotifications\t\tnotified\t\tnotixiquating\t\tnottingham\t\tnotxtcouk\t\tnoun\t\tnovelty\t\tnovember\t\tnow\t\tnowadays\t\tnowhere\t\tnowi\t\tnowonion\t\tnoworriesloanscom\t\tnqjkgighjjgcbl\t\tnqp\t\tnr\t\tnri\t\tnt\t\tnte\t\tntswt\t\tntt\t\tntwk\t\tnuclear\t\tnudist\t\tnuerologist\t\tnum\t\tnumber\t\tnumberpls\t\tnumberrespectful\t\tnumbers\t\tnumberso\t\tnursery\t\tnurses\t\tnurungu\t\tnus\t\tnusstu\t\tnuther\t\tnutter\t\tnver\t\tnvm\t\tnvq\t\tnw\t\tnxt\t\tny\t\tnyc\t\tnydc\t\tnyt\t\tnytecalpmsg\t\tnytho\t\tnyusa\t\tnz\t\to\t\toath\t\tobedient\t\tobese\t\tobey\t\tobjection\t\toblisingately\t\toblivious\t\tobviously\t\toccasion\t\toccupied\t\toccupy\t\toccur\t\toccurs\t\tocean\t\toclock\t\tocoukgames\t\toctober\t\todalebeku\t\todi\t\tof\t\tofcourse\t\toffc\t\toffcampus\t\toffdam\t\toffense\t\toffer\t\toffered\t\toffering\t\toffers\t\toffice\t\tofficer\t\tofficethenampet\t\tofficial\t\tofficially\t\toffline\t\tofice\t\tofsi\t\toften\t\tofwd\t\toga\t\togunrinde\t\toh\t\toi\t\toic\t\toil\t\toja\t\tok\t\tokay\t\tokday\t\tokden\t\tokey\t\tokie\t\tokies\t\tokmail\t\tokok\t\tokors\t\tokvarunnathu\t\tola\t\tolage\t\tolave\t\tolayiwola\t\told\t\toli\t\tollubut\t\tolol\t\tolowoyey\t\tolympics\t\tomg\t\tomw\t\tonam\t\toncall\t\tondu\t\tone\t\tonedge\t\tones\t\toni\t\tonionrs\t\tonline\t\tonluy\t\tonly\t\tonlydon\t\tonlyfound\t\tonlymore\t\tonto\t\tonum\t\tonwards\t\tonwords\t\tooh\t\toooh\t\toooooh\t\tooooooh\t\toops\t\topen\t\topened\t\topener\t\topenin\t\topening\t\topenings\t\toperate\t\toperator\t\topinion\t\topinions\t\topponenter\t\topportunity\t\topportunityall\t\topportunitypls\t\topposed\t\topposite\t\topps\t\topt\t\topted\t\toptical\t\toptimistic\t\toptin\t\toption\t\toptout\t\toptoutdwv\t\toral\t\torange\t\toranges\t\torc\t\torchard\t\torder\t\tordered\t\tore\t\toredi\t\toreo\t\toreos\t\torganise\t\torganizer\t\torh\t\torig\t\toriginal\t\torno\t\toroptouthvd\t\tors\t\torstoptxt\t\tortxt\t\toru\t\tos\t\toscar\t\toso\t\totbox\t\tothers\t\totherwise\t\tothrs\t\totside\t\tou\t\touch\t\tourbacks\t\toutage\t\toutages\t\toutbid\t\toutdoors\t\toutfit\t\toutfor\t\toutgoing\t\toutlr\t\toutrageous\t\toutreach\t\touts\t\toutside\t\toutsider\t\toutsomewhere\t\toutstanding\t\toutta\t\tovarian\t\tover\t\tovera\t\toverdid\t\toverdose\t\toveremphasiseor\t\toverheating\t\tovertime\t\tovr\t\tovulatewhen\t\tovulation\t\tow\t\towe\t\towed\t\towl\t\towned\t\towns\t\towo\t\toxygen\t\toyea\t\toyster\t\toz\t\tp\t\tpa\t\tpaces\t\tpack\t\tpackage\t\tpackalso\t\tpacking\t\tpacks\t\tpadhegm\t\tpage\t\tpages\t\tpai\t\tpaid\t\tpain\t\tpainful\t\tpaining\t\tpainit\t\tpainting\t\tpairs\t\tpale\t\tpalm\t\tpan\t\tpanalam\t\tpanasonic\t\tpandy\t\tpanic\t\tpanicks\t\tpanren\t\tpansy\t\tpanther\t\tpanties\t\tpants\t\tpap\t\tpapa\t\tpaper\t\tpapers\t\tpaperwork\t\tparacetamol\t\tparachute\t\tparade\t\tparagon\t\tparagraphs\t\tparanoid\t\tparantella\t\tparchi\t\tparco\t\tparent\t\tparents\t\tparis\t\tparisfree\t\tparish\t\tpark\t\tparked\t\tparkin\t\tparking\t\tparkph\t\tpart\t\tparticipate\t\tparticular\t\tparticularly\t\tparties\t\tpartner\t\tpartnership\t\tparts\t\tparty\t\tparu\t\tpases\t\tpass\t\tpassable\t\tpassed\t\tpasses\t\tpassion\t\tpassionate\t\tpassport\t\tpassthey\t\tpassword\t\tpasswords\t\tpast\t\tpataistha\t\tpatent\t\tpath\t\tpathaya\t\tpaths\t\tpatients\t\tpatrick\t\tpattern\t\tpatty\t\tpaul\t\tpause\t\tpavanaputra\t\tpax\t\tpay\t\tpayasam\t\tpayback\t\tpayed\t\tpayedday\t\tpayee\t\tpaying\t\tpayment\t\tpayments\t\tpayoh\t\tpaypal\t\tpc\t\tpdatenow\t\tpday\t\tpeace\t\tpeaceful\t\tpeach\t\tpeak\t\tpears\t\tpee\t\tpeeps\t\tpehle\t\tpei\t\tpen\t\tpence\t\tpendent\t\tpending\t\tpendingi\t\tpenis\t\tpenny\t\tpeople\t\tpeoples\t\tper\t\tpercent\t\tpercentages\t\tperf\t\tperfect\t\tperform\t\tperformance\t\tperformed\t\tperfume\t\tperhaps\t\tperil\t\tperiod\t\tperipherals\t\tpermanent\t\tpermission\t\tpermissions\t\tperpetual\t\tpersevered\t\tpersian\t\tperson\t\tpersonal\t\tpersonality\t\tpersonally\t\tpersondie\t\tpersonmeet\t\tpersons\t\tperspective\t\tperumbavoor\t\tperweeksub\t\tperwksub\t\tpes\t\tpesky\t\tpest\t\tpete\t\tpetexxx\t\tpetey\t\tpetrol\t\tpetrolrs\t\tpg\t\tph\t\tpharmacy\t\tphasing\t\tphd\t\tphews\t\tphil\t\tphilosophical\t\tphilosophy\t\tphne\t\tphoenix\t\tphone\t\tphonebook\t\tphoned\t\tphones\t\tphony\t\tphoto\t\tphotos\t\tphotoshop\t\tphp\t\tphrase\t\tphysics\t\tpiah\t\tpic\t\tpick\t\tpicked\t\tpicking\t\tpickle\t\tpics\t\tpicsfree\t\tpicture\t\tpictures\t\tpie\t\tpiece\t\tpieces\t\tpierre\t\tpig\t\tpiggy\t\tpilates\t\tpile\t\tpillows\t\tpimples\t\tpin\t\tpink\t\tpints\t\tpisces\t\tpiss\t\tpissed\t\tpity\t\tpix\t\tpixels\t\tpizza\t\tpl\t\tplace\t\tplaced\t\tplacement\t\tplaceno\t\tplaces\t\tplaid\t\tplan\t\tplane\t\tplanet\t\tplaneti\t\tplanettalkinstantcom\t\tplanned\t\tplanning\t\tplans\t\tplate\t\tplatt\t\tplay\t\tplayed\t\tplayer\t\tplayers\t\tplayerwhy\t\tplayin\t\tplaying\t\tplayng\t\tplaza\t\tpleasant\t\tplease\t\tpleased\t\tpleassssssseeeeee\t\tpleasure\t\tpleasured\t\tplenty\t\tplm\t\tploughing\t\tpls\t\tplsi\t\tplum\t\tplumbers\t\tplumbing\t\tplural\t\tplus\t\tplyr\t\tplz\t\tpm\t\tpmeg\t\tpmin\t\tpmmorefrommobilebremovedmobypoboxlsyf\t\tpmsg\t\tpmsgrcvd\t\tpmsgrcvdhgsuitelandsrowwjhl\t\tpmt\t\tpmtmsg\t\tpmtmsgrcvd\t\tpo\t\tpobox\t\tpoboxldns\t\tpoboxntf\t\tpoboxntfp\t\tpoboxowwq\t\tpoboxoxwwq\t\tpoboxtcrw\t\tpoboxwtgp\t\tpoboxwwq\t\tpocay\t\tpocked\t\tpocketbabecouk\t\tpockets\t\tpocy\t\tpod\t\tpoem\t\tpoet\t\tpoint\t\tpoints\t\tpoker\t\tpoking\t\tpokkiri\t\tpole\t\tpolice\t\tpoliticians\t\tpolo\t\tpoly\t\tpolyc\t\tpolyh\t\tpolyp\t\tpolyph\t\tpolyphonic\t\tpolys\t\tpolytruepixringtonesgames\t\tpongal\t\tponnungale\t\tpoo\t\tpooja\t\tpookie\t\tpool\t\tpoop\t\tpoor\t\tpoorly\t\tpoortiyagi\t\tpop\t\tpopcorn\t\tpopped\t\tpopping\t\tporn\t\tporridge\t\tport\t\tportal\t\tportege\t\tportions\t\tpose\t\tposh\t\tposible\t\tposition\t\tpositions\t\tpositive\t\tpossession\t\tpossessive\t\tpossessiveness\t\tpossibility\t\tpossible\t\tpossibly\t\tpost\t\tpostal\t\tpostcard\t\tpostcode\t\tposted\t\tposting\t\tpostponed\t\tposts\t\tpotato\t\tpotential\t\tpotter\t\tpouch\t\tpound\t\tpounded\t\tpounds\t\tpoured\t\tpours\t\tpouts\t\tpower\t\tpowerful\t\tpoyyarikatur\t\tppermesssubscription\t\tppl\t\tpple\t\tppm\t\tppmpoboxbhambxe\t\tppmsg\t\tpptxnormal\t\tpptxt\t\tppw\t\tprabha\t\tprabu\t\tpract\t\tpractical\t\tpractice\t\tpracticing\t\tpracticum\t\tpractising\t\tpraises\t\tprakasam\t\tprakasamanu\t\tprakesh\t\tpraps\t\tprasad\t\tprasanth\t\tprashanthettan\t\tpray\t\tprayers\t\tpraying\t\tprayingwill\t\tprayrs\t\tprcvd\t\tpre\t\tprebook\t\tpredict\t\tpredicte\t\tpredicting\t\tprediction\t\tpredictive\t\tprefer\t\tpreferably\t\tprem\t\tpremaricakindly\t\tpremier\t\tpremium\t\tprepaid\t\tprepare\t\tprepared\t\tprepayment\t\tpreponed\t\tpreschoolcoordinator\t\tprescribed\t\tprescripiton\t\tprescription\t\tpresence\t\tpresent\t\tpresents\t\tpresident\t\tpresleys\t\tpresnts\t\tpress\t\tpressies\t\tpressure\t\tprestige\t\tpretend\t\tpretsorginta\t\tpretsovru\t\tpretty\t\tprevent\t\tpreviews\t\tprevious\t\tpreviously\t\tprey\t\tprice\t\tprices\t\tpride\t\tpriest\t\tprin\t\tprince\t\tprinces\t\tprincess\t\tprint\t\tprinted\t\tprinter\t\tprinting\t\tprior\t\tpriority\t\tpriscilla\t\tprivacy\t\tprivate\t\tprix\t\tpriya\t\tprize\t\tprizeawaiting\t\tprizes\t\tprizeswith\t\tprizeto\t\tpro\t\tprob\t\tprobably\t\tproblem\t\tproblematic\t\tproblemfree\t\tproblemi\t\tproblems\t\tproblms\t\tproblum\t\tprobpop\t\tprobs\t\tprobthat\t\tprocess\t\tprocessed\t\tprocessexcellent\t\tprocessnetworking\t\tprods\t\tproducts\t\tprof\t\tprofessional\t\tprofessors\t\tprofile\t\tprofiles\t\tprofit\t\tprogram\t\tprograms\t\tprogress\t\tproject\t\tprojects\t\tprolly\t\tprometazine\t\tprominent\t\tpromise\t\tpromised\t\tpromises\t\tpromo\t\tpromoting\t\tpromotion\t\tpromptly\t\tprompts\t\tprone\t\tproof\t\tproove\t\tproper\t\tproperly\t\tproperty\t\tpropose\t\tprops\t\tpropsd\t\tpros\t\tprospects\t\tprotect\t\tprove\t\tproverb\t\tprovided\t\tprovider\t\tprovince\t\tproze\t\tprsn\t\tps\t\tpshew\t\tpsms\t\tpsp\t\tpsxtra\t\tpsychiatrist\t\tpsychic\t\tpsychologist\t\tpt\t\tptbo\t\tptext\t\tpthis\t\tptone\t\tptxt\t\tpub\t\tpubcafe\t\tpublic\t\tpublish\t\tpubs\t\tpudunga\t\tpull\t\tpulling\t\tpulls\t\tpump\t\tpunch\t\tpunish\t\tpunishment\t\tpunj\t\tpunto\t\tpuppy\t\tpura\t\tpurchase\t\tpurchases\t\tpure\t\tpurity\t\tpurple\t\tpurpose\t\tpurse\t\tpush\t\tpushbutton\t\tpushes\t\tpussy\t\tput\t\tputs\t\tputtin\t\tputting\t\tpuzzeles\t\tpuzzles\t\tpw\t\tpwk\t\tpx\t\tq\t\tqatar\t\tqatarrakhesh\t\tqbank\t\tqet\t\tqi\t\tqing\t\tqlynnbv\t\tquality\t\tquarter\t\tque\t\tqueen\t\tqueries\t\tques\t\tquestion\t\tquestioned\t\tquestions\t\tquick\t\tquickly\t\tquiet\t\tquit\t\tquite\t\tquiteamuzing\t\tquitting\t\tquiz\t\tquizclub\t\tquizwin\t\tquizzes\t\tquote\t\tquoting\t\tqxj\t\tr\t\tracal\t\tracing\t\tradiator\t\tradio\t\traed\t\trael\t\traglan\t\trahul\t\traiden\t\trailway\t\train\t\training\t\traise\t\traised\t\traj\t\trajas\t\traji\t\trajini\t\trajitha\t\trajnikant\t\trakhesh\t\traksha\t\trally\t\tralphs\t\tramaduth\t\tramen\t\tran\t\trandom\t\trandomlly\t\trandomly\t\trandy\t\trang\t\trange\t\tranjith\t\tranju\t\traping\t\trate\t\trates\t\trather\t\tratio\t\trats\t\traviyog\t\trawring\t\trayan\t\trayman\t\trays\t\trcbbattle\t\trcd\t\trct\t\trcv\t\trcvd\t\trd\t\trdy\t\tre\t\treach\t\treache\t\treached\t\treaching\t\treacting\t\treaction\t\tread\t\treaders\t\treadiness\t\treading\t\tready\t\treadyall\t\treal\t\trealise\t\trealised\t\trealising\t\treality\t\trealize\t\trealized\t\trealizes\t\treally\t\treallyneed\t\trealy\t\treapply\t\trearrange\t\treason\t\treasonable\t\treasons\t\treassurance\t\treassuring\t\trebel\t\treboot\t\trebooting\t\trebtel\t\trec\t\trecd\t\treceipt\t\treceipts\t\treceiptswell\t\treceive\t\treceivea\t\treceived\t\treceiving\t\trecent\t\trecently\t\treception\t\trecession\t\trecharge\t\trecharged\t\trecieve\t\treckon\t\trecognise\t\trecognises\t\trecord\t\trecorded\t\trecorder\t\trecords\t\trecount\t\trecovery\t\trecpt\t\trecreation\t\trecycling\t\tred\t\tredeemable\t\treduce\t\tree\t\tref\t\treference\t\treferences\t\treferin\t\treffering\t\trefilled\t\treflection\t\treflex\t\treformat\t\trefreshed\t\trefund\t\trefundedthis\t\trefused\t\treg\t\tregard\t\tregarding\t\tregards\t\tregister\t\tregistered\t\tregistration\t\tregret\t\tregretted\t\tregular\t\trejected\t\trelated\t\trelation\t\trelationship\t\trelatives\t\trelax\t\trelaxing\t\treleased\t\treliant\t\trelieved\t\treligiously\t\trelocate\t\treltnship\t\trem\t\tremain\t\tremains\t\tremb\t\tremember\t\tremembered\t\trememberi\t\tremembr\t\tremembrs\t\tremet\t\tremind\t\treminded\t\treminder\t\treminding\t\treminds\t\tremixed\t\tremoval\t\tremove\t\tremoved\t\trencontre\t\trenewal\t\trenewed\t\trenewing\t\trent\t\trental\t\trenting\t\trentl\t\trents\t\trepair\t\trepairs\t\trepeat\t\trepeating\t\trepent\t\treplace\t\treplacement\t\treplacing\t\treplied\t\treplies\t\treply\t\treplybe\t\treplying\t\treplys\t\treport\t\treppurcussions\t\trepresentative\t\trepublic\t\trequest\t\trequests\t\trequire\t\trequired\t\trequirements\t\trequires\t\treschedule\t\tresearch\t\tresend\t\tresent\t\treservations\t\treserve\t\treserved\t\treserves\t\treset\t\tresidency\t\tresizing\t\treslove\t\tresolution\t\tresolved\t\tresort\t\trespect\t\trespectful\t\tresponce\t\trespond\t\tresponding\t\tresponse\t\tresponsibilities\t\tresponsibility\t\tresponsible\t\trest\t\trestaurant\t\trestock\t\trestocked\t\trestrict\t\trestrictions\t\tresub\t\tresubbing\t\tresubmit\t\tresult\t\tresults\t\tresume\t\tresuming\t\tretard\t\tretired\t\tretrieve\t\treturn\t\treturned\t\treturning\t\treturns\t\treunion\t\treveal\t\trevealed\t\trevealing\t\treverse\t\treview\t\trevision\t\treward\t\trewarding\t\trg\t\trgds\t\trgent\t\trhode\t\trhythm\t\trice\t\trich\t\triddance\t\tridden\t\tride\t\tright\t\trightio\t\trightly\t\trights\t\triley\t\trimac\t\tring\t\tringing\t\trings\t\tringtone\t\tringtoneget\t\tringtoneking\t\tringtonekingcouk\t\tringtones\t\trinu\t\trip\t\tripped\t\trise\t\trisk\t\trisks\t\trite\t\tritten\t\triver\t\troad\t\troads\t\troast\t\trob\t\trobinson\t\trobs\t\trock\t\trocking\t\trocks\t\trodds\t\trodger\t\trofl\t\troger\t\trole\t\troles\t\trolled\t\troller\t\tromantic\t\tromcapspam\t\tron\t\troom\t\troomate\t\troommate\t\troommates\t\trooms\t\tros\t\trose\t\troses\t\trough\t\tround\t\trounder\t\trounds\t\troute\t\trow\t\trowdy\t\trows\t\trowwjhl\t\troyal\t\trp\t\trpl\t\trply\t\trr\t\trs\t\trstm\t\trtking\t\trtm\t\trto\t\tru\t\trub\t\trubber\t\trude\t\trudi\t\trugby\t\truin\t\truining\t\trule\t\trules\t\trum\t\trumbling\t\trummer\t\trumour\t\trun\t\trunning\t\trunninglets\t\truns\t\trupaul\t\trush\t\trushing\t\trv\t\trvx\t\trwm\t\tryan\t\tryder\t\ts\t\tsabarish\t\tsac\t\tsachin\t\tsachinjust\t\tsack\t\tsacked\t\tsacrifice\t\tsad\t\tsae\t\tsaeed\t\tsafe\t\tsafely\t\tsafety\t\tsagamu\t\tsaibaba\t\tsaid\t\tsake\t\tsalad\t\tsalam\t\tsalary\t\tsale\t\tsales\t\tsalesman\t\tsalespee\t\tsall\t\tsalmon\t\tsalon\t\tsalt\t\tsam\t\tsamachara\t\tsamantha\t\tsambarlife\t\tsamus\t\tsandiago\t\tsane\t\tsang\t\tsankatmochan\t\tsankranti\t\tsanta\t\tsao\t\tsapna\t\tsar\t\tsara\t\tsarasota\t\tsarcasm\t\tsarcastic\t\tsaristar\t\tsariyag\t\tsary\t\tsashimi\t\tsat\t\tsatanic\t\tsathy\t\tsathya\t\tsatisfied\t\tsatisfy\t\tsatlove\t\tsatsgettin\t\tsatthen\t\tsaturday\t\tsaucy\t\tsausage\t\tsavamob\t\tsavamobmember\t\tsave\t\tsaved\t\tsaves\t\tsavings\t\tsaw\t\tsay\t\tsayask\t\tsayhey\t\tsayin\t\tsaying\t\tsays\t\tsayy\t\tsc\t\tscallies\t\tscammers\t\tscarcasim\t\tscared\t\tscary\t\tscenario\t\tscenery\t\tsch\t\tschedule\t\tschool\t\tschools\t\tscience\t\tscold\t\tscorable\t\tscore\t\tscores\t\tscoring\t\tscotch\t\tscotland\t\tscotsman\t\tscouse\t\tscraped\t\tscrappy\t\tscratches\t\tscratching\t\tscream\t\tscreamed\t\tscreaming\t\tscreen\t\tscrewd\t\tscrounge\t\tscrumptious\t\tsculpture\t\tsd\t\tsday\t\tsdrybi\t\tse\t\tsea\t\tsearch\t\tsearching\t\tseason\t\tseat\t\tsec\t\tsecond\t\tsecondary\t\tseconds\t\tsecret\t\tsecretary\t\tsecretly\t\tsecrets\t\tsecs\t\tsection\t\tsections\t\tsecure\t\tsecured\t\tsed\t\tsee\t\tseeds\t\tseeing\t\tseekers\t\tseeking\t\tseem\t\tseemed\t\tseems\t\tseen\t\tsef\t\tseh\t\tsehwag\t\tseing\t\tselect\t\tselected\t\tselection\t\tself\t\tselfindependence\t\tselfish\t\tselflessness\t\tsell\t\tselling\t\tsells\t\tsem\t\tsemester\t\tsemi\t\tsemiobscure\t\tsen\t\tsend\t\tsender\t\tsending\t\tsends\t\tsenor\t\tsenrddnot\t\tsense\t\tsensesrespect\t\tsensible\t\tsensitive\t\tsent\t\tsentence\t\tsenthil\t\tsenthilhsbc\t\tsentiment\t\tseperated\t\tsept\t\tseptember\t\tserena\t\tseries\t\tserious\t\tseriously\t\tserved\t\tserver\t\tservice\t\tservices\t\tserving\t\tservs\t\tset\t\tsetting\t\tsettings\t\tsettle\t\tsettled\t\tsettling\t\tseven\t\tseventeen\t\tseveral\t\tsex\t\tsexiest\t\tsextextukcom\t\tsexual\t\tsexy\t\tsexychat\t\tsez\t\tsf\t\tsfine\t\tsh\t\tsha\t\tshade\t\tshadow\t\tshag\t\tshagged\t\tshah\t\tshahjahan\t\tshakara\t\tshake\t\tshakespeare\t\tshaking\t\tshall\t\tshame\t\tshampain\t\tshangela\t\tshanghai\t\tshanil\t\tshant\t\tshaping\t\tshare\t\tshared\t\tsharing\t\tshattered\t\tshaved\t\tshb\t\tshd\t\tsheet\t\tsheets\t\tsheffield\t\tshelf\t\tshell\t\tshelves\t\tsherawat\t\tshes\t\tshesil\t\tshexy\t\tshhhhh\t\tshifad\t\tshijas\t\tshijutta\t\tshinco\t\tshindig\t\tshining\t\tshiny\t\tship\t\tshipped\t\tshipping\t\tshirt\t\tshirts\t\tshit\t\tshite\t\tshitin\t\tshitinnit\t\tshitjustfound\t\tshitload\t\tshitstorm\t\tshivratri\t\tshld\t\tshldxxxx\t\tshock\t\tshocking\t\tshoes\t\tshola\t\tshoot\t\tshop\t\tshoppin\t\tshopping\t\tshopwe\t\tshoranur\t\tshore\t\tshort\t\tshortage\t\tshortcode\t\tshorter\t\tshortly\t\tshorts\t\tshot\t\tshoul\t\tshoulders\t\tshouted\t\tshouting\t\tshove\t\tshoving\t\tshow\t\tshowed\t\tshower\t\tshowered\t\tshowers\t\tshowing\t\tshowr\t\tshowrooms\t\tshows\t\tshracomorsglsuplt\t\tshrek\t\tshrink\t\tshrub\t\tshu\t\tshud\t\tshudvetold\t\tshuhui\t\tshun\t\tshut\t\tshy\t\tsi\t\tsian\t\tsib\t\tsic\t\tsick\t\tsickness\t\tsicomo\t\tside\t\tsigh\t\tsighs\t\tsight\t\tsign\t\tsignal\t\tsignificance\t\tsignificant\t\tsignin\t\tsigning\t\tsiguviri\t\tsilence\t\tsilent\t\tsilently\t\tsilly\t\tsilver\t\tsim\t\tsimonwatson\t\tsimple\t\tsimpler\t\tsimply\t\tsimpsons\t\tsimulate\t\tsince\t\tsinco\t\tsindu\t\tsing\t\tsingapore\t\tsinging\t\tsingle\t\tsingles\t\tsink\t\tsip\t\tsipix\t\tsips\t\tsir\t\tsirjii\t\tsis\t\tsister\t\tsisters\t\tsit\t\tsite\t\tsitll\t\tsitter\t\tsittin\t\tsitting\t\tsituation\t\tsituations\t\tsiva\t\tsix\t\tsize\t\tsized\t\tsk\t\tskateboarding\t\tskilgme\t\tskilgmetscswinawk\t\tskillgame\t\tskillgamewinaweek\t\tskills\t\tskinny\t\tskins\t\tskint\t\tskip\t\tskirt\t\tskxh\t\tsky\t\tskye\t\tskype\t\tskyped\t\tskyving\t\tslaaaaave\t\tslacking\t\tslap\t\tslave\t\tsleep\t\tsleepin\t\tsleeping\t\tsleepingwith\t\tsleeps\t\tsleepwell\t\tsleepy\t\tslept\t\tslice\t\tslices\t\tslide\t\tsliding\t\tslightly\t\tslip\t\tslippers\t\tslippery\t\tslo\t\tslob\t\tslots\t\tslovely\t\tslow\t\tslower\t\tslowing\t\tslowly\t\tslp\t\tslurp\t\tsmacks\t\tsmall\t\tsmaller\t\tsmart\t\tsmartcall\t\tsmarter\t\tsmash\t\tsmashed\t\tsmear\t\tsmell\t\tsmells\t\tsmeone\t\tsmidgin\t\tsmile\t\tsmiled\t\tsmiles\t\tsmiley\t\tsmiling\t\tsmith\t\tsmithswitch\t\tsmoke\t\tsmoked\t\tsmokes\t\tsmokin\t\tsmoking\t\tsmoothly\t\tsms\t\tsmsing\t\tsmsservices\t\tsmsshsexnetun\t\tsmth\t\tsn\t\tsnake\t\tsnap\t\tsnappy\t\tsnatch\t\tsnd\t\tsneham\t\tsnervous\t\tsnickering\t\tsnogs\t\tsnoringthey\t\tsnow\t\tsnowball\t\tsnowboarding\t\tsnowman\t\tsnuggles\t\tso\t\tsoc\t\tsochte\t\tsocial\t\tsofa\t\tsoft\t\tsoftware\t\tsoil\t\tsoiree\t\tsol\t\tsoladha\t\tsold\t\tsolihull\t\tsolve\t\tsolved\t\tsome\t\tsomebody\t\tsomeday\t\tsomeone\t\tsomeonone\t\tsomeplace\t\tsomerset\t\tsometext\t\tsomethin\t\tsomething\t\tsometime\t\tsometimerakhesh\t\tsometimes\t\tsometme\t\tsomewhat\t\tsomewhere\t\tsomewheresomeone\t\tsomewhr\t\tsomone\t\tsomtimes\t\tsonathaya\t\tsonetimes\t\tsong\t\tsongs\t\tsony\t\tsonyericsson\t\tsoo\t\tsoon\t\tsoonc\t\tsooner\t\tsoonlots\t\tsoonxxx\t\tsooo\t\tsoooo\t\tsooooo\t\tsophas\t\tsore\t\tsorrow\t\tsorrowsi\t\tsorry\t\tsorryi\t\tsort\t\tsorta\t\tsorted\t\tsorting\t\tsorts\t\tsory\t\tsoryda\t\tsos\t\tsoso\t\tsoul\t\tsound\t\tsounding\t\tsounds\t\tsoundtrack\t\tsoup\t\tsource\t\tsources\t\tsouth\t\tsouthern\t\tsouveniers\t\tsoz\t\tsp\t\tspace\t\tspacebucks\t\tspaces\t\tspageddies\t\tspain\t\tspam\t\tspanish\t\tspare\t\tspares\t\tspark\t\tsparkling\t\tspatula\t\tspeak\t\tspeaking\t\tspecial\t\tspecialcall\t\tspeciale\t\tspecialisation\t\tspecialise\t\tspecially\t\tspecific\t\tspecify\t\tspecs\t\tspeechless\t\tspeed\t\tspeedchat\t\tspeeding\t\tspeling\t\tspell\t\tspelled\t\tspelling\t\tspend\t\tspending\t\tspent\t\tspice\t\tspider\t\tspiderman\t\tspiffing\t\tspile\t\tspin\t\tspinout\t\tspiral\t\tspirit\t\tspiritual\t\tspjanuary\t\tspk\t\tspl\t\tsplash\t\tsplashmobile\t\tsplat\t\tsplendid\t\tsplit\t\tsplleing\t\tspoil\t\tspoiled\t\tspoilt\t\tspoke\t\tspoken\t\tsponsors\t\tspontaneously\t\tspook\t\tspoon\t\tspoons\t\tsporadically\t\tsport\t\tsports\t\tsportsx\t\tspose\t\tspot\t\tspotty\t\tspouse\t\tsppok\t\tspreadsheet\t\tspree\t\tspring\t\tsprings\t\tsprint\t\tsptv\t\tspunout\t\tspys\t\tsq\t\tsquatting\t\tsqueeeeeze\t\tsqueezed\t\tsquid\t\tsquishy\t\tsrs\t\tsrsly\t\tsrt\t\tsry\t\tss\t\tst\t\tstability\t\tstable\t\tstadium\t\tstaff\t\tstaffsciencenusedusgphyhcmkteachingpc\t\tstage\t\tstagwood\t\tstairs\t\tstalk\t\tstalking\t\tstamped\t\tstamps\t\tstand\t\tstandard\t\tstanding\t\tstands\t\tstapati\t\tstar\t\tstarer\t\tstaring\t\tstarring\t\tstars\t\tstarshine\t\tstart\t\tstarted\t\tstartedindia\t\tstarti\t\tstarting\t\tstarts\t\tstarve\t\tstarving\t\tstarwars\t\tstash\t\tstated\t\tstatement\t\tstatements\t\tstation\t\tstatus\t\tstay\t\tstayed\t\tstayin\t\tstaying\t\tstays\t\tstchoicecouk\t\tstd\t\tstdtxtrate\t\tsteak\t\tsteal\t\tstealing\t\tsteam\t\tsteamboat\t\tsteed\t\tsteering\t\tstep\t\tsteps\t\tstereo\t\tstereophonics\t\tsterling\t\tsterm\t\tsteve\t\tstewartsize\t\tsteyn\t\tsth\t\tsthis\t\tstick\t\tsticky\t\tstifled\t\tstil\t\tstill\t\tstillmaybe\t\tstink\t\tstitch\t\tstock\t\tstocked\t\tstockport\t\tstolen\t\tstomach\t\tstomps\t\tstone\t\tstoners\t\tstones\t\tstool\t\tstop\t\tstopbcm\t\tstopcost\t\tstopcs\t\tstopped\t\tstops\t\tstopsms\t\tstopsmsppm\t\tstopstop\t\tstoptx\t\tstoptxt\t\tstoptxtstopweek\t\tstore\t\tstorelike\t\tstores\t\tstories\t\tstorming\t\tstory\t\tstr\t\tstraight\t\tstrain\t\tstrange\t\tstranger\t\tstream\t\tstreet\t\tstress\t\tstressed\t\tstressful\t\tstressfull\t\tstretch\t\tstrewn\t\tstrict\t\tstrike\t\tstrings\t\tstrip\t\tstripes\t\tstrips\t\tstrokes\t\tstrong\t\tstrongbuy\t\tstrongly\t\tstrt\t\tstrtd\t\tstruggling\t\tsts\t\tstterms\t\tstu\t\tstubborn\t\tstuck\t\tstuddying\t\tstudent\t\tstudentfinancial\t\tstudents\t\tstudies\t\tstudio\t\tstudy\t\tstudying\t\tstudyn\t\tstuff\t\tstuffed\t\tstuffing\t\tstuffleaving\t\tstuffmoro\t\tstuffs\t\tstunning\t\tstupid\t\tstupidits\t\tstyle\t\tstyles\t\tstyling\t\tstylish\t\tstylist\t\tsub\t\tsubject\t\tsubletting\t\tsubmitted\t\tsubmitting\t\tsubpoly\t\tsubs\t\tsubscribe\t\tsubscribed\t\tsubscribegbpmnth\t\tsubscriber\t\tsubscribers\t\tsubscription\t\tsubscriptions\t\tsubscriptngbpwk\t\tsubscrition\t\tsubsequent\t\tsubtoitles\t\tsuccess\t\tsuccessful\t\tsuccessfully\t\tsucker\t\tsuckers\t\tsucks\t\tsudden\t\tsuddenly\t\tsudn\t\tsue\t\tsuffer\t\tsuffering\t\tsuffers\t\tsufficient\t\tsugababes\t\tsuganya\t\tsugar\t\tsugardad\t\tsuggest\t\tsuggestion\t\tsuggestions\t\tsuite\t\tsuitemates\t\tsuits\t\tsullivan\t\tsum\t\tsumfing\t\tsummer\t\tsummers\t\tsummon\t\tsumthin\t\tsun\t\tsunday\t\tsundayish\t\tsunlight\t\tsunny\t\tsunoco\t\tsunroof\t\tsunscreen\t\tsunshine\t\tsuntec\t\tsup\t\tsuper\t\tsuperb\t\tsuperior\t\tsupervisor\t\tsuply\t\tsupose\t\tsuppliers\t\tsupplies\t\tsupply\t\tsupport\t\tsupportproviding\t\tsupports\t\tsuppose\t\tsupposed\t\tsupreme\t\tsuprman\t\tsura\t\tsure\t\tsurely\t\tsurf\t\tsurfing\t\tsurgical\t\tsurly\t\tsurname\t\tsurprise\t\tsurprised\t\tsurrender\t\tsurrounded\t\tsurvey\t\tsurya\t\tsutra\t\tsux\t\tsuzy\t\tsvc\t\tsw\t\tswalpa\t\tswan\t\tswann\t\tswap\t\tswashbuckling\t\tswat\t\tswatch\t\tsway\t\tswayze\t\tswear\t\tsweater\t\tsweatter\t\tsweet\t\tsweetest\t\tsweetheart\t\tsweetie\t\tsweets\t\tswell\t\tswhrt\t\tswimming\t\tswimsuit\t\tswing\t\tswiss\t\tswitch\t\tswollen\t\tswoop\t\tswss\t\tswt\t\tswtheart\t\tsxy\t\tsyd\t\tsyllabus\t\tsymbol\t\tsympathetic\t\tsymptoms\t\tsynced\t\tsyria\t\tsyrup\t\tsystem\t\tsystems\t\tt\t\tta\t\ttable\t\ttablet\t\ttablets\t\ttackle\t\ttacos\t\ttactful\t\ttactless\t\ttadaaaaa\t\ttag\t\ttagged\t\ttahan\t\ttai\t\ttait\t\ttaj\t\ttaka\t\ttake\t\ttakecare\t\ttaken\t\ttakes\t\ttakin\t\ttaking\t\ttalent\t\ttalents\t\ttalk\t\ttalkbut\t\ttalked\t\ttalkin\t\ttalking\t\ttalks\t\ttall\t\ttallahassee\t\ttallent\t\ttamilnadu\t\ttampa\t\ttank\t\ttantrum\t\ttap\t\ttape\t\ttariffs\t\ttarot\t\ttarpon\t\ttaste\t\ttasts\t\ttat\t\ttata\t\ttats\t\ttattoos\t\ttau\t\ttaught\t\ttaunton\t\ttaxes\t\ttaxi\t\ttaxless\t\ttaxt\t\ttaylor\t\ttayseer\t\ttb\t\ttbspersolvo\t\ttc\t\ttcllc\t\ttcrw\t\ttcs\t\ttddnewsletter\t\ttea\t\tteach\t\tteacher\t\tteachers\t\tteaches\t\tteaching\t\tteacoffee\t\tteam\t\tteams\t\ttear\t\ttears\t\ttease\t\tteasing\t\ttech\t\ttechnical\t\ttechnologies\t\ttee\t\tteenager\t\tteeth\t\tteju\t\ttel\t\ttelephone\t\ttelephonic\t\tteletext\t\ttell\t\ttelling\t\ttellmiss\t\ttells\t\ttelly\t\ttelphone\t\ttelugu\t\ttemales\t\ttemp\t\ttemper\t\ttemple\t\tten\t\ttenants\t\ttendencies\t\ttenerife\t\ttensed\t\ttension\t\tteresa\t\tterm\t\tterminatedwe\t\tterms\t\ttermsapply\t\tterrible\t\tterrific\t\tterror\t\tterrorist\t\tterry\t\ttescos\t\ttessy\t\ttest\t\ttesting\t\ttests\t\ttex\t\ttexas\t\ttexd\t\ttext\t\ttextand\t\ttextbook\t\ttextbuddy\t\ttextcomp\t\ttexted\t\ttextin\t\ttexting\t\ttextoperator\t\ttextpod\t\ttexts\t\ttextsweekend\t\ttfp\t\ttgxxrz\t\tth\t\tthandiyachu\t\tthangam\t\tthangamit\t\tthank\t\tthanks\t\tthanksgiving\t\tthanku\t\tthankyou\t\tthanx\t\tthanxxx\t\tthasa\t\tthat\t\tthatdont\t\tthati\t\tthatmum\t\tthats\t\tthatscool\t\tthatworzels\t\tthe\t\ttheacusations\t\ttheater\t\ttheatre\t\tthecd\t\tthedailydraw\t\tthekingshead\t\tthemed\t\tthemes\t\tthemob\t\tthenwill\t\ttheoretically\t\ttheory\t\ttheplace\t\tthepub\t\ttheregoodnight\t\ttheres\t\ttherexx\t\tthesedays\t\tthesis\t\tthesmszonecom\t\tthet\t\ttheth\t\tthewend\t\ttheyre\t\tthfebt\t\tthgt\t\tthia\t\tthin\t\tthing\t\tthingi\t\tthings\t\tthink\t\tthinked\t\tthinkin\t\tthinking\t\tthinks\t\tthinkthis\t\tthinl\t\tthirtyeight\t\tthirunelvali\t\tthk\t\tthkin\t\tthm\t\tthmarch\t\tthnk\t\tthnovbehind\t\tthnq\t\tthnx\t\ttho\t\tthot\t\tthou\t\tthough\t\tthought\t\tthoughts\t\tthoughtsi\t\tthousadi\t\tthousands\t\tthout\t\tthread\t\tthreats\t\tthree\t\tthrew\t\tthriller\t\tthroat\t\tthrow\t\tthrowin\t\tthrowing\t\tthrown\t\tthrows\t\tthru\t\tthrurespect\t\tths\t\ttht\t\tthts\t\tthuglyfe\t\tthurs\t\tthursday\t\tthus\t\tthx\t\tthy\t\ttick\t\tticket\t\ttickets\t\ttiempo\t\ttiepos\t\ttiger\t\ttight\t\ttightly\t\ttigress\t\ttihs\t\ttiime\t\ttil\t\ttill\t\ttim\t\ttime\t\ttimehope\t\ttimes\t\ttimeyou\t\ttimeyour\t\ttimi\t\ttimin\t\ttiming\t\ttimings\t\ttiny\t\ttip\t\ttips\t\ttired\t\ttiring\t\ttirunelvai\t\ttirunelvali\t\ttirupur\t\ttis\t\ttissco\t\ttitle\t\ttitles\t\ttitleso\t\ttiwary\t\ttix\t\ttiz\t\ttke\t\ttkts\t\ttlk\t\ttm\t\ttming\t\ttmobile\t\ttmorrowpls\t\ttmr\t\ttmrw\t\ttms\t\ttmw\t\ttnc\t\ttncs\t\ttoa\t\ttoaday\t\ttobacco\t\ttobed\t\ttocallshall\t\ttoclaim\t\ttoday\t\ttodaydo\t\ttodaygood\t\ttodayhe\t\ttodays\t\ttodaysunday\t\ttodo\t\ttog\t\ttogether\t\ttohar\t\ttoilet\t\ttok\t\ttoken\t\ttoking\t\ttol\t\ttold\t\ttoledo\t\ttolerance\t\ttoleratbcs\t\ttoll\t\ttom\t\ttomarrow\t\ttome\t\ttomeandsaid\t\ttomo\t\ttomorro\t\ttomorrow\t\ttomorrowcall\t\ttomorrowtoday\t\ttomorw\t\ttone\t\ttones\t\ttonesu\t\ttonesyoucouk\t\ttonexs\t\ttonght\t\ttongued\t\ttonight\t\ttonights\t\ttonite\t\ttonitebusy\t\ttonitethings\t\ttons\t\ttonsolitusaswell\t\ttook\t\ttookplace\t\ttool\t\ttoolets\t\ttooo\t\ttoopray\t\ttoot\t\ttoothpaste\t\ttootsie\t\ttop\t\ttopic\t\ttoplay\t\ttopped\t\ttoppoly\t\ttops\t\ttor\t\ttorch\t\ttorrents\t\ttortilla\t\ttorture\t\ttosend\t\ttoshiba\t\ttoss\t\ttot\t\ttotal\t\ttotally\t\ttotes\t\ttouch\t\ttouched\t\ttough\t\ttoughest\t\ttour\t\ttowards\t\ttown\t\ttowndontmatter\t\ttoxic\t\ttoyota\t\ttp\t\ttrack\t\ttrackmarque\t\ttrade\t\ttraditions\t\ttraffic\t\ttrain\t\ttrained\t\ttraining\t\ttrainners\t\ttrains\t\ttram\t\ttranquility\t\ttransaction\t\ttranscribing\t\ttransfer\t\ttransfered\t\ttransferred\t\ttransfr\t\ttransfred\t\ttransport\t\ttrash\t\ttrauma\t\ttrav\t\ttravel\t\ttraveling\t\ttravelled\t\ttravelling\t\ttreacle\t\ttreadmill\t\ttreasure\t\ttreat\t\ttreated\t\ttreatin\t\ttreats\t\ttrebles\t\ttree\t\ttrek\t\ttrends\t\ttrial\t\ttried\t\ttrip\t\ttriple\t\ttrips\t\ttrishul\t\ttriumphed\t\ttron\t\ttrouble\t\ttroubleshooting\t\ttrouser\t\ttruble\t\ttruck\t\ttrue\t\ttruffles\t\ttruly\t\ttruro\t\ttrust\t\ttrusting\t\ttruth\t\ttruthful\t\ttry\t\ttryin\t\ttrying\t\tts\t\ttsandcs\t\ttscs\t\ttscswinawk\t\ttshirt\t\ttsunami\t\ttsunamis\t\ttt\t\tttyl\t\ttue\t\ttues\t\ttuesday\t\ttui\t\ttuition\t\ttul\t\ttulip\t\ttulsi\t\ttunde\t\ttune\t\ttunji\t\tturkeys\t\tturn\t\tturned\t\tturning\t\tturns\t\ttuth\t\ttv\t\ttwat\t\ttwelve\t\ttwenty\t\ttwice\t\ttwiggs\t\ttwilight\t\ttwinks\t\ttwins\t\ttwittering\t\ttwo\t\ttx\t\ttxt\t\ttxtauction\t\ttxtcom\t\ttxtcouk\t\ttxtin\t\ttxting\t\ttxtjourney\t\ttxtmth\t\ttxtno\t\ttxtp\t\ttxts\t\ttxtstar\t\ttxtstop\t\ttxtx\t\ttyler\t\ttype\t\ttypes\t\ttypical\t\ttyrone\t\tu\t\tuawake\t\tubandu\t\tubi\t\tucall\t\tud\t\tufind\t\tugadi\t\tugh\t\tugo\t\tuh\t\tuhhhhrmm\t\tui\t\tuin\t\tujhhhhhhh\t\tuk\t\tukmobiledate\t\tukp\t\tuks\t\tultimate\t\tultimately\t\tultimatum\t\tum\t\tumma\t\tummifying\t\tummmawill\t\tummmmmaah\t\tumoro\t\tun\t\tunable\t\tunbelievable\t\tunbreakable\t\tunclaimed\t\tuncle\t\tuncles\t\tuncomfortable\t\tunconditionally\t\tunconscious\t\tunconsciously\t\tunconvinced\t\tuncountable\t\tuncut\t\tunderdtand\t\tunderstand\t\tunderstanding\t\tunderstood\t\tunderwear\t\tundrstnd\t\tundrstndng\t\tunemployed\t\tuneventful\t\tunfolds\t\tunfortunately\t\tunfortuntly\t\tunhappiness\t\tunhappy\t\tuni\t\tunicef\t\tuniform\t\tunintentional\t\tunintentionally\t\tunique\t\tunited\t\tunits\t\tuniv\t\tuniversity\t\tunjalur\t\tunkempt\t\tunknown\t\tunless\t\tunlike\t\tunlimited\t\tunmits\t\tunnecessarily\t\tunni\t\tunrecognized\t\tunredeemed\t\tunsecured\t\tunsold\t\tunsoldmike\t\tunsoldnow\t\tunspoken\t\tunsub\t\tunsubscribe\t\tunsubscribed\t\tuntamed\t\tunusual\t\tuothrwise\t\tup\t\tupcharge\t\tupd\t\tupdat\t\tupdate\t\tupdatenow\t\tupgrade\t\tupgrading\t\tupgrdcentre\t\tupload\t\tuploaded\t\tupnot\t\tupon\t\tupping\t\tups\t\tupset\t\tupseti\t\tupstairs\t\tupto\t\tuptown\t\tupyeh\t\tur\t\ture\t\turfeeling\t\turgent\t\turgentbut\t\turgently\t\turgh\t\turgnt\t\turgoin\t\turgran\t\turination\t\turl\t\turmomi\t\turn\t\turself\t\tus\t\tusb\t\tusc\t\tuscedu\t\tuse\t\tused\t\tuseful\t\tuseless\t\tuser\t\tuses\t\tusf\t\tusget\t\tusher\t\tusing\t\tuslet\t\tusmle\t\tuso\t\tusps\t\tusual\t\tusually\t\tuterus\t\tutter\t\tuttered\t\tutxt\t\tuup\t\tuv\t\tuve\t\tuwana\t\tuwant\t\tuworld\t\tuz\t\tv\t\tva\t\tvaazhthukkal\t\tvague\t\tvaguely\t\tvale\t\tvalentine\t\tvalentines\t\tvalid\t\tvalidhrs\t\tvaluable\t\tvalue\t\tvalued\t\tvaluemorning\t\tvalues\t\tvaluing\t\tvaraya\t\tvargu\t\tvarious\t\tvarma\t\tvary\t\tvasai\t\tvat\t\tvatian\t\tvava\t\tvco\t\tvday\t\tve\t\tvegas\t\tvegetables\t\tveggie\t\tvehicle\t\tvelachery\t\tvelly\t\tvelusamy\t\tvenaam\t\tvenugopal\t\tverified\t\tverify\t\tverifying\t\tversion\t\tversus\t\tvery\t\tvettam\t\tvewy\t\tvia\t\tvibrant\t\tvibrate\t\tvibrator\t\tvic\t\tvictoria\t\tvictors\t\tvid\t\tvideo\t\tvideochat\t\tvideophones\t\tvideopic\t\tvideos\t\tvideosound\t\tvideosounds\t\tview\t\tvijay\t\tvijaykanth\t\tvikky\t\tvilikkam\t\tvill\t\tvilla\t\tvillage\t\tvinobanagar\t\tviolated\t\tviolence\t\tviolet\t\tvip\t\tvipclubu\t\tvirgil\t\tvirgin\t\tvirgins\t\tvirtual\t\tvisa\t\tvisionsmscom\t\tvisit\t\tvisiting\t\tvisitneed\t\tvisitor\t\tvisitors\t\tvital\t\tvitamin\t\tviva\t\tvivek\t\tvivekanand\t\tvl\t\tvoda\t\tvodafone\t\tvodka\t\tvoice\t\tvoicemail\t\tvoila\t\tvolcanoes\t\tvomit\t\tvomitin\t\tvomiting\t\tvote\t\tvoted\t\tvoucher\t\tvouchers\t\tvoucherstext\t\tvpist\t\tvpod\t\tvry\t\tvs\t\tvth\t\tvtired\t\tvu\t\tw\t\twa\t\twaaaat\t\twad\t\twadebridgei\t\twah\t\twahala\t\twahay\t\twaheed\t\twaheeda\t\twahleykkumsharing\t\twaht\t\twait\t\twaited\t\twaiti\t\twaitin\t\twaiting\t\twake\t\twaking\t\twales\t\twaliking\t\twalk\t\twalkabout\t\twalked\t\twalkin\t\twalking\t\twalks\t\twall\t\twallet\t\twallpaper\t\twallpaperall\t\twalls\t\twalmart\t\twalsall\t\twamma\t\twan\t\twana\t\twannatell\t\twant\t\twantcome\t\twanted\t\twanting\t\twants\t\twap\t\twaqt\t\tward\t\twarm\t\twarming\t\twarned\t\twarner\t\twarning\t\twarranty\t\twarwick\t\twashob\t\twasnt\t\twaste\t\twasted\t\twasting\t\twat\t\twatch\t\twatched\t\twatches\t\twatchin\t\twatching\t\twatchng\t\twater\t\twatershd\t\twatever\t\twatevr\t\twating\t\twatrdayno\t\twats\t\twatts\t\twaves\t\twaxsto\t\tway\t\twaysmscom\t\twb\t\twc\t\twcn\t\twcnxx\t\twe\t\tweak\t\tweakness\t\tweaknesses\t\tweapon\t\twear\t\twearing\t\tweaseling\t\tweasels\t\tweather\t\tweb\t\twebadres\t\twebeburnin\t\twebmobile\t\twebpage\t\twebsite\t\twed\t\tweddin\t\twedding\t\tweddingfriend\t\twedlunch\t\twednesday\t\tweds\t\twee\t\tweed\t\tweeddeficient\t\tweek\t\tweekdays\t\tweekend\t\tweekends\t\tweekly\t\tweeks\t\tweekstop\t\tweigh\t\tweighed\t\tweight\t\tweightloss\t\tweird\t\tweirdest\t\tweirdo\t\tweirdy\t\tweiyi\t\twelcome\t\twelcomes\t\twell\t\twellda\t\twellyou\t\twelp\t\twen\t\twendy\t\twenever\t\twent\t\twenwecan\t\twer\t\twereare\t\twerebored\t\twerethe\t\twesley\t\twesleys\t\twest\t\twestern\t\twestlife\t\twestonzoyland\t\twestshore\t\twet\t\twetherspoons\t\tweve\t\twewa\t\twhassup\t\twhatever\t\twhats\t\twhatsup\t\twheat\t\twheel\t\twheellock\t\twhenever\t\twhenevr\t\twhens\t\twhenwhere\t\twhereare\t\twherever\t\twherevr\t\twherre\t\twhether\t\twhilltake\t\twhispers\t\twhite\t\twhn\t\twhoever\t\twhole\t\twhore\t\twhos\t\twhose\t\twhr\t\twi\t\twicked\t\twicket\t\twicklow\t\twid\t\twidelivecomindex\t\twif\t\twife\t\twifedont\t\twifehow\t\twifes\t\twifi\t\twihtuot\t\twikipediacom\t\twil\t\twild\t\twildest\t\twildlife\t\twilling\t\twillpower\t\twin\t\twinaweek\t\twinawk\t\twind\t\twindow\t\twindows\t\twinds\t\twindy\t\twine\t\twined\t\twings\t\twining\t\twinner\t\twinnersclub\t\twinning\t\twinppmxage\t\twins\t\twinterstone\t\twipe\t\twipro\t\twirenet\t\twisdom\t\twise\t\twish\t\twisheds\t\twishes\t\twishin\t\twishing\t\twishlist\t\twiskey\t\twit\t\twithdraw\t\twither\t\twithin\t\twithout\t\twitin\t\twitot\t\twitout\t\twiv\t\twizzle\t\twj\t\twk\t\twkend\t\twkentp\t\twkg\t\twkly\t\twknd\t\twks\t\twktxt\t\twlcome\t\twld\t\twml\t\twn\t\twnevr\t\twnt\t\two\t\twoah\t\twocay\t\twoke\t\twoken\t\twoman\t\twomdarfull\t\twomen\t\twondar\t\twondarfull\t\twonder\t\twonderful\t\twondering\t\twonders\t\twont\t\twoo\t\twoodland\t\twoods\t\twoohoo\t\twoot\t\twoould\t\twoozles\t\tworc\t\tword\t\twords\t\twordsevry\t\twork\t\tworkage\t\tworkand\t\tworkin\t\tworking\t\tworkout\t\tworks\t\tworld\t\tworlds\t\tworms\t\tworried\t\tworries\t\tworry\t\tworryc\t\tworrying\t\tworse\t\tworst\t\tworth\t\tworthless\t\twot\t\twotu\t\twotz\t\twoul\t\twould\t\twoulda\t\twounds\t\twow\t\twp\t\twq\t\twquestion\t\twrc\t\twrd\t\twrecked\t\twrench\t\twrenching\t\twrg\t\twright\t\twrite\t\twrithing\t\twrk\t\twrki\t\twrkin\t\twrking\t\twrks\t\twrld\t\twrnog\t\twrong\t\twrongly\t\twrote\t\tws\t\twt\t\twtc\t\twtf\t\twth\t\twthout\t\twtjy\t\twu\t\twud\t\twuld\t\twuldnt\t\twun\t\twwq\t\twwwapplausestorecom\t\twwwareyouuniquecouk\t\twwwasjesuscom\t\twwwbiz\t\twwwbridalpetticoatdreamscouk\t\twwwbubbletextcom\t\twwwbutelecom\t\twwwcashbincouk\t\twwwclubmobycom\t\twwwclubzedcouk\t\twwwcnupdatescomnewsletter\t\twwwcom\t\twwwcomuknet\t\twwwdbuknet\t\twwwetlpcoukexpressoffer\t\twwwetlpcoukreward\t\twwwflirtpartyus\t\twwwfullonsmscom\t\twwwgambtv\t\twwwgetzedcouk\t\twwwidewcom\t\twwwldewcom\t\twwwldewcomsubswinppmx\t\twwwldewcomwinppmxage\t\twwwldewcomwinppmxagesubscription\t\twwwmovietriviatv\t\twwwmusictrivianet\t\twwworangecoukow\t\twwwpercentrealcom\t\twwwphbcom\t\twwwregalportfoliocouk\t\twwwringtonekingcouk\t\twwwringtonescouk\t\twwwrtfsphostingcom\t\twwwsantacallingcom\t\twwwshortbreaksorguk\t\twwwsmsacubootydelious\t\twwwsmsacugoldviking\t\twwwsmsacuhmmross\t\twwwsmsacunat\t\twwwsmsacunataliek\t\twwwsmsconet\t\twwwtcbiz\t\twwwtelediscountcouk\t\twwwtextcompcom\t\twwwtextpodnet\t\twwwtklscom\t\twwwtxtcom\t\twwwtxtshopcom\t\twwwtxttowincouk\t\twwwurawinnercom\t\twwwvouchmecometlpdiningasp\t\twwwwincouk\t\twwwwtlpcouktext\t\twwx\t\twylie\t\tx\t\txafter\t\txam\t\txavier\t\txchat\t\txclusive\t\txin\t\txmas\t\txnet\t\txoxo\t\txpw\t\txpwk\t\txt\t\txuhui\t\txx\t\txxsp\t\txxuk\t\txxx\t\txxxmobilemovieclub\t\txxxmobilemovieclubcom\t\txxxx\t\txxxxx\t\txxxxxx\t\txxxxxxx\t\txxxxxxxx\t\txxxxxxxxx\t\txxxxxxxxxxxxxx\t\txy\t\txyour\t\ty\t\tya\t\tyah\t\tyahoo\t\tyalrigu\t\tyalru\t\tyam\t\tyan\t\tyar\t\tyarasu\t\tyards\t\tyavnt\t\tyaxx\t\tyaxxx\t\tyay\t\tyck\t\tyday\t\tyeah\t\tyear\t\tyears\t\tyeesh\t\tyeh\t\tyelling\t\tyellow\t\tyelow\t\tyen\t\tyeovil\t\tyep\t\tyer\t\tyes\t\tyeshe\t\tyesi\t\tyesmum\t\tyest\t\tyesterday\t\tyet\t\tyetty\t\tyetunde\t\tyf\t\tyhl\t\tyi\t\tyifeng\t\tyijue\t\tym\t\tymca\t\tyo\t\tyoga\t\tyogasana\t\tyohere\t\tyor\t\tyorge\t\tyoucarlos\t\tyoudoing\t\tyoui\t\tyould\t\tyoumy\t\tyoung\t\tyounger\t\tyouphone\t\tyoure\t\tyourinclusive\t\tyourjob\t\tyouthats\t\tyouuuuu\t\tyouwanna\t\tyoville\t\tyowifes\t\tyoyyooo\t\tyr\t\tyrs\t\tystrdayice\t\tyt\t\tyummmm\t\tyummy\t\tyun\t\tyunny\t\tyuo\t\tyuou\t\tyup\t\tyupz\t\tz\t\tzac\t\tzaher\t\tzealand\t\tzebra\t\tzed\t\tzeros\t\tzf\t\tzhong\t\tzindgi\t\tzoe\t\tzogtorius\t\tzoom\t\tzouk\t\tzs\t\tzyada\t\t"
     ]
    }
   ],
   "source": [
    "for i in bow_df1.columns:\n",
    "    print(i, end='\\t\\t')"
   ]
  },
  {
   "cell_type": "raw",
   "metadata": {},
   "source": [
    "TfidfVectorizer()\n",
    "#Convert a collection of raw documents to a matrix of TF-IDF features"
   ]
  },
  {
   "cell_type": "raw",
   "metadata": {},
   "source": [
    "TfidfTransformer()\n",
    "#Transform a count matrix to a normalized tf or tf-idf representation"
   ]
  },
  {
   "cell_type": "markdown",
   "metadata": {},
   "source": [
    "# Actual Process"
   ]
  },
  {
   "cell_type": "code",
   "execution_count": 1,
   "metadata": {},
   "outputs": [],
   "source": [
    "# Library Imports\n",
    "import pandas as pd\n",
    "import seaborn as sns\n",
    "import matplotlib.pyplot as plt\n",
    "\n",
    "import re\n",
    "import nltk\n",
    "from nltk.corpus import stopwords as sw\n",
    "from string import punctuation as punc\n",
    "from sklearn.feature_extraction.text import TfidfVectorizer\n",
    "\n",
    "from sklearn.model_selection import train_test_split\n",
    "from sklearn.ensemble import RandomForestClassifier\n",
    "from sklearn.naive_bayes import BernoulliNB, MultinomialNB\n",
    "\n",
    "from sklearn.pipeline import Pipeline"
   ]
  },
  {
   "cell_type": "code",
   "execution_count": 2,
   "metadata": {},
   "outputs": [],
   "source": [
    "df = pd.read_csv('SMSSpamCollection.tsv', sep='\\t', names=['type','message'])"
   ]
  },
  {
   "cell_type": "code",
   "execution_count": 3,
   "metadata": {},
   "outputs": [],
   "source": [
    "def text_process(txt):\n",
    "    sentences = nltk.sent_tokenize(txt.lower())\n",
    "    words = []\n",
    "    for sentence in sentences:\n",
    "        s = ' '.join(i for i in sentence.split() if (i not in sw.words('english')) and (re.fullmatch(r'[a-zA-Z0-9]+',i)))\n",
    "        words += [i.strip(\"'\") for i in nltk.word_tokenize(s) if i not in sw.words('english') and i not in punc]    \n",
    "    jw = ' '.join(words)\n",
    "    jw = ''.join([i for i in jw if (i.isalpha() or i==' ') and i.isascii()]).split()\n",
    "    return jw"
   ]
  },
  {
   "cell_type": "code",
   "execution_count": 4,
   "metadata": {},
   "outputs": [],
   "source": [
    "xtrain, xtest, ytrain, ytest = train_test_split(df['message'], df['type'], test_size = 0.2, random_state = 101)"
   ]
  },
  {
   "cell_type": "code",
   "execution_count": 127,
   "metadata": {
    "jupyter": {
     "source_hidden": true
    },
    "tags": []
   },
   "outputs": [],
   "source": [
    "model_pipe = Pipeline(steps = [\n",
    "            ('tfidf', TfidfVectorizer(analyzer=text_process)),\n",
    "            ('model', RandomForestClassifier()),\n",
    "        ]).fit(xtrain,ytrain)\n",
    "print(100*model_pipe.score(xtest,ytest))"
   ]
  },
  {
   "cell_type": "code",
   "execution_count": 137,
   "metadata": {
    "collapsed": true,
    "jupyter": {
     "outputs_hidden": true,
     "source_hidden": true
    },
    "tags": []
   },
   "outputs": [
    {
     "data": {
      "text/plain": [
       "array(['ham'], dtype=object)"
      ]
     },
     "execution_count": 137,
     "metadata": {},
     "output_type": "execute_result"
    }
   ],
   "source": [
    "query = {'message':['i could not see that coming']}\n",
    "model_pipe.predict(query)"
   ]
  },
  {
   "cell_type": "code",
   "execution_count": 5,
   "metadata": {},
   "outputs": [
    {
     "name": "stdout",
     "output_type": "stream",
     "text": [
      "96.49910233393177\n"
     ]
    }
   ],
   "source": [
    "model_pipe_bnb = Pipeline(steps = [\n",
    "            ('tfidf', TfidfVectorizer(analyzer=text_process)),\n",
    "            ('model', BernoulliNB()),\n",
    "        ]).fit(xtrain,ytrain)\n",
    "print(100*model_pipe_bnb.score(xtest,ytest))"
   ]
  },
  {
   "cell_type": "code",
   "execution_count": 143,
   "metadata": {
    "collapsed": true,
    "jupyter": {
     "outputs_hidden": true,
     "source_hidden": true
    },
    "tags": []
   },
   "outputs": [
    {
     "name": "stdout",
     "output_type": "stream",
     "text": [
      "95.9605026929982\n"
     ]
    }
   ],
   "source": [
    "model_pipe_mnb = Pipeline(steps = [\n",
    "            ('tfidf', TfidfVectorizer(analyzer=text_process)),\n",
    "            ('model', MultinomialNB()),\n",
    "        ]).fit(xtrain,ytrain)\n",
    "print(100*model_pipe_mnb.score(xtest,ytest))"
   ]
  },
  {
   "cell_type": "code",
   "execution_count": 6,
   "metadata": {},
   "outputs": [],
   "source": [
    "pd.to_pickle(model_pipe_bnb, 'spampredictor.pkl')"
   ]
  },
  {
   "cell_type": "code",
   "execution_count": null,
   "metadata": {},
   "outputs": [],
   "source": []
  }
 ],
 "metadata": {
  "kernelspec": {
   "display_name": "Python 3",
   "language": "python",
   "name": "python3"
  },
  "language_info": {
   "codemirror_mode": {
    "name": "ipython",
    "version": 3
   },
   "file_extension": ".py",
   "mimetype": "text/x-python",
   "name": "python",
   "nbconvert_exporter": "python",
   "pygments_lexer": "ipython3",
   "version": "3.8.3"
  }
 },
 "nbformat": 4,
 "nbformat_minor": 4
}
